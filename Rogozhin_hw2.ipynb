{
 "cells": [
  {
   "cell_type": "markdown",
   "metadata": {},
   "source": [
    "# Алгоритмы интеллектуальной обработки больших объемов данных\n",
    "## Домашнее задание №2: Линейные модели\n"
   ]
  },
  {
   "cell_type": "markdown",
   "metadata": {},
   "source": [
    "###### <hr\\>\n",
    "**Общая информация**\n",
    "\n",
    "**Срок сдачи:** 05 апреля 18:00 Сдача **очная** на онлайн занятии. <br\\>\n",
    "\n",
    "\n",
    "Используйте данный Ipython Notebook при оформлении домашнего задания.\n",
    "\n",
    "Присылать ДЗ необходимо в виде ссылки на свой github репозиторий на почту ml1.sphere@mail.ru с указанием темы в следующем формате:\n",
    "\n",
    "[ML0920, Задание 2] Фамилия Имя.\n",
    "\n",
    "\n",
    "\n",
    "**Штрафные баллы:**\n",
    "\n",
    "1. Невыполнение PEP8 -1 балл\n",
    "2. Отсутствие фамилии в имени скрипта (скрипт должен называться по аналогии со stroykova_hw2.ipynb) -1 балл\n",
    "3. Все строчки должны быть выполнены. Нужно, чтобы output команды можно было увидеть уже в git'е. В противном случае -1 балл\n",
    "4. При оформлении ДЗ нужно пользоваться данным файлом в качестве шаблона. Не нужно удалять и видоизменять написанный код и текст, если явно не указана такая возможность. В противном случае -1 балл\n",
    "<hr\\>"
   ]
  },
  {
   "cell_type": "code",
   "execution_count": 1,
   "metadata": {},
   "outputs": [],
   "source": [
    "import pandas as pd\n",
    "import numpy as np\n",
    "import matplotlib.pyplot as plt\n",
    "\n",
    "%matplotlib inline\n",
    "\n",
    "plt.style.use('ggplot')\n",
    "plt.rcParams['figure.figsize'] = (12,5)"
   ]
  },
  {
   "cell_type": "markdown",
   "metadata": {},
   "source": [
    "Здравствуйте, уважаемые студенты! \n",
    "\n",
    "В этом задании мы будем реализовать линейные модели. Необходимо реализовать линейную и логистическую регрессии с L2 регуляризацией"
   ]
  },
  {
   "cell_type": "markdown",
   "metadata": {},
   "source": [
    "# Теоретическое введение\n",
    "\n"
   ]
  },
  {
   "cell_type": "markdown",
   "metadata": {},
   "source": [
    "Линейная регрессия решает задачу регрессии и оптимизирует функцию потерь MSE \n",
    "\n",
    "$$L(w) =  \\frac{1}{N}\\left[\\sum_i (y_i - a_i) ^ 2 \\right], $$ где $y_i$ $-$ целевая функция,  $a_i = a(x_i) =  \\langle\\,x_i,w\\rangle ,$ $-$ предсказание алгоритма на объекте $x_i$, $w$ $-$ вектор весов (размерности $D$), $x_i$ $-$ вектор признаков (такой же размерности $D$).\n",
    "\n",
    "Не забываем, что здесь и далее  мы считаем, что в $x_i$ есть тождественный вектор единиц, ему соответствует вес $w_0$.\n"
   ]
  },
  {
   "cell_type": "markdown",
   "metadata": {},
   "source": [
    "Логистическая регрессия является линейным классификатором, который оптимизирует так называемый функционал log loss:"
   ]
  },
  {
   "cell_type": "markdown",
   "metadata": {},
   "source": [
    "$$L(w) = - \\frac{1}{N}\\left[\\sum_i y_i \\log a_i + ( 1 - y_i) \\log (1 - a_i) \\right],$$\n",
    "где  $y_i  \\in \\{0,1\\}$ $-$ метка класса, $a_i$ $-$ предсказание алгоритма на объекте $x_i$. Модель пытается предсказать апостериорую вероятность объекта принадлежать к классу \"1\":\n",
    "$$ p(y_i = 1 | x_i) = a(x_i) =  \\sigma( \\langle\\,x_i,w\\rangle ),$$\n",
    "$w$ $-$ вектор весов (размерности $D$), $x_i$ $-$ вектор признаков (такой же размерности $D$).\n",
    "\n",
    "Функция $\\sigma(x)$ $-$ нелинейная функция, пероводящее скалярное произведение объекта на веса в число $\\in (0,1)$ (мы же моделируем вероятность все-таки!)\n",
    "\n",
    "$$\\sigma(x) = \\frac{1}{1 + \\exp(-x)}$$\n",
    "\n",
    "Если внимательно посмотреть на функцию потерь, то можно заметить, что в зависимости от правильного ответа алгоритм штрафуется или функцией $-\\log a_i$, или функцией $-\\log (1 - a_i)$.\n",
    "\n"
   ]
  },
  {
   "cell_type": "markdown",
   "metadata": {},
   "source": [
    "Часто для решения проблем, которые так или иначе связаны с проблемой переобучения, в функционал качества добавляют слагаемое, которое называют ***регуляризацией***. Итоговый функционал для линейной регрессии тогда принимает вид:\n",
    "\n",
    "$$L(w) =  \\frac{1}{N}\\left[\\sum_i (y_i - a_i) ^ 2 \\right] + \\frac{1}{C}R(w) $$\n",
    "\n",
    "Для логистической: \n",
    "$$L(w) = - \\frac{1}{N}\\left[\\sum_i y_i \\log a_i + ( 1 - y_i) \\log (1 - a_i) \\right] +  \\frac{1}{C}R(w)$$\n",
    "\n",
    "Самое понятие регуляризации введено основателем ВМК академиком Тихоновым https://ru.wikipedia.org/wiki/Метод_регуляризации_Тихонова\n",
    "\n",
    "Идейно методика регуляризации заключается в следующем $-$ мы рассматриваем некорректно поставленную задачу (что это такое можно найти в интернете), для того чтобы сузить набор различных вариантов (лучшие из которых будут являться переобучением ) мы вводим дополнительные ограничения на множество искомых решений. На лекции Вы уже рассмотрели два варианта регуляризации.\n",
    "\n",
    "$L1$ регуляризация:\n",
    "$$R(w) = \\sum_{j=1}^{D}|w_j|$$\n",
    "$L2$ регуляризация:\n",
    "$$R(w) =  \\sum_{j=1}^{D}w_j^2$$\n",
    "\n",
    "С их помощью мы ограничиваем модель в  возможности выбора каких угодно весов минимизирующих наш лосс, модель уже не сможет подстроиться под данные как ей угодно. \n",
    "\n",
    "Вам нужно добавить соотвествущую Вашему варианту $L2$ регуляризацию.\n",
    "\n",
    "И так, мы поняли, какую функцию ошибки будем минимизировать, разобрались, как получить предсказания по объекту и обученным весам. Осталось разобраться, как получить оптимальные веса. Для этого нужно выбрать какой-то метод оптимизации.\n",
    "\n"
   ]
  },
  {
   "cell_type": "markdown",
   "metadata": {},
   "source": [
    "Градиентный спуск является самым популярным алгоритмом обучения линейных моделей. В этом задании Вам предложат реализовать стохастический градиентный спуск или  мини-батч градиентный спуск (мини-батч на русский язык довольно сложно перевести, многие переводят это как \"пакетный\", но мне не кажется этот перевод удачным). Далее нам потребуется определение **эпохи**.\n",
    "Эпохой в SGD и MB-GD называется один проход по **всем** объектам в обучающей выборки.\n",
    "* В SGD градиент расчитывается по одному случайному объекту. Сам алгоритм выглядит примерно так:\n",
    "        1) Перемешать выборку\n",
    "        2) Посчитать градиент функции потерь на одном объекте (далее один объект тоже будем называть батчем)\n",
    "        3) Сделать шаг спуска\n",
    "        4) Повторять 2) и 3) пока не пройдет максимальное число эпох.\n",
    "* В Mini Batch SGD - по подвыборке объектов. Сам алгоритм выглядит примерно так::\n",
    "        1) Перемешать выборку, выбрать размер мини-батча (от 1 до размера выборки)\n",
    "        2) Почитать градиент функции потерь по мини-батчу (не забыть поделить на  число объектов в мини-батче)\n",
    "        3) Сделать шаг спуска\n",
    "        4) Повторять 2) и 3) пока не пройдет максимальное число эпох.\n",
    "* Для отладки алгоритма реализуйте возможность  вывода средней ошибки на обучении модели по объектам (мини-батчам). После шага градиентного спуска посчитайте значение ошибки на объекте (или мини-батче), а затем усредните, например, по ста шагам. Если обучение проходит корректно, то мы должны увидеть, что каждые 100 шагов функция потерь уменьшается. \n",
    "* Правило останова - максимальное количество эпох\n",
    "    \n"
   ]
  },
  {
   "cell_type": "markdown",
   "metadata": {},
   "source": [
    "# Теоретические вопросы (2 балла)\n",
    "В этой части Вам будут предложены теоретичские вопросы и задачи по теме. Вы, конечно, можете списать их у своего товарища или найти решение в интернете, но учтите, что они обязательно войдут в теоретический коллоквиум. Лучше разобраться в теме сейчас и успешно ответить на коллоквиуме, чем списать, не разобравшись в материале, и быть терзаемым совестью. \n",
    "\n",
    "\n",
    "Формулы надо оформлять в формате **LaTeX**."
   ]
  },
  {
   "cell_type": "markdown",
   "metadata": {},
   "source": [
    "Задача 1. Градиент для линейной регрессии.\n",
    "* Выпишите формулу обновления весов для линейной регрессии с L2 регуляризацией для мини-батч градиентого спуска размера $n$:\n",
    "\n",
    "$$ w_{new} = w_{old} - ... $$\n",
    "\n",
    " Отнеситесь к этому пункту максимально серьезно, это Вам нужно будет реализовать в задании.\n",
    " \n",
    "Проанализруйте итоговую формулу градиента - как  интуитивно можно  описать, чему равен градиент?"
   ]
  },
  {
   "cell_type": "markdown",
   "metadata": {},
   "source": [
    "$$ w_{new} = w_{old} -\\alpha *grad_{w}Q_{batch}(w_{old}) =w_{old} -\\alpha * (-\\frac{2}{n}\\sum_{i=1}^{n} (y_{i}-<x_{i},w_{old}>)*x_{i}+\\frac{2}{c}*w_{oldFixed}) $$\n",
    "$$ w_{old}=(w_{0},w_{1},...,w_{D}) , w_{oldFixed}=(0,w_{1},...,w_{D}) = w_{old}-(w_{0},0,...,0)$$"
   ]
  },
  {
   "cell_type": "markdown",
   "metadata": {},
   "source": [
    "Задача 2. Градиент для логистической регрессии.\n",
    "* Выпишите формулу обновления весов для логистической регрессии с L2 регуляризацией  для мини-батч градиентого спуска размера $n$:\n",
    "\n",
    "$$ w_{new} = w_{old} - ... $$\n",
    "\n",
    " Отнеситесь к этому пункту максимально серьезно, это Вам нужно будет реализовать в задании.\n",
    " \n",
    "Проанализруйте итоговую формулу градиента - как  интуитивно можно  описать, чему равен градиент? Как соотносится этот градиент с градиентом, возникающий в задаче линейной регрессии?\n",
    "\n",
    "Подсказка: Вам градиент, которой получается если “в лоб” продифференцировать,  надо немного преобразовать.\n",
    "Надо подставить, что $1 - \\sigma(w,x) $ это  $1 - a(x_i)$, а  $-\\sigma(w,x)$ это $0 - a(x_i)$.  Тогда получится свести к одной красивой формуле с линейной регрессией, которую программировать будет намного проще."
   ]
  },
  {
   "cell_type": "markdown",
   "metadata": {},
   "source": [
    "$$ w_{new} = w_{old} -\\alpha *grad_{w}Q_{batch}(w_{old}) =w_{old} -\\alpha * (-\\frac{1}{n}\\sum_{i=1}^{n} (y_{i}*(1-a_{i})+(0-a_{i})(1-y_{i}))*x_{i}+\\frac{2}{c}*w_{oldFixed}) $$\n",
    "**Если упростить, то получится**\n",
    "$$ w_{new} = w_{old} -\\alpha * (-\\frac{1}{n}\\sum_{i=1}^{n} (y_{i}-a_{i})*x_{i}+\\frac{2}{c}*w_{oldFixed}) $$\n",
    "$$ w_{old}=(w_{0},w_{1},...,w_{D}) , w_{oldFixed}=(0,w_{1},...,w_{D}) = w_{old}-(w_{0},0,...,0)$$"
   ]
  },
  {
   "cell_type": "markdown",
   "metadata": {},
   "source": [
    "Задача 3. Точное решение линейной регрессии\n",
    "\n",
    "На лекции было показано, что точное решение линейной регрессии имеет вид $w = (X^TX)^{-1}X^TY $. \n",
    "* Покажите, что это действительно является точкой минимума в случае, если матрица X имеет строк не меньше, чем столбцов и имеет полный ранг. Подсказка: посчитайте Гессиан и покажите, что в этом случае он положительно определен. \n",
    "* Выпишите точное решение для модели с $L2$ регуляризацией. Как L2 регуляризация помогает с точным решением где матрица X имеет линейно зависимые признаки?"
   ]
  },
  {
   "cell_type": "markdown",
   "metadata": {},
   "source": [
    "**Пункт 1**\n",
    "$$ grad_{w}Q(w) = (g_{0},...,g_{D}) $$\n",
    "$$ g_{k}= \\frac{2}{n}\\sum_{i=1}^{n} (-y_{i}+<x_{i},w>)*x_{ik} , 0<=k<=D $$\n",
    "$$ grad_{w}g_{k}= \\frac{2}{n}\\sum_{i=1}^{n} x_{i}*x_{ik}, 0<=k<=D $$\n",
    "$$ H(Q(w)) = \\frac {2} {n}*X^T*X $$\n",
    "\n",
    "**Из курса линейной алгебры известно, что**\n",
    "**Матрица A положительно определена тогда и только тогда, когда существует такая невырожденная матрица B, что:** $$A = B^{T}*B. $$\n",
    "**Таким образом, если матрица X невырожденная , то гессиан положительно определен**\n",
    "\n",
    "**Пункт 2**\n",
    "$$ w = (X^T*X+ \\frac {1} {c} *I)^{-1} * x^T*y $$\n",
    "**Если бы в Х были бы линейно зависимые признаки,то X^T*X была бы необратимой и точного решения не было бы. Регуляризия спасает от этой проблемы**"
   ]
  },
  {
   "cell_type": "markdown",
   "metadata": {},
   "source": [
    "Задача 4.  Предсказываем вероятности.\n",
    "\n",
    "Когда говорят о логистической регрессии, произносят фразу, что она \"предсказывает вероятности положительного класса\". Давайте разберемся, что же за этим стоит. Посчитаем математическое ожидание функции потерь и проверим, что предсказание алгоритма, оптимизирующее это мат. ожидание, будет являться вероятностью положительного класса. \n",
    "\n",
    "И так, функция потерь на объекте $x_i$, который имеет метку $y_i \\in \\{0,1\\}$  для предсказания $a(x_i)$ равна:\n",
    "$$L(y_i, b) =-[y_i == 1] \\log a(x_i)  - [y_i == 0] \\log(1 - a(x_i)) $$\n",
    "\n",
    "Где $[]$ означает индикатор $-$ он равен единице, если значение внутри него истинно, иначе он равен нулю. Тогда мат. ожидание при условии конкретного $x_i$  по определение мат. ожидания дискретной случайной величины:\n",
    "$$E(L | x_i) = -p(y_i = 1 |x_i ) \\log a(x_i)  - p(y_i = 0 | x_i) \\log( 1 - a(x_i))$$\n",
    "* Докажите, что значение $a(x_i)$, минимизирующее данное мат. ожидание, в точности равно $p(y_i = 1 |x_i)$, то есть равно вероятности положительного класса.\n",
    "\n",
    "Подсказка: возможно, придется воспользоваться, что  $p(y_i = 1 | x_i) + p(y_i = 0 | x_i) = 1$"
   ]
  },
  {
   "cell_type": "markdown",
   "metadata": {},
   "source": [
    "**Обозначим** $$ p1 = p(y_{i} = 1 | x_{i}) , p0 = p(y_{i} = 0 | x_{i}), p0 = 1 - p1, z = a(x_{i}) $$\n",
    "**Тогда**$$ f(z) = -p1 * log(z) -(1-p1)\\log{(1-z)} $$\n",
    "$$ f'(z) = -\\frac {p1} {z} + \\frac {1-p1} {1-z} = 0 $$\n",
    "$$ -p1 + p1*z + z - p1*z = z- p1 = 0 , z= p1 $$\n",
    "**итак, z=p1 - экстремум. Покажем, что это минимум**\n",
    "$$ f''(z)=\\frac {p1} {z^{2}} - \\frac {p1-1} {(z-1)^{2}} = \\frac {-2*p1*z+p1+z^{2}} {z^{2}*(z-1)^{2}}$$\n",
    "$$ f''(p1) = \\frac {p1-p1^{2}} {p1^{2}*(p1-1)^{2}} >0  $$"
   ]
  },
  {
   "cell_type": "markdown",
   "metadata": {},
   "source": [
    "Задача 5.  Смысл регуляризации.\n",
    "\n",
    "Нужно ли в L1/L2 регуляризации использовать свободный член $w_0$ (который не умножается ни на какой признак)?\n",
    "\n",
    "Подсказка: подумайте, для чего мы вводим $w_0$"
   ]
  },
  {
   "cell_type": "markdown",
   "metadata": {},
   "source": [
    "**В регуляризации не нужно использовать свободный член, w0 - отвечает за значение в точке, где все признаки нулевые.\n",
    "L1 и L2 регуляризация штрафует модели за большие веса у признаков, а w0 ни на какой признак не умножается**"
   ]
  },
  {
   "cell_type": "markdown",
   "metadata": {},
   "source": [
    "#  Реализация линейной модели (4 балла)"
   ]
  },
  {
   "cell_type": "markdown",
   "metadata": {},
   "source": [
    "## Зачем нужны батчи?\n"
   ]
  },
  {
   "cell_type": "markdown",
   "metadata": {},
   "source": [
    "Как Вы могли заметить из теоретического введения, что в случае SGD, что в случа mini-batch GD,  на каждой итерации обновление весов  происходит только по небольшой части данных (1 пример в случае SGD, batch примеров в случае mini-batch). То есть для каждой итерации нам *** не нужна вся выборка***. Мы можем просто итерироваться по выборке, беря батч нужного размера (далее 1 объект тоже будем называть батчом).\n",
    "\n",
    "Легко заметить, что в этом случае нам не нужно загружать все данные в оперативную память, достаточно просто считать батч с диска, обновить веса, считать диска другой батч и так далее. В целях упрощения домашней работы, прямо с диска  мы считывать не будем, будем работать с обычными numpy array. \n",
    "\n",
    "\n",
    "\n"
   ]
  },
  {
   "cell_type": "markdown",
   "metadata": {},
   "source": [
    "## Немножко про генераторы в Python\n",
    "\n"
   ]
  },
  {
   "cell_type": "markdown",
   "metadata": {},
   "source": [
    "Идея считывания данных кусками удачно ложится на так называемые ***генераторы*** из языка Python. В данной работе Вам предлагается не только разобраться с логистической регрессией, но  и познакомиться с таким важным элементом языка.  При желании Вы можете убрать весь код, связанный с генераторами, и реализовать логистическую регрессию и без них, ***штрафоваться это никак не будет***. Главное, чтобы сама модель была реализована правильно, и все пункты были выполнены. \n",
    "\n",
    "Подробнее можно почитать вот тут https://anandology.com/python-practice-book/iterators.html\n"
   ]
  },
  {
   "cell_type": "markdown",
   "metadata": {},
   "source": [
    "К генератору стоит относиться просто как к функции, которая порождает не один объект, а целую последовательность объектов. Новое значение из последовательности генерируется с помощью ключевого слова ***yield***. Ниже Вы можете насладиться  генератором чисел Фибоначчи."
   ]
  },
  {
   "cell_type": "code",
   "execution_count": 2,
   "metadata": {},
   "outputs": [],
   "source": [
    "def fib(max_iter=4):\n",
    "    a, b = 0, 1\n",
    "    iter_num = 0\n",
    "    while 1:\n",
    "        yield a\n",
    "        a, b = b, a + b\n",
    "        iter_num += 1\n",
    "        if iter_num == max_iter:\n",
    "            break"
   ]
  },
  {
   "cell_type": "markdown",
   "metadata": {},
   "source": [
    "Вот так можно сгенерировать последовательность Фибоначчи. \n",
    "\n",
    "Заметьте, что к генераторам можно применять некоторые стандартные функции из Python, например enumerate."
   ]
  },
  {
   "cell_type": "code",
   "execution_count": 3,
   "metadata": {},
   "outputs": [
    {
     "name": "stdout",
     "output_type": "stream",
     "text": [
      "Fib num: 0 fib values: 0\n",
      "Fib num: 1 fib values: 1\n",
      "Fib num: 2 fib values: 1\n",
      "Fib num: 3 fib values: 2\n"
     ]
    }
   ],
   "source": [
    "new_generator = fib()\n",
    "for j, fib_val in enumerate(new_generator):\n",
    "    print (\"Fib num: \" + str(j) + \" fib values: \" + str(fib_val))"
   ]
  },
  {
   "cell_type": "markdown",
   "metadata": {},
   "source": [
    "Пересоздавая объект, можно сколько угодно раз генерировать заново последовательность. "
   ]
  },
  {
   "cell_type": "code",
   "execution_count": 4,
   "metadata": {},
   "outputs": [
    {
     "name": "stdout",
     "output_type": "stream",
     "text": [
      "Fib num: 0 fib values: 0\n",
      "Fib num: 1 fib values: 1\n",
      "Fib num: 2 fib values: 1\n",
      "Fib num: 3 fib values: 2\n",
      "Fib num: 0 fib values: 0\n",
      "Fib num: 1 fib values: 1\n",
      "Fib num: 2 fib values: 1\n",
      "Fib num: 3 fib values: 2\n",
      "Fib num: 0 fib values: 0\n",
      "Fib num: 1 fib values: 1\n",
      "Fib num: 2 fib values: 1\n",
      "Fib num: 3 fib values: 2\n"
     ]
    }
   ],
   "source": [
    "for i in range(0, 3):\n",
    "    new_generator = fib()\n",
    "    for j, fib_val in enumerate(new_generator):\n",
    "        print (\"Fib num: \" + str(j) + \" fib values: \" + str(fib_val))"
   ]
  },
  {
   "cell_type": "markdown",
   "metadata": {},
   "source": [
    "А вот так уже нельзя."
   ]
  },
  {
   "cell_type": "code",
   "execution_count": 5,
   "metadata": {},
   "outputs": [
    {
     "name": "stdout",
     "output_type": "stream",
     "text": [
      "Fib num: 0 fib values: 0\n",
      "Fib num: 1 fib values: 1\n",
      "Fib num: 2 fib values: 1\n",
      "Fib num: 3 fib values: 2\n"
     ]
    }
   ],
   "source": [
    "new_generator = fib()\n",
    "for i in range(0, 3):\n",
    "    for j, fib_val in enumerate(new_generator):\n",
    "        print (\"Fib num: \" + str(j) + \" fib values: \" + str(fib_val))"
   ]
  },
  {
   "cell_type": "markdown",
   "metadata": {},
   "source": [
    "Концепция крайне удобная для обучения  моделей $-$ у Вас есть некий источник данных, который Вам выдает их кусками, и Вам совершенно все равно откуда он их берет. Под ним может скрывать как массив в оперативной памяти, как файл на жестком диске, так и SQL база данных. Вы сами данные никуда не сохраняете, оперативную память экономите."
   ]
  },
  {
   "cell_type": "markdown",
   "metadata": {},
   "source": [
    "Если Вам понравилась идея с генераторами, то Вы можете реализовать свой, используя прототип batch_generator. В нем Вам нужно выдавать батчи признаков и ответов для каждой новой итерации спуска. Если не понравилась идея, то можете реализовывать SGD или mini-batch GD без генераторов."
   ]
  },
  {
   "cell_type": "code",
   "execution_count": 6,
   "metadata": {},
   "outputs": [],
   "source": [
    "def batch_generator(X, y, shuffle=True, batch_size=1):\n",
    "    \"\"\"\n",
    "    Гератор новых батчей для обучения\n",
    "    X          - матрица объекты-признаки\n",
    "    y_batch    - вектор ответов\n",
    "    shuffle    - нужно ли случайно перемешивать выборку\n",
    "    batch_size - размер батча ( 1 это SGD, > 1 mini-batch GD)\n",
    "    Генерирует подвыборку для итерации спуска (X_batch, y_batch)\n",
    "    \"\"\"\n",
    "    \n",
    "    X1 = X.copy()\n",
    "    y1 = y.copy()\n",
    "    \n",
    "    if shuffle:\n",
    "        rand_ind = np.random.permutation(len(y))\n",
    "        for i in range(len(y)):\n",
    "            X1[i] = X[rand_ind[i]]\n",
    "            y1[i] = y[rand_ind[i]]\n",
    "            \n",
    "            \n",
    "    for i in range(X.shape[0] // batch_size):\n",
    "        X_batch = X1[batch_size*i:batch_size*(i+1):1,:]\n",
    "        y_batch = y1[batch_size*i:batch_size*(i+1):1]\n",
    "        yield (X_batch, y_batch)\n",
    "        \n",
    "    if (X.shape[0] % batch_size != 0):\n",
    "        X_batch = X1[(i+1)*batch_size::,:]\n",
    "        y_batch = y1[(i+1)*batch_size::]\n",
    "        yield (X_batch, y_batch)\n",
    "\n",
    "# Теперь можно сделать генератор по данным ()\n",
    "#  my_batch_generator = batch_generator(X, y, shuffle=True, batch_size=1):"
   ]
  },
  {
   "cell_type": "code",
   "execution_count": 7,
   "metadata": {},
   "outputs": [],
   "source": [
    "#%%pycodestyle\n",
    "\n",
    "def sigmoid(x):\n",
    "    \"\"\"\n",
    "    Вычисляем значение сигмоида.\n",
    "    X - выход линейной модели\n",
    "    \"\"\"\n",
    "    \n",
    "    sigm_value_x = 1 / (1 + np.exp(-x))\n",
    "    return sigm_value_x\n",
    "\n",
    "\n",
    "from sklearn.base import BaseEstimator, ClassifierMixin\n",
    "\n",
    "class MySGDClassifier(BaseEstimator, ClassifierMixin):\n",
    "    \n",
    "    def __init__(self, batch_generator, C=1, alpha=0.01, max_epoch=10, model_type='lin_reg', batch_size = 1 , th = 0.5):\n",
    "        \"\"\"\n",
    "        batch_generator -- функция генератор, которой будем создавать батчи\n",
    "        C - коэф. регуляризации\n",
    "        alpha - скорость спуска\n",
    "        max_epoch - максимальное количество эпох\n",
    "        model_type - тим модели, lin_reg или log_reg\n",
    "        \"\"\"\n",
    "        \n",
    "        self.C = C\n",
    "        self.alpha = alpha\n",
    "        self.max_epoch = max_epoch\n",
    "        self.batch_generator = batch_generator\n",
    "        self.errors_log = {'iter' : [], 'loss' : []}  \n",
    "        self.model_type = model_type\n",
    "        self.batch_size = batch_size\n",
    "        self.th = th\n",
    "        \n",
    "    def calc_loss(self, X_batch, y_batch):\n",
    "        \"\"\"\n",
    "        Считаем функцию потерь по батчу \n",
    "        X_batch - матрица объекты-признаки по батчу\n",
    "        y_batch - вектор ответов по батчу\n",
    "        Не забудте тип модели (линейная или логистическая регрессия)!\n",
    "        \"\"\"\n",
    "        n = X_batch.shape[0]\n",
    "        if self.model_type == 'lin_reg':\n",
    "            #z = (X_batch @ self.weights - y_batch) \n",
    "            #loss = (1 / n) * (z.T @ z)\n",
    "            y_pred = X_batch @ self.weights\n",
    "            loss = np.mean((y_pred-y_batch)**2)\n",
    "        else:\n",
    "            p = sigmoid(X_batch @ self.weights)\n",
    "            loss = - np.mean(y_batch * np.log(p) + (1 - y_batch)*np.log(1 - p))  \n",
    "        reg = 1/self.C * np.sum(self.weights[1::]**2)     \n",
    "        return loss + reg \n",
    "    \n",
    "    \n",
    "    def calc_loss_grad(self, X_batch, y_batch):\n",
    "        \"\"\"\n",
    "        Считаем  градиент функции потерь по батчу (то что Вы вывели в задании 1)\n",
    "        X_batch - матрица объекты-признаки по батчу\n",
    "        y_batch - вектор ответов по батчу\n",
    "        Не забудте тип модели (линейная или логистическая регрессия)!\n",
    "        \"\"\"\n",
    "        if self.model_type == 'lin_reg':\n",
    "            z = (X_batch @ self.weights - y_batch ) \n",
    "            loss_grad = 2 / X_batch.shape[0] * (z @ X_batch)  \n",
    "        else:\n",
    "            p = sigmoid(X_batch @ self.weights)\n",
    "            z = (p - y_batch ) \n",
    "            loss_grad = 1 / X_batch.shape[0] * (z @ X_batch)\n",
    "            #loss_grad = - 1 / X_batch.shape[0] * ((y_batch * (1 - p) + (0 - p)*(1 - y_batch)) @ X_batch) \n",
    "        reg = (2 / self.C) * np.hstack((np.array([0]),self.weights[1::]))\n",
    "        return loss_grad + reg \n",
    "    \n",
    "    \n",
    "    \n",
    "    def update_weights(self, new_grad):\n",
    "        \"\"\"\n",
    "        Обновляем вектор весов\n",
    "        new_grad - градиент по батчу\n",
    "        \"\"\"\n",
    "        self.weights -= (self.alpha * new_grad)\n",
    "    \n",
    "    \n",
    "    def fit(self, X, y):\n",
    "        '''\n",
    "        Обучение модели\n",
    "        X - матрица объекты-признаки\n",
    "        y - вектор ответов\n",
    "        '''\n",
    "        X = np.hstack((np.ones((X.shape[0], 1)), X))\n",
    "        # Нужно инициализровать случайно веса\n",
    "        self.weights = np.random.normal(size = X.shape[1])\n",
    "        for n in range(0, self.max_epoch):\n",
    "            new_epoch_generator = self.batch_generator(X,y, True , self.batch_size)\n",
    "            for batch_num, new_batch in enumerate(new_epoch_generator):\n",
    "                X_batch = new_batch[0]\n",
    "                y_batch = new_batch[1]\n",
    "                batch_grad = self.calc_loss_grad(X_batch, y_batch)\n",
    "                self.update_weights(batch_grad)\n",
    "                # Подумайте в каком месте стоит посчитать ошибку для отладки модели\n",
    "                # До градиентного шага или после\n",
    "                batch_loss = self.calc_loss(X_batch, y_batch)\n",
    "                self.errors_log['iter'].append(batch_num)\n",
    "                self.errors_log['loss'].append(batch_loss)\n",
    "                \n",
    "        return self\n",
    "        \n",
    "    def predict(self, X):\n",
    "        '''\n",
    "        Предсказание класса\n",
    "        X - матрица объекты-признаки\n",
    "        Не забудте тип модели (линейная или логистическая регрессия)!\n",
    "        '''\n",
    "        X = np.hstack((np.ones((X.shape[0], 1)), X))\n",
    "        y_hat = np.ones(X.shape[0])\n",
    "        if self.model_type == 'lin_reg':\n",
    "            z = X @ self.weights\n",
    "            y_hat[z < self.th] = 0   \n",
    "        else:\n",
    "            p = sigmoid(X @ self.weights)\n",
    "            y_hat[p < self.th] = 0\n",
    "        # Желательно здесь использовать матричные операции между X и весами, например, numpy.dot \n",
    "        return y_hat"
   ]
  },
  {
   "cell_type": "markdown",
   "metadata": {},
   "source": [
    "Запустите обе регрессии на синтетических данных. \n",
    "\n",
    "\n",
    "Выведите полученные веса и нарисуйте разделяющую границу между классами (используйте только первых два веса для первых двух признаков X[:,0], X[:,1] для отображения в 2d пространство ).  "
   ]
  },
  {
   "cell_type": "code",
   "execution_count": null,
   "metadata": {},
   "outputs": [],
   "source": []
  },
  {
   "cell_type": "code",
   "execution_count": 8,
   "metadata": {},
   "outputs": [],
   "source": [
    "def plot_decision_boundary(clf):\n",
    "    clf.fit(X, y)\n",
    "    x_ax = np.linspace(X.min(), X.max(), num = 100)\n",
    "    y_ax = np.array(\n",
    "        (clf.weights[0] + clf.weights[1] * x_ax))\n",
    "    plt.plot(x_ax, y_ax)\n",
    "    print(clf.weights)\n",
    "    return clf.weights"
   ]
  },
  {
   "cell_type": "code",
   "execution_count": 9,
   "metadata": {
    "scrolled": true
   },
   "outputs": [
    {
     "name": "stdout",
     "output_type": "stream",
     "text": [
      "[-4.18372003  0.985863   -0.96865516]\n"
     ]
    },
    {
     "data": {
      "text/plain": [
       "<matplotlib.collections.PathCollection at 0x25873a9cfa0>"
      ]
     },
     "execution_count": 9,
     "metadata": {},
     "output_type": "execute_result"
    },
    {
     "data": {
      "image/png": "[encoded data removed]",
      "text/plain": [
       "<Figure size 864x360 with 1 Axes>"
      ]
     },
     "metadata": {},
     "output_type": "display_data"
    }
   ],
   "source": [
    "np.random.seed(0)\n",
    "\n",
    "C1 = np.array([[0., -0.8], [1.5, 0.8]])\n",
    "C2 = np.array([[1., -0.7], [2., 0.7]])\n",
    "gauss1 = np.dot(np.random.randn(200, 2) + np.array([5, 3]), C1)\n",
    "gauss2 = np.dot(np.random.randn(200, 2) + np.array([1.5, 0]), C2)\n",
    "\n",
    "X = np.vstack([gauss1, gauss2])\n",
    "y = np.r_[np.ones(200), np.zeros(200)]\n",
    "\n",
    "clf = MySGDClassifier(batch_generator, C = 100, alpha = 0.01, max_epoch=30, model_type = 'log_reg')\n",
    "plot_decision_boundary(clf)\n",
    "\n",
    "plt.scatter(X[:,0], X[:,1], c=y)"
   ]
  },
  {
   "cell_type": "code",
   "execution_count": 10,
   "metadata": {},
   "outputs": [
    {
     "data": {
      "text/plain": [
       "0.9018691588785046"
      ]
     },
     "execution_count": 10,
     "metadata": {},
     "output_type": "execute_result"
    }
   ],
   "source": [
    "from sklearn.metrics import f1_score\n",
    "f1_score(clf.predict(X), y)\n"
   ]
  },
  {
   "cell_type": "code",
   "execution_count": 11,
   "metadata": {},
   "outputs": [
    {
     "data": {
      "text/plain": [
       "[3.976066749536971,\n",
       " 3.589154074248078,\n",
       " 2.788928332898017,\n",
       " 4.122656065631976,\n",
       " 0.5782415660432566,\n",
       " 0.09109048971033724,\n",
       " 0.012258871128136617,\n",
       " 0.05232742191549912,\n",
       " 1.8767122663566767,\n",
       " 0.42431355137259685,\n",
       " 0.033353732686845085,\n",
       " 0.009532816897150364,\n",
       " 2.2676387187334663,\n",
       " 1.4638140147274634,\n",
       " 0.05916115565096648,\n",
       " 1.3260443213334596,\n",
       " 0.008846024463441012,\n",
       " 0.3531572509484429,\n",
       " 0.877994426875333,\n",
       " 0.009207619335770094,\n",
       " 1.4853591227500953,\n",
       " 0.011984909693292928,\n",
       " 0.021597143072785978,\n",
       " 0.021971600774114218,\n",
       " 0.014120416103918464,\n",
       " 2.981445598497454,\n",
       " 0.013799697961762785,\n",
       " 0.008937835975521523,\n",
       " 4.5890314783769535,\n",
       " 0.013642872620276789,\n",
       " 0.8108814008971947,\n",
       " 0.029649467077053505,\n",
       " 2.7761176956436606,\n",
       " 4.0418677917180235,\n",
       " 1.3191465634331287,\n",
       " 4.295080511997861,\n",
       " 0.03209490356195332,\n",
       " 0.13599537903516543,\n",
       " 0.10470306111040521,\n",
       " 0.03307385007742817,\n",
       " 1.0827887934284817,\n",
       " 1.1054321050250882,\n",
       " 4.00644253670601,\n",
       " 0.027198256715738518,\n",
       " 0.03286101297180997,\n",
       " 0.03156817693110939,\n",
       " 1.621231281759628,\n",
       " 1.0590793973139419,\n",
       " 1.6234256690628295,\n",
       " 0.04330274296487554,\n",
       " 1.4679152544517118,\n",
       " 2.13935066106073,\n",
       " 0.09503663899357986,\n",
       " 0.05765802973354237,\n",
       " 0.03180590168526732,\n",
       " 0.04064443677775246,\n",
       " 0.047450348242261034,\n",
       " 2.686864570357492,\n",
       " 1.7617750398166556,\n",
       " 1.0328549383140853,\n",
       " 0.017516593307129145,\n",
       " 0.07444836847924943,\n",
       " 0.1033265945473383,\n",
       " 2.300747972889186,\n",
       " 0.10122326576401344,\n",
       " 2.3714309816415864,\n",
       " 0.7601512002869563,\n",
       " 0.13105094019350172,\n",
       " 0.09337796867649922,\n",
       " 0.12794927939103676,\n",
       " 1.0694960743313633,\n",
       " 1.1116687649347234,\n",
       " 0.08513204209524909,\n",
       " 1.3790812249433027,\n",
       " 0.11308342597730657,\n",
       " 2.387812868985833,\n",
       " 0.09598861388412154,\n",
       " 0.06285245480020497,\n",
       " 0.9476545378759216,\n",
       " 1.5104665024699206,\n",
       " 2.3324579694780465,\n",
       " 0.09501293054197697,\n",
       " 0.12185754898507832,\n",
       " 0.07913414662907203,\n",
       " 0.24246893438902983,\n",
       " 0.9228250523745125,\n",
       " 0.04056820440529396,\n",
       " 2.1324671510816136,\n",
       " 0.08522153265310471,\n",
       " 0.04495736193958517,\n",
       " 2.064981070566346,\n",
       " 0.0973758843609971,\n",
       " 0.27574002083188437,\n",
       " 0.07621401240720004,\n",
       " 0.11608674112538572,\n",
       " 1.2973778854060074,\n",
       " 0.06270446833640227,\n",
       " 0.18379829609072493,\n",
       " 0.2458076423260937,\n",
       " 0.966203384090567,\n",
       " 0.4151780499982395,\n",
       " 1.5348229257700476,\n",
       " 0.08249007366645908,\n",
       " 1.3939538270338638,\n",
       " 1.2592395338669742,\n",
       " 0.32720180786585684,\n",
       " 0.16693515509806192,\n",
       " 0.027142230077668857,\n",
       " 2.5158265662350328,\n",
       " 1.8505557134540251,\n",
       " 0.841805235099814,\n",
       " 0.15551605699002632,\n",
       " 0.9563978153461988,\n",
       " 0.210863072108508,\n",
       " 1.5727067925214455,\n",
       " 0.21524805060439553,\n",
       " 1.3105938001606594,\n",
       " 0.21436384229805852,\n",
       " 0.2748600946742628,\n",
       " 1.4768624570082167,\n",
       " 0.20247776113682167,\n",
       " 0.35751242413979073,\n",
       " 0.6120990482428493,\n",
       " 0.21885275864669715,\n",
       " 1.360656434333973,\n",
       " 1.285153378064401,\n",
       " 1.812929894124179,\n",
       " 0.8133427881318136,\n",
       " 1.4173286706228352,\n",
       " 0.29283207127040384,\n",
       " 0.3414503552141876,\n",
       " 1.0913584781540826,\n",
       " 0.23852541838573618,\n",
       " 1.0893293804149258,\n",
       " 1.5931607733053554,\n",
       " 0.49408981899236104,\n",
       " 0.7575949666763929,\n",
       " 1.7389581919580313,\n",
       " 0.9150837288067043,\n",
       " 0.6857958322507305,\n",
       " 0.32456716848828626,\n",
       " 0.5339822080327982,\n",
       " 1.3490898787683672,\n",
       " 0.14758607512206692,\n",
       " 1.106687521685092,\n",
       " 1.651325276785245,\n",
       " 0.17241302514749662,\n",
       " 0.1861725874922025,\n",
       " 0.20420598452449767,\n",
       " 1.3857078852663518,\n",
       " 1.4576272413124332,\n",
       " 0.28440569916692376,\n",
       " 0.9095948622503043,\n",
       " 1.6847234264523956,\n",
       " 1.3030991412622814,\n",
       " 0.20857244286659277,\n",
       " 0.26623841757759736,\n",
       " 1.6796633925467759,\n",
       " 1.188323828865194,\n",
       " 0.5605898842772022,\n",
       " 1.249458876180031,\n",
       " 0.9608541905881274,\n",
       " 1.6689736430515056,\n",
       " 0.45205502152644433,\n",
       " 0.7888636282640749,\n",
       " 0.5486189480484875,\n",
       " 0.48188150280410835,\n",
       " 0.19004924312103388,\n",
       " 1.7328898161614683,\n",
       " 0.19656795322836026,\n",
       " 0.8853521578345215,\n",
       " 0.38615597777187943,\n",
       " 0.736211287270165,\n",
       " 0.22998654115099237,\n",
       " 0.9638877644010989,\n",
       " 0.27584140012583636,\n",
       " 1.0636170269012792,\n",
       " 1.1165400070058307,\n",
       " 0.696710455412249,\n",
       " 0.8954503389408411,\n",
       " 0.7242572653045216,\n",
       " 1.9476179501679296,\n",
       " 0.2058497049313288,\n",
       " 0.601994342346348,\n",
       " 0.7843881531819207,\n",
       " 0.7565626171527946,\n",
       " 1.1685396094381348,\n",
       " 1.6802300851949197,\n",
       " 0.23931568601491163,\n",
       " 0.09242330860245275,\n",
       " 0.45498383218737726,\n",
       " 0.43678228897755467,\n",
       " 0.3668292352151258,\n",
       " 0.12405046145840104,\n",
       " 1.0078718008028227,\n",
       " 0.3647479847312485,\n",
       " 0.9377673751835673,\n",
       " 1.3692474586140413,\n",
       " 0.08044869308358528,\n",
       " 0.5279943729250981,\n",
       " 0.051776411122332194,\n",
       " 0.27460276247771864,\n",
       " 0.32785197129414767,\n",
       " 0.35341148703238107,\n",
       " 0.7417374569325225,\n",
       " 0.09111554505763855,\n",
       " 0.06388549743892646,\n",
       " 1.3370033802837737,\n",
       " 0.1598967370649937,\n",
       " 1.6797398197649245,\n",
       " 1.1667328340612688,\n",
       " 0.1001664842645837,\n",
       " 2.339855094090437,\n",
       " 1.53646918960748,\n",
       " 0.9659556289338097,\n",
       " 0.5338931425968519,\n",
       " 0.1311515702723419,\n",
       " 0.4244433586346978,\n",
       " 1.0291096208771173,\n",
       " 0.23660153199324352,\n",
       " 1.306375973354123,\n",
       " 0.12072577653658634,\n",
       " 0.29182775473556644,\n",
       " 1.0540165953795557,\n",
       " 0.2921943578008935,\n",
       " 0.9007243228518181,\n",
       " 0.14026859343145273,\n",
       " 1.394435747433492,\n",
       " 1.187307075374698,\n",
       " 0.4615309350705047,\n",
       " 1.050046607815253,\n",
       " 0.3048067652384094,\n",
       " 0.8351428379076615,\n",
       " 0.065087799787978,\n",
       " 0.48369862197658114,\n",
       " 1.5618260832847775,\n",
       " 0.28548785459151615,\n",
       " 0.1647426527469576,\n",
       " 1.1741517162130053,\n",
       " 0.9664604270748495,\n",
       " 0.8396977436232452,\n",
       " 1.1990983518883893,\n",
       " 0.7132199341433919,\n",
       " 1.1026445158624023,\n",
       " 1.5858861379103582,\n",
       " 0.34908679578389457,\n",
       " 0.8190722682774558,\n",
       " 0.38449790409817064,\n",
       " 1.0796548135381197,\n",
       " 1.3929060891621148,\n",
       " 0.3228140016755417,\n",
       " 0.41437906550776965,\n",
       " 0.11665533842084372,\n",
       " 0.8511479683055947,\n",
       " 0.31170617818934626,\n",
       " 1.1455570296139748,\n",
       " 0.9149159384508248,\n",
       " 1.3012344168389538,\n",
       " 1.5654600227705209,\n",
       " 0.9345571315775066,\n",
       " 0.3136732781228163,\n",
       " 0.324580213879445,\n",
       " 0.5938900993275543,\n",
       " 0.3532304159580024,\n",
       " 0.7572101169569464,\n",
       " 0.3303352226747443,\n",
       " 0.24701474677970006,\n",
       " 0.7023441866184927,\n",
       " 0.6853785463892633,\n",
       " 0.8695624610512993,\n",
       " 0.31921206764704435,\n",
       " 0.8152207780657496,\n",
       " 0.3918251334989841,\n",
       " 0.5384602976686171,\n",
       " 0.2056980651895183,\n",
       " 0.35414002030889574,\n",
       " 0.11806839091562155,\n",
       " 0.5733779137987511,\n",
       " 0.8225095080092183,\n",
       " 1.1151088041193191,\n",
       " 1.0087673231858298,\n",
       " 0.44138679683297577,\n",
       " 0.3359751696125033,\n",
       " 0.36069049234068784,\n",
       " 0.20550726533742084,\n",
       " 0.16262924224535796,\n",
       " 0.9440236022857197,\n",
       " 0.27938588438003265,\n",
       " 0.2614874923417975,\n",
       " 1.2772790234461946,\n",
       " 0.10118339686614126,\n",
       " 0.1408698412907775,\n",
       " 0.22947782535867878,\n",
       " 0.23883548321005252,\n",
       " 0.727334937276383,\n",
       " 1.7315517460830805,\n",
       " 1.262994628818257,\n",
       " 0.13922489944101424,\n",
       " 0.5805528339926107,\n",
       " 0.3697652359737992,\n",
       " 0.640905299374747,\n",
       " 0.3043753545346907,\n",
       " 1.3673398139393318,\n",
       " 0.4211568739767075,\n",
       " 0.6465874003410178,\n",
       " 0.5343613499863601,\n",
       " 0.0971414209604246,\n",
       " 1.106698689656743,\n",
       " 0.08162931747387858,\n",
       " 0.4216538008560384,\n",
       " 0.25427233457979104,\n",
       " 0.07994649956000968,\n",
       " 1.3276917754413582,\n",
       " 0.2601237228759526,\n",
       " 1.136693161594096,\n",
       " 0.28103237174072154,\n",
       " 0.9781350613653265,\n",
       " 0.05289783809324611,\n",
       " 1.3459952928673875,\n",
       " 0.3931158406191279,\n",
       " 0.5226224729457298,\n",
       " 0.5904021759332154,\n",
       " 0.9902222528544523,\n",
       " 0.26396393902885756,\n",
       " 1.2787095719432358,\n",
       " 1.162359282585208,\n",
       " 0.1411839691694032,\n",
       " 0.42524529909459474,\n",
       " 1.2126798130411234,\n",
       " 0.8517020177475442,\n",
       " 0.18028286576846478,\n",
       " 1.553034140362149,\n",
       " 0.1766942148885377,\n",
       " 0.5628098693506508,\n",
       " 0.20049322181387227,\n",
       " 1.3928633212956685,\n",
       " 0.5442333248578314,\n",
       " 0.5333858800342453,\n",
       " 0.31314661286458095,\n",
       " 0.42960941439602823,\n",
       " 1.5290848467224278,\n",
       " 0.2956682028467604,\n",
       " 0.44867545676422493,\n",
       " 0.3278608073995798,\n",
       " 0.9421603104871532,\n",
       " 0.2583012107241143,\n",
       " 0.2922106928990648,\n",
       " 0.6264242220217614,\n",
       " 1.0664385481320369,\n",
       " 0.41315971676251745,\n",
       " 0.40771293374737577,\n",
       " 0.24892084548078489,\n",
       " 1.9061702573442414,\n",
       " 1.1522360228500077,\n",
       " 0.7619657747147406,\n",
       " 1.1944441992497372,\n",
       " 0.8176311630057093,\n",
       " 0.1274175065879497,\n",
       " 0.26021372959887534,\n",
       " 0.20169328931964076,\n",
       " 0.6632955863893298,\n",
       " 0.583121637455118,\n",
       " 1.0712299073264686,\n",
       " 0.49758302374039415,\n",
       " 0.797279238118942,\n",
       " 0.32982140729617687,\n",
       " 0.14860811135390078,\n",
       " 1.0818591550581016,\n",
       " 1.1155502089005382,\n",
       " 0.08580352506165898,\n",
       " 1.198437476373036,\n",
       " 1.0032309037450478,\n",
       " 1.0247047278280044,\n",
       " 0.9523269837586902,\n",
       " 0.8487876786731209,\n",
       " 1.034998607110671,\n",
       " 0.6987630683769084,\n",
       " 0.28277084185779466,\n",
       " 0.13175331277511879,\n",
       " 1.360825008724617,\n",
       " 1.0329394053632666,\n",
       " 0.7526851683231283,\n",
       " 0.7377956822115179,\n",
       " 1.397931301975069,\n",
       " 0.6532070431263814,\n",
       " 0.39814758004828793,\n",
       " 0.8684351873299946,\n",
       " 0.6468416801395648,\n",
       " 0.5130261129461916,\n",
       " 0.17942056021031258,\n",
       " 1.2427074909342615,\n",
       " 0.7142622986184191,\n",
       " 0.6181635128297309,\n",
       " 0.24094637693480744,\n",
       " 0.4074415391109129,\n",
       " 0.13996874191903863,\n",
       " 0.765700515052149,\n",
       " 0.4185798279101618,\n",
       " 0.2668635695121518,\n",
       " 0.8867785660317986,\n",
       " 0.3412056961330882,\n",
       " 0.06577538650706562,\n",
       " 0.08139143495333999,\n",
       " 0.5497218369368981,\n",
       " 0.08767758842877746,\n",
       " 1.171573089210582,\n",
       " 0.16585961564681556,\n",
       " 0.8430177708761197,\n",
       " 0.504775993784963,\n",
       " 1.7712567970494022,\n",
       " 0.13514883593649651,\n",
       " 0.28750158382102353,\n",
       " 0.16441779113142843,\n",
       " 0.09890832263659668,\n",
       " 0.18009757057411802,\n",
       " 1.0661512417307717,\n",
       " 1.1345565052044368,\n",
       " 0.4465398983178244,\n",
       " 1.290380761865802,\n",
       " 0.25619121327289923,\n",
       " 1.9938711514517566,\n",
       " 0.15113299023755578,\n",
       " 0.5966156787504693,\n",
       " 1.1515610723516942,\n",
       " 1.3704025550765715,\n",
       " 1.5904725073731207,\n",
       " 0.2108906089756345,\n",
       " 0.5185055627914393,\n",
       " 1.1399350541088458,\n",
       " 1.0580837726068548,\n",
       " 1.32356181749581,\n",
       " 0.3441464896612322,\n",
       " 0.284516870307705,\n",
       " 1.0973143702298678,\n",
       " 0.6350151660207425,\n",
       " 0.7769981951742694,\n",
       " 0.8982377518330984,\n",
       " 0.4323548216638376,\n",
       " 0.2776431125628818,\n",
       " 0.4568039688803992,\n",
       " 0.5797077559898518,\n",
       " 0.11851387766252755,\n",
       " 0.24252527972834642,\n",
       " 1.4530136594410359,\n",
       " 0.21902989728513517,\n",
       " 0.17457046043122976,\n",
       " 0.282305205899045,\n",
       " 0.27054320435988316,\n",
       " 1.0159239855261037,\n",
       " 1.166821661588884,\n",
       " 0.2403125422096272,\n",
       " 0.5785016899307663,\n",
       " 0.2787907987092185,\n",
       " 1.0933614900525972,\n",
       " 0.21730376774488364,\n",
       " 0.1865641525670469,\n",
       " 1.363793988226492,\n",
       " 0.5169870301512853,\n",
       " 0.8839076169048706,\n",
       " 0.15553945953668938,\n",
       " 0.6863194792926978,\n",
       " 1.0583741477540474,\n",
       " 0.28789963857709694,\n",
       " 0.9547689508702376,\n",
       " 0.4030571252124369,\n",
       " 0.4120927462560732,\n",
       " 1.0674049433860846,\n",
       " 1.0870721279231352,\n",
       " 0.6512553987456317,\n",
       " 1.007292930133195,\n",
       " 0.3947282124050615,\n",
       " 0.8758062627628593,\n",
       " 0.17106092186516686,\n",
       " 0.43735626844233927,\n",
       " 0.2759825518026,\n",
       " 0.36139322913829025,\n",
       " 0.6199725681996436,\n",
       " 0.19506747489315893,\n",
       " 0.45305401168665727,\n",
       " 0.22356111327110129,\n",
       " 0.39721917329594914,\n",
       " 0.2667403671838572,\n",
       " 1.085926215270919,\n",
       " 0.6413639173793939,\n",
       " 2.129769849161874,\n",
       " 0.19664159790482721,\n",
       " 0.7600675088735995,\n",
       " 1.0275805277066528,\n",
       " 0.4271954086129509,\n",
       " 1.5613209505851167,\n",
       " 0.9639342608313908,\n",
       " 0.2512337317070335,\n",
       " 0.23631246297859784,\n",
       " 0.16929260360791215,\n",
       " 0.6395555737019537,\n",
       " 1.0081657773964843,\n",
       " 1.6027185356033602,\n",
       " 0.4976710929301056,\n",
       " 0.27741095349582046,\n",
       " 0.2077990494246803,\n",
       " 0.27277399670279423,\n",
       " 0.6451909929097674,\n",
       " 0.27606934577962755,\n",
       " 0.996692818324621,\n",
       " 0.7561204708370288,\n",
       " 0.06823929234409824,\n",
       " 0.3328571616763702,\n",
       " 0.5593495828502935,\n",
       " 0.07261601709406229,\n",
       " 1.0575947210131837,\n",
       " 1.4399568269008018,\n",
       " 0.3607834865044571,\n",
       " 0.6853831254464607,\n",
       " 1.1646297623348751,\n",
       " 0.5029951245574183,\n",
       " 0.1515551310088683,\n",
       " 0.15030948385815482,\n",
       " 0.6704949699506572,\n",
       " 1.0539813562857918,\n",
       " 0.3016713828162622,\n",
       " 0.28558896768045217,\n",
       " 0.1424841255535469,\n",
       " 0.5462286806077098,\n",
       " 0.8898595897189886,\n",
       " 0.14669250370110132,\n",
       " 0.7586210369953805,\n",
       " 1.4783592889228137,\n",
       " 0.48796381535867167,\n",
       " 0.5041206393803044,\n",
       " 1.0363286315023497,\n",
       " 0.11705862395950221,\n",
       " 1.4708701391659185,\n",
       " 0.966429514713879,\n",
       " 0.08084616071934468,\n",
       " 0.28808026708530127,\n",
       " 0.14130637948442304,\n",
       " 0.5216957825591372,\n",
       " 0.5673995756136396,\n",
       " 0.2615267257768758,\n",
       " 1.1832004744769695,\n",
       " 0.9961897655399953,\n",
       " 0.22040644802817058,\n",
       " 0.8259164785543592,\n",
       " 0.33791767123858235,\n",
       " 1.4250634871519987,\n",
       " 1.2109401480881998,\n",
       " 0.2523314958611975,\n",
       " 0.8690136370797542,\n",
       " 0.9046044599517397,\n",
       " 0.3087250917679588,\n",
       " 0.30881993396101337,\n",
       " 0.29190030954894197,\n",
       " 1.5547551588048023,\n",
       " 0.21079184623846223,\n",
       " 0.7637687140293151,\n",
       " 0.15603454520681223,\n",
       " 1.0359417303138496,\n",
       " 0.9385255766823604,\n",
       " 0.8085593136621366,\n",
       " 0.5460135682560473,\n",
       " 0.8549947194419782,\n",
       " 0.2503438724149448,\n",
       " 0.6521689908721624,\n",
       " 1.1268196819395018,\n",
       " 0.4665748830585851,\n",
       " 0.29677271696466373,\n",
       " 0.6154345097788935,\n",
       " 0.44505797617146775,\n",
       " 0.8542949394052153,\n",
       " 0.28159637492279355,\n",
       " 0.6459071410500749,\n",
       " 0.7755763187664185,\n",
       " 0.4004211660668958,\n",
       " 0.40843785746324923,\n",
       " 0.23038192236746896,\n",
       " 0.09546982046974839,\n",
       " 0.4859662590535724,\n",
       " 0.6253409771213663,\n",
       " 0.3848006255468489,\n",
       " 0.2626502493302846,\n",
       " 0.4196310319852383,\n",
       " 0.9517623511448513,\n",
       " 0.332607822576064,\n",
       " 0.08749014592472684,\n",
       " 0.8025319531731508,\n",
       " 0.32016404349473654,\n",
       " 0.13413748651754992,\n",
       " 0.17926211733436365,\n",
       " 0.558459268150608,\n",
       " 0.4101401425954118,\n",
       " 0.5474711646339624,\n",
       " 1.1367354642149252,\n",
       " 0.37572736384509453,\n",
       " 0.430522680735404,\n",
       " 0.6799638018045493,\n",
       " 0.2882443608616931,\n",
       " 0.11987595694191011,\n",
       " 0.5407049010331303,\n",
       " 2.264133480875986,\n",
       " 0.9338639769066449,\n",
       " 0.2569348897493754,\n",
       " 0.42014659617794375,\n",
       " 1.2146196183897153,\n",
       " 0.5176014019247445,\n",
       " 0.09806241875394837,\n",
       " 0.24635610091351084,\n",
       " 0.09375758122728174,\n",
       " 1.0335601614309877,\n",
       " 0.05601596133307873,\n",
       " 0.3307650619103767,\n",
       " 0.21868639277842658,\n",
       " 0.6309589814156087,\n",
       " 0.9094927141161038,\n",
       " 0.662367343203726,\n",
       " 1.0373453041029495,\n",
       " 1.7365889120860172,\n",
       " 0.4813614716199078,\n",
       " 1.6670322202984025,\n",
       " 0.2813525291473127,\n",
       " 0.17133653521464728,\n",
       " 1.162510649885802,\n",
       " 0.2291158860793206,\n",
       " 0.3793003025991411,\n",
       " 0.36083964123393925,\n",
       " 0.9640275010032506,\n",
       " 0.23275896719857178,\n",
       " 1.1612749636870618,\n",
       " 0.3762467600043071,\n",
       " 1.2859878710053845,\n",
       " 0.6987571437826954,\n",
       " 0.2630393922231768,\n",
       " 0.40665958556884996,\n",
       " 0.2851960438710851,\n",
       " 0.6145853406606417,\n",
       " 1.7194411358401371,\n",
       " 0.4382065448874739,\n",
       " 0.6101831906468045,\n",
       " 0.16746109196997755,\n",
       " 0.874227451312245,\n",
       " 0.31594770695029595,\n",
       " 0.4346052218841194,\n",
       " 0.41458190837907943,\n",
       " 0.2353701619849984,\n",
       " 0.7200244525970374,\n",
       " 0.3626264494215246,\n",
       " 0.22931988262037872,\n",
       " 0.6250414904273479,\n",
       " 0.28591979282742813,\n",
       " 0.17705482056045552,\n",
       " 0.15104307471633974,\n",
       " 0.13335763769143452,\n",
       " 0.1897484585706082,\n",
       " 0.0902628649782417,\n",
       " 0.14676302042668993,\n",
       " 0.23332715060921,\n",
       " 0.3584383312896799,\n",
       " 0.2066190472437836,\n",
       " 0.4159783348123416,\n",
       " 0.1793857831402562,\n",
       " 0.29310360090241944,\n",
       " 0.132450502034977,\n",
       " 0.9373524549053857,\n",
       " 1.0713597205141914,\n",
       " 0.5117586439867349,\n",
       " 1.6664244433231212,\n",
       " 0.2610335783194982,\n",
       " 0.24583444069045093,\n",
       " 0.1404385761530215,\n",
       " 0.9966158483431022,\n",
       " 0.04719188691270378,\n",
       " 0.03413211780438817,\n",
       " 0.7425810317792536,\n",
       " 0.1503597957153965,\n",
       " 0.7503659808516105,\n",
       " 1.6538172010709105,\n",
       " 1.3814864480051263,\n",
       " 0.6177175230497461,\n",
       " 0.25885507202844477,\n",
       " 0.5420660970605202,\n",
       " 0.26005763338640625,\n",
       " 0.4810012427537383,\n",
       " 1.9813011786495192,\n",
       " 0.2854594518132467,\n",
       " 0.19229075389373257,\n",
       " 0.25124714979832885,\n",
       " 0.46390282776777064,\n",
       " 0.24974515117464655,\n",
       " 0.4988765166877485,\n",
       " 1.5102308952080385,\n",
       " 2.219341777869671,\n",
       " 0.1244156833642716,\n",
       " 0.251448718104387,\n",
       " 1.544886384445847,\n",
       " 1.0680842635833951,\n",
       " 0.45236701177979094,\n",
       " 1.2065241325273306,\n",
       " 0.8834989787579389,\n",
       " 0.4183270251718818,\n",
       " 0.30538264266887055,\n",
       " 0.49388009000243155,\n",
       " 0.29482554302479486,\n",
       " 1.0290501718365468,\n",
       " 1.02433427365133,\n",
       " 0.43205367488358437,\n",
       " 0.2881101669452604,\n",
       " 0.18368779705314878,\n",
       " 0.9260396868000734,\n",
       " 0.6148067067173402,\n",
       " 1.3313366124372503,\n",
       " 0.4069400587884542,\n",
       " 0.2805164292217802,\n",
       " 0.216205377136704,\n",
       " 0.9379177812532747,\n",
       " 0.22814895370304697,\n",
       " 0.17003263887357414,\n",
       " 0.21658165027814177,\n",
       " 0.6089818615508255,\n",
       " 0.34763166202737245,\n",
       " 0.6313964866015525,\n",
       " 0.26390470250360604,\n",
       " 0.8849541334016143,\n",
       " 0.47864302753603666,\n",
       " 0.41493233131644675,\n",
       " 0.7266870534403418,\n",
       " 0.24753712092918764,\n",
       " 0.21661946978669294,\n",
       " 0.16781961530135264,\n",
       " 0.810813510826619,\n",
       " 0.806163565480534,\n",
       " 0.42059360210325863,\n",
       " 1.4582803243668923,\n",
       " 0.09764736326188109,\n",
       " 0.28755270655483933,\n",
       " 1.135015687581034,\n",
       " 0.2850225499303504,\n",
       " 0.0525160970227124,\n",
       " 0.26333428180765367,\n",
       " 0.22222307174698747,\n",
       " 1.0912480184773425,\n",
       " 0.1208732619499535,\n",
       " 0.7099910181100718,\n",
       " 1.1534818898854113,\n",
       " 0.393108340990417,\n",
       " 0.23842459911485464,\n",
       " 0.1964953105364158,\n",
       " 0.10687988660348897,\n",
       " 1.0865378538234378,\n",
       " 0.8603337854790936,\n",
       " 0.3106447167087399,\n",
       " 1.4292547087349396,\n",
       " 0.624162197045874,\n",
       " 0.543738588997511,\n",
       " 0.38304113530892314,\n",
       " 0.43026675097735695,\n",
       " 0.14009267183533405,\n",
       " 0.3178431363343187,\n",
       " 0.129071313628065,\n",
       " 0.3202712641864427,\n",
       " 0.42147743776894125,\n",
       " 0.06130665903750078,\n",
       " 0.6985280299282787,\n",
       " 0.39557527115261815,\n",
       " 0.16247712540048667,\n",
       " 0.4770141465601451,\n",
       " 0.9488713204404177,\n",
       " 0.6633210524940774,\n",
       " 0.6755978044683933,\n",
       " 1.0502722128690405,\n",
       " 0.4723803638030086,\n",
       " 0.42490169703982866,\n",
       " 0.46927470853263054,\n",
       " 0.8289723854835449,\n",
       " 0.7408298344149992,\n",
       " 0.24094754938701518,\n",
       " 0.6921185836240888,\n",
       " 0.15448578114701617,\n",
       " 0.8878893707546855,\n",
       " 0.28175602514176085,\n",
       " 1.3903799414526647,\n",
       " 0.6540113626219276,\n",
       " 0.09392865795538215,\n",
       " 0.6558984861160351,\n",
       " 0.09872902004371406,\n",
       " 0.24761949000437553,\n",
       " 0.6834308818716427,\n",
       " 1.4592237549275926,\n",
       " 0.7493462274607942,\n",
       " 0.3292807017098537,\n",
       " 0.6961528999998585,\n",
       " 0.4045401106246594,\n",
       " 0.9671547084159638,\n",
       " 1.9414130609909424,\n",
       " 0.2486554187828665,\n",
       " 0.4708298368280171,\n",
       " 0.7625080921605378,\n",
       " 0.11894404000091048,\n",
       " 0.9785381571184839,\n",
       " 1.1840353551697307,\n",
       " 0.7290638755399435,\n",
       " 0.8241551590446228,\n",
       " 0.4264379485730652,\n",
       " 0.41191248809595504,\n",
       " 0.43068497532264044,\n",
       " 0.5665644658450387,\n",
       " 0.38503727909805713,\n",
       " 0.8133149588215338,\n",
       " 0.5366034535542895,\n",
       " 1.0029077680770522,\n",
       " 0.3469557175793551,\n",
       " 0.6208923050910335,\n",
       " 0.7363237244453953,\n",
       " 0.21439913578714326,\n",
       " 0.2796369878476869,\n",
       " 0.9406172922443434,\n",
       " 0.2720864383466966,\n",
       " 0.4078484348660886,\n",
       " 0.6311039374999331,\n",
       " 0.9221736177891509,\n",
       " 0.3228855743421575,\n",
       " 0.35528758851412806,\n",
       " 0.5212004253702536,\n",
       " 0.30238450436344916,\n",
       " 1.0282490812564007,\n",
       " 0.4792175798218214,\n",
       " 0.4871972695523948,\n",
       " 0.7592008143906492,\n",
       " 0.34351332150438924,\n",
       " 0.15032507202318673,\n",
       " 0.8033974454148912,\n",
       " 0.349287624721492,\n",
       " 1.1215968867978343,\n",
       " 0.37330368320764246,\n",
       " 0.1593159361437839,\n",
       " 0.7495839357702868,\n",
       " 1.1891657274950824,\n",
       " 0.23874389833116033,\n",
       " 0.11353121033898203,\n",
       " 0.5241064231603806,\n",
       " 0.6230362757595956,\n",
       " 0.42368444218966955,\n",
       " 0.7792218684394709,\n",
       " 0.2729500382621327,\n",
       " 0.7839207664643395,\n",
       " 0.33914726741920814,\n",
       " 0.43291135335124137,\n",
       " 0.6347518164250854,\n",
       " 0.9393796371901226,\n",
       " 0.3573825172950289,\n",
       " 0.9538883435002546,\n",
       " 0.4024586186412037,\n",
       " 0.2670004724712532,\n",
       " 0.7510848795193245,\n",
       " 0.7458705399533013,\n",
       " 0.31555653771503633,\n",
       " 0.4189291841922015,\n",
       " 0.17673205666780425,\n",
       " 0.73097984930481,\n",
       " 1.7417437406167104,\n",
       " 0.5836170383595116,\n",
       " 0.2815708191391968,\n",
       " 0.5175205656024656,\n",
       " 0.2743832748525104,\n",
       " 1.2377502715284925,\n",
       " 0.7001361704838212,\n",
       " 0.27602431314181936,\n",
       " 1.0973377242327689,\n",
       " 0.5957268809081757,\n",
       " 0.27119133907858284,\n",
       " 0.18340726203606383,\n",
       " 0.10308678328986479,\n",
       " 1.8459561696503377,\n",
       " 0.16184156260903004,\n",
       " 0.34052248961398446,\n",
       " 0.5283342874071987,\n",
       " 0.9679374941320087,\n",
       " 0.5886146315483197,\n",
       " 0.3135027447946509,\n",
       " 0.5404891157214529,\n",
       " 0.6069969027877317,\n",
       " 1.1237523149687954,\n",
       " 0.5345283967428175,\n",
       " 1.469284676123358,\n",
       " 1.1108372594504246,\n",
       " 0.2719648892855011,\n",
       " 1.0727069344525169,\n",
       " 0.7218571677602827,\n",
       " 0.42725976200454163,\n",
       " 0.8128277759663688,\n",
       " 0.336902185496233,\n",
       " 0.5708930673685693,\n",
       " 0.49991935459111303,\n",
       " 0.10518765673733754,\n",
       " 0.5006432030741045,\n",
       " 0.5869737798580409,\n",
       " 0.3418057470799714,\n",
       " 0.34318852639174663,\n",
       " 1.5380406641640303,\n",
       " 1.1651405307990335,\n",
       " 0.27225638537650776,\n",
       " 0.44920587711194826,\n",
       " 0.7255911683251879,\n",
       " 1.1238291174910546,\n",
       " 0.4399732137650899,\n",
       " 0.40476555479528004,\n",
       " 0.6614179125346837,\n",
       " 0.535685950254849,\n",
       " 0.7004990208884805,\n",
       " 0.47363239884799274,\n",
       " 0.43695113705053673,\n",
       " 0.26061297257744526,\n",
       " 0.723290562213155,\n",
       " 1.357180006329344,\n",
       " 0.5176586677472542,\n",
       " 0.4409207445955524,\n",
       " 0.31249602916094255,\n",
       " 0.718004534944644,\n",
       " 0.2585348875075782,\n",
       " 0.4323308000538147,\n",
       " 0.7740227638137791,\n",
       " 0.482226729367844,\n",
       " 0.34612193362486254,\n",
       " 0.6199483989644655,\n",
       " 1.0977347637209331,\n",
       " 0.5181972530145345,\n",
       " 0.4984772576688445,\n",
       " 0.3574940541409335,\n",
       " 1.0016624590321892,\n",
       " 1.1470202951431536,\n",
       " 1.117597803956435,\n",
       " 0.2606192350636865,\n",
       " 0.38926428047145833,\n",
       " 0.5068998168958821,\n",
       " 0.36878128094197116,\n",
       " 0.8274781401520355,\n",
       " 0.26282205718751744,\n",
       " 0.22812980814656697,\n",
       " 0.30953557088230876,\n",
       " 0.14973591570346437,\n",
       " 0.16424359622739004,\n",
       " 0.18673338122036284,\n",
       " 0.16142137504803153,\n",
       " 0.12481736176826498,\n",
       " 0.7934995900167712,\n",
       " 0.6783123779732401,\n",
       " 0.39452027751393787,\n",
       " 1.0164974867919458,\n",
       " 0.15418252766280938,\n",
       " 0.9470794725051034,\n",
       " 0.4514563210790679,\n",
       " 0.20490750799005636,\n",
       " 0.49949768564126545,\n",
       " 0.23764593426593142,\n",
       " 0.6474944434751836,\n",
       " 0.6628741330732918,\n",
       " 0.7063841993985935,\n",
       " 0.9939722460258434,\n",
       " 0.8955628318098432,\n",
       " 0.9743891797579147,\n",
       " 0.6936182678555622,\n",
       " 0.42891486898864895,\n",
       " 0.10555893133876283,\n",
       " 1.0311621274422338,\n",
       " 0.10975719416586714,\n",
       " 0.08717170807944719,\n",
       " 0.5448426698180733,\n",
       " 0.22413652281376126,\n",
       " 0.8055720715889263,\n",
       " 0.9778584546670738,\n",
       " 1.087485137514379,\n",
       " 1.041897839045485,\n",
       " 0.40702696948868594,\n",
       " 0.4705799661623553,\n",
       " 0.16825405053524095,\n",
       " 0.20854234530041216,\n",
       " 0.38980257757066444,\n",
       " 0.36838311714802285,\n",
       " 0.5039363602521763,\n",
       " 0.33264711142126197,\n",
       " 0.4470803471149444,\n",
       " 0.9443593877411091,\n",
       " 0.1531509452181395,\n",
       " 0.30585584374322056,\n",
       " 0.34969104594499767,\n",
       " 0.25041386113318304,\n",
       " 0.5009085766339524,\n",
       " 0.6026403189619665,\n",
       " 0.5374438145647938,\n",
       " 0.7761814268896171,\n",
       " 1.6594024839833768,\n",
       " 0.1068586231640179,\n",
       " 1.12035560470116,\n",
       " 1.4022347806281086,\n",
       " 0.3504121755426325,\n",
       " 0.9995471839309882,\n",
       " 0.290268124687193,\n",
       " 0.4287084537270636,\n",
       " 1.2321470255650047,\n",
       " 0.3612749248329031,\n",
       " 0.4111114850007433,\n",
       " 0.29178821292958323,\n",
       " ...]"
      ]
     },
     "execution_count": 11,
     "metadata": {},
     "output_type": "execute_result"
    }
   ],
   "source": [
    "clf.errors_log['loss']"
   ]
  },
  {
   "cell_type": "markdown",
   "metadata": {},
   "source": [
    "Далее будем анализировать Ваш алгоритм. \n",
    "Для этих заданий используйте датасет ниже."
   ]
  },
  {
   "cell_type": "code",
   "execution_count": 12,
   "metadata": {},
   "outputs": [],
   "source": [
    "from sklearn.datasets import make_classification"
   ]
  },
  {
   "cell_type": "code",
   "execution_count": 13,
   "metadata": {},
   "outputs": [],
   "source": [
    "X, y = make_classification(n_samples=100000, n_features=10, \n",
    "                           n_informative=4, n_redundant=0, \n",
    "                           random_state=123, class_sep=1.0,\n",
    "                           n_clusters_per_class=1)"
   ]
  },
  {
   "cell_type": "markdown",
   "metadata": {},
   "source": [
    "Покажите сходимости обеих регрессией на этом датасете: изобразите график  функции потерь, усредненной по $N$ шагам градиентого спуска, для разных `alpha` (размеров шага). Разные `alpha` расположите на одном графике. \n",
    "\n",
    "$N$ можно брать 10, 50, 100 и т.д. "
   ]
  },
  {
   "cell_type": "code",
   "execution_count": 14,
   "metadata": {},
   "outputs": [],
   "source": [
    "def mean_loss(N, loss):\n",
    "    res = []\n",
    "    for i in range(len(loss)//N):\n",
    "        res.append(np.mean(loss[i*N:(i+1)*N:]))\n",
    "    if len(loss) % N != 0:\n",
    "        res.append(np.mean(loss[(i+1)*N::]))\n",
    "    return res    "
   ]
  },
  {
   "cell_type": "code",
   "execution_count": 15,
   "metadata": {},
   "outputs": [],
   "source": [
    "clf = MySGDClassifier(batch_generator, C = 1000, alpha = 0.1, max_epoch=5, model_type = 'lin_reg',batch_size = 20)\n",
    "clf.fit(X, y)\n",
    "l1 = mean_loss(100, clf.errors_log['loss'])\n",
    "\n",
    "clf = MySGDClassifier(batch_generator, C = 1000, alpha = 0.01, max_epoch=5, model_type = 'lin_reg',batch_size = 20)\n",
    "clf.fit(X, y)\n",
    "l2 = mean_loss(100, clf.errors_log['loss'])\n",
    "\n",
    "clf = MySGDClassifier(batch_generator, C = 1000, alpha = 0.001, max_epoch=5, model_type = 'lin_reg',batch_size = 20)\n",
    "clf.fit(X, y)\n",
    "l3 = mean_loss(100, clf.errors_log['loss'])\n",
    "\n",
    "clf = MySGDClassifier(batch_generator, C = 1000, alpha = 0.0001, max_epoch=5, model_type = 'lin_reg',batch_size = 20)\n",
    "clf.fit(X, y)\n",
    "l4 = mean_loss(100, clf.errors_log['loss'])"
   ]
  },
  {
   "cell_type": "code",
   "execution_count": 16,
   "metadata": {},
   "outputs": [
    {
     "data": {
      "text/plain": [
       "(0.0, 1.0)"
      ]
     },
     "execution_count": 16,
     "metadata": {},
     "output_type": "execute_result"
    },
    {
     "data": {
      "image/png": "[encoded data removed]",
      "text/plain": [
       "<Figure size 1080x504 with 1 Axes>"
      ]
     },
     "metadata": {},
     "output_type": "display_data"
    }
   ],
   "source": [
    "fig, ax = plt.subplots(figsize=(15, 7))\n",
    "\n",
    "step_count = np.arange(len(l1))*100\n",
    "ax.plot(step_count, l1)\n",
    "ax.plot(step_count, l2)\n",
    "ax.plot(step_count, l3)\n",
    "ax.plot(step_count, l4)\n",
    "ax.legend(['0.1', '0.01', '0.001', '0.0001'])\n",
    "ax.set_ylabel('mean_loss')\n",
    "ax.set_xlabel('steps')\n",
    "plt.ylim(0, 1)"
   ]
  },
  {
   "cell_type": "code",
   "execution_count": 17,
   "metadata": {},
   "outputs": [],
   "source": [
    "clf = MySGDClassifier(batch_generator, C = 100, alpha = 0.5, max_epoch=5, model_type = 'log_reg',batch_size = 20)\n",
    "clf.fit(X, y)\n",
    "l1 = mean_loss(100, clf.errors_log['loss'])\n",
    "\n",
    "clf = MySGDClassifier(batch_generator, C = 100, alpha = 0.1, max_epoch=5, model_type = 'log_reg',batch_size = 20)\n",
    "clf.fit(X, y)\n",
    "l2 = mean_loss(100, clf.errors_log['loss'])\n",
    "\n",
    "clf = MySGDClassifier(batch_generator, C = 100, alpha = 0.01, max_epoch=5, model_type = 'log_reg',batch_size = 20)\n",
    "clf.fit(X, y)\n",
    "l3 = mean_loss(100, clf.errors_log['loss'])\n",
    "\n",
    "clf = MySGDClassifier(batch_generator, C = 100, alpha = 0.001, max_epoch=5, model_type = 'log_reg',batch_size = 20)\n",
    "clf.fit(X, y)\n",
    "l4 = mean_loss(100, clf.errors_log['loss'])\n",
    "\n",
    "clf = MySGDClassifier(batch_generator, C = 100, alpha = 0.0001, max_epoch=5, model_type = 'log_reg',batch_size = 20)\n",
    "clf.fit(X, y)\n",
    "l5 = mean_loss(100, clf.errors_log['loss'])"
   ]
  },
  {
   "cell_type": "code",
   "execution_count": 18,
   "metadata": {},
   "outputs": [
    {
     "data": {
      "text/plain": [
       "(0.0, 1.0)"
      ]
     },
     "execution_count": 18,
     "metadata": {},
     "output_type": "execute_result"
    },
    {
     "data": {
      "image/png": "[encoded data removed]",
      "text/plain": [
       "<Figure size 1080x504 with 1 Axes>"
      ]
     },
     "metadata": {},
     "output_type": "display_data"
    }
   ],
   "source": [
    "fig, ax = plt.subplots(figsize=(15, 7))\n",
    "\n",
    "step_count = np.arange(len(l1))*100\n",
    "ax.plot(step_count, l1)\n",
    "ax.plot(step_count, l2)\n",
    "ax.plot(step_count, l3)\n",
    "ax.plot(step_count, l4)\n",
    "ax.plot(step_count, l5)\n",
    "ax.legend(['0,5','0.1', '0.01', '0.001', '0.0001'])\n",
    "ax.set_ylabel('mean_loss')\n",
    "ax.set_xlabel('steps')\n",
    "plt.ylim(0, 1)"
   ]
  },
  {
   "cell_type": "markdown",
   "metadata": {},
   "source": [
    "Что Вы можете сказать про сходимость метода при различных `alpha`? Какое значение стоит выбирать для лучшей сходимости?"
   ]
  },
  {
   "cell_type": "markdown",
   "metadata": {},
   "source": [
    "**При очень маленьких альфа сходится медленнее, оптимальное значение альфа 0.1, когда альфа большое, то ошибка побольше**"
   ]
  },
  {
   "cell_type": "markdown",
   "metadata": {},
   "source": [
    "Изобразите график среднего значения весов для обеих регрессий в зависимости от коеф. регуляризации С из `np.logspace(3, -3, 10)` "
   ]
  },
  {
   "cell_type": "code",
   "execution_count": 19,
   "metadata": {},
   "outputs": [
    {
     "name": "stderr",
     "output_type": "stream",
     "text": [
      "<ipython-input-7-086a8952c628>:50: RuntimeWarning: divide by zero encountered in log\n",
      "  loss = - np.mean(y_batch * np.log(p) + (1 - y_batch)*np.log(1 - p))\n",
      "<ipython-input-7-086a8952c628>:50: RuntimeWarning: invalid value encountered in multiply\n",
      "  loss = - np.mean(y_batch * np.log(p) + (1 - y_batch)*np.log(1 - p))\n",
      "<ipython-input-7-086a8952c628>:9: RuntimeWarning: overflow encountered in exp\n",
      "  sigm_value_x = 1 / (1 + np.exp(-x))\n",
      "<ipython-input-7-086a8952c628>:51: RuntimeWarning: overflow encountered in double_scalars\n",
      "  reg = 1/self.C * np.sum(self.weights[1::]**2)\n",
      "c:\\users\\денис\\appdata\\local\\programs\\python\\python38\\lib\\site-packages\\numpy\\core\\fromnumeric.py:90: RuntimeWarning: overflow encountered in reduce\n",
      "  return ufunc.reduce(obj, axis, dtype, out, **passkwargs)\n",
      "<ipython-input-7-086a8952c628>:51: RuntimeWarning: overflow encountered in square\n",
      "  reg = 1/self.C * np.sum(self.weights[1::]**2)\n",
      "<ipython-input-7-086a8952c628>:49: RuntimeWarning: overflow encountered in matmul\n",
      "  p = sigmoid(X_batch @ self.weights)\n",
      "<ipython-input-7-086a8952c628>:66: RuntimeWarning: overflow encountered in matmul\n",
      "  p = sigmoid(X_batch @ self.weights)\n",
      "<ipython-input-7-086a8952c628>:70: RuntimeWarning: overflow encountered in multiply\n",
      "  reg = (2 / self.C) * np.hstack((np.array([0]),self.weights[1::]))\n",
      "<ipython-input-7-086a8952c628>:80: RuntimeWarning: invalid value encountered in subtract\n",
      "  self.weights -= (self.alpha * new_grad)\n",
      "<ipython-input-7-086a8952c628>:49: RuntimeWarning: invalid value encountered in matmul\n",
      "  p = sigmoid(X_batch @ self.weights)\n",
      "<ipython-input-7-086a8952c628>:66: RuntimeWarning: invalid value encountered in matmul\n",
      "  p = sigmoid(X_batch @ self.weights)\n"
     ]
    },
    {
     "data": {
      "text/plain": [
       "[<matplotlib.lines.Line2D at 0x25874425130>]"
      ]
     },
     "execution_count": 19,
     "metadata": {},
     "output_type": "execute_result"
    },
    {
     "data": {
      "image/png": "[encoded data removed]",
      "text/plain": [
       "<Figure size 864x360 with 1 Axes>"
      ]
     },
     "metadata": {},
     "output_type": "display_data"
    }
   ],
   "source": [
    "w_mean = []\n",
    "c_val = []\n",
    "\n",
    "for c in np.logspace(3, -3, 10):\n",
    "    clf = MySGDClassifier(batch_generator, C = c, alpha = 0.5, max_epoch=5, model_type = 'log_reg',batch_size = 20)\n",
    "    clf.fit(X, y)\n",
    "    c_val.append(c)\n",
    "    w_mean.append(np.mean(clf.weights[1::]))\n",
    "    \n",
    "plt.plot(c_val, w_mean)    "
   ]
  },
  {
   "cell_type": "code",
   "execution_count": 20,
   "metadata": {},
   "outputs": [
    {
     "name": "stderr",
     "output_type": "stream",
     "text": [
      "c:\\users\\денис\\appdata\\local\\programs\\python\\python38\\lib\\site-packages\\numpy\\core\\_methods.py:151: RuntimeWarning: overflow encountered in reduce\n",
      "  ret = umr_sum(arr, axis, dtype, out, keepdims)\n",
      "<ipython-input-7-086a8952c628>:47: RuntimeWarning: overflow encountered in square\n",
      "  loss = np.mean((y_pred-y_batch)**2)\n",
      "<ipython-input-7-086a8952c628>:51: RuntimeWarning: overflow encountered in double_scalars\n",
      "  reg = 1/self.C * np.sum(self.weights[1::]**2)\n",
      "<ipython-input-7-086a8952c628>:51: RuntimeWarning: overflow encountered in square\n",
      "  reg = 1/self.C * np.sum(self.weights[1::]**2)\n",
      "<ipython-input-7-086a8952c628>:64: RuntimeWarning: overflow encountered in matmul\n",
      "  loss_grad = 2 / X_batch.shape[0] * (z @ X_batch)\n",
      "<ipython-input-7-086a8952c628>:64: RuntimeWarning: invalid value encountered in matmul\n",
      "  loss_grad = 2 / X_batch.shape[0] * (z @ X_batch)\n",
      "<ipython-input-7-086a8952c628>:80: RuntimeWarning: invalid value encountered in subtract\n",
      "  self.weights -= (self.alpha * new_grad)\n",
      "<ipython-input-7-086a8952c628>:70: RuntimeWarning: overflow encountered in multiply\n",
      "  reg = (2 / self.C) * np.hstack((np.array([0]),self.weights[1::]))\n",
      "<ipython-input-7-086a8952c628>:46: RuntimeWarning: invalid value encountered in matmul\n",
      "  y_pred = X_batch @ self.weights\n",
      "<ipython-input-7-086a8952c628>:63: RuntimeWarning: invalid value encountered in matmul\n",
      "  z = (X_batch @ self.weights - y_batch )\n"
     ]
    },
    {
     "data": {
      "text/plain": [
       "[<matplotlib.lines.Line2D at 0x25874483160>]"
      ]
     },
     "execution_count": 20,
     "metadata": {},
     "output_type": "execute_result"
    },
    {
     "data": {
      "image/png": "[encoded data removed]",
      "text/plain": [
       "<Figure size 864x360 with 1 Axes>"
      ]
     },
     "metadata": {},
     "output_type": "display_data"
    }
   ],
   "source": [
    "w_mean = []\n",
    "c_val = []\n",
    "\n",
    "for c in np.logspace(3, -3, 10):\n",
    "    clf = MySGDClassifier(batch_generator, C = c, alpha = 0.1, max_epoch=5, model_type = 'lin_reg',batch_size = 20)\n",
    "    clf.fit(X, y)\n",
    "    c_val.append(c)\n",
    "    w_mean.append(np.mean(clf.weights[1::]))\n",
    "    \n",
    "plt.plot(c_val, w_mean) "
   ]
  },
  {
   "cell_type": "markdown",
   "metadata": {},
   "source": [
    "Довольны ли Вы, насколько сильно уменьшились Ваши веса? "
   ]
  },
  {
   "cell_type": "markdown",
   "metadata": {},
   "source": [
    "**В логистической регрессии - да, а в линейной уменьшились не очень сильно**"
   ]
  },
  {
   "cell_type": "markdown",
   "metadata": {},
   "source": [
    "# Боевое применение (4  балла)\n",
    "\n",
    "**Защита данной части возможна только при преодолении в проекте бейзлайна Handmade baseline.**"
   ]
  },
  {
   "cell_type": "markdown",
   "metadata": {},
   "source": [
    "Давайте применим модель на итоговом проекте! Датасет сделаем точно таким же образом, как было показано в project_overview.ipynb\n",
    "\n",
    "Применим обе регрессии, подберем для них параметры и сравним качество. Может быть Вы еще одновременно с решением домашней работы подрастете на лидерборде!"
   ]
  },
  {
   "cell_type": "code",
   "execution_count": 21,
   "metadata": {},
   "outputs": [
    {
     "name": "stdout",
     "output_type": "stream",
     "text": [
      "28026\n"
     ]
    }
   ],
   "source": [
    "doc_to_title = {}\n",
    "with open('docs_titles.tsv',encoding='utf-8') as f:\n",
    "    for num_line, line in enumerate(f):\n",
    "        if num_line == 0:\n",
    "            continue\n",
    "        data = line.strip().split('\\t', 1)\n",
    "        doc_id = int(data[0])\n",
    "        if len(data) == 1:\n",
    "            title = ''\n",
    "        else:\n",
    "            title = data[1]\n",
    "        doc_to_title[doc_id] = title\n",
    "print (len(doc_to_title))\n"
   ]
  },
  {
   "cell_type": "code",
   "execution_count": 22,
   "metadata": {},
   "outputs": [],
   "source": [
    "import pandas as pd\n",
    "train_data = pd.read_csv('train_groups.csv')\n",
    "traingroups_titledata = {}\n",
    "for i in range(len(train_data)):\n",
    "    new_doc = train_data.iloc[i]\n",
    "    doc_group = new_doc['group_id']\n",
    "    doc_id = new_doc['doc_id']\n",
    "    target = new_doc['target']\n",
    "    title = doc_to_title[doc_id]\n",
    "    if doc_group not in traingroups_titledata:\n",
    "        traingroups_titledata[doc_group] = []\n",
    "    traingroups_titledata[doc_group].append((doc_id, title, target))"
   ]
  },
  {
   "cell_type": "code",
   "execution_count": 23,
   "metadata": {},
   "outputs": [
    {
     "name": "stdout",
     "output_type": "stream",
     "text": [
      "(11690, 15) (11690,) (11690,)\n"
     ]
    }
   ],
   "source": [
    "import numpy as np\n",
    "y_train = []\n",
    "X_train = []\n",
    "groups_train = []\n",
    "for new_group in traingroups_titledata:\n",
    "    docs = traingroups_titledata[new_group]\n",
    "    for k, (doc_id, title, target_id) in enumerate(docs):\n",
    "        y_train.append(target_id)\n",
    "        groups_train.append(new_group)\n",
    "        all_dist = []\n",
    "        words = set(title.strip().split())\n",
    "        for j in range(0, len(docs)):\n",
    "            if k == j:\n",
    "                continue\n",
    "            doc_id_j, title_j, target_j = docs[j]\n",
    "            words_j = set(title_j.strip().split())\n",
    "            all_dist.append(len(words.intersection(words_j)))\n",
    "        X_train.append(sorted(all_dist, reverse=True)[0:15]    )\n",
    "X_train = np.array(X_train)\n",
    "y_train = np.array(y_train)\n",
    "groups_train = np.array(groups_train)\n",
    "print (X_train.shape, y_train.shape, groups_train.shape)"
   ]
  },
  {
   "cell_type": "markdown",
   "metadata": {},
   "source": [
    "Подберите размер батча для обучения. Линейная модель не должна учиться дольше нескольких минут. \n",
    "\n",
    "Не забывайте использовать скейлер!"
   ]
  },
  {
   "cell_type": "code",
   "execution_count": 24,
   "metadata": {},
   "outputs": [],
   "source": [
    "from sklearn.metrics import f1_score, make_scorer\n",
    "from sklearn.linear_model import LinearRegression\n",
    "from sklearn.preprocessing import StandardScaler"
   ]
  },
  {
   "cell_type": "code",
   "execution_count": 25,
   "metadata": {},
   "outputs": [
    {
     "data": {
      "text/plain": [
       "array([[ 0.28851817,  0.64985075,  0.34754853, ...,  0.40832322,\n",
       "        -0.2798612 , -0.25235498],\n",
       "       [ 1.83850779,  2.06407761,  2.42519734, ...,  0.40832322,\n",
       "         0.44747927,  0.49035139],\n",
       "       [-0.48647664, -0.29296716, -0.17186368, ..., -0.30881898,\n",
       "        -0.2798612 , -0.25235498],\n",
       "       ...,\n",
       "       [-1.26147145, -1.23578506, -1.21068809, ..., -1.02596118,\n",
       "        -1.00720167, -0.99506135],\n",
       "       [ 1.06351298, -0.29296716, -0.69127588, ..., -0.30881898,\n",
       "        -0.2798612 , -0.25235498],\n",
       "       [-0.09897923, -0.29296716, -0.17186368, ..., -0.30881898,\n",
       "        -0.2798612 , -0.25235498]])"
      ]
     },
     "execution_count": 25,
     "metadata": {},
     "output_type": "execute_result"
    }
   ],
   "source": [
    "scaler = StandardScaler()\n",
    "scaler.fit(X_train)\n",
    "X_train = scaler.transform(X_train)\n",
    "X_train"
   ]
  },
  {
   "cell_type": "code",
   "execution_count": 26,
   "metadata": {},
   "outputs": [
    {
     "data": {
      "text/plain": [
       "[<matplotlib.lines.Line2D at 0x25874245e80>]"
      ]
     },
     "execution_count": 26,
     "metadata": {},
     "output_type": "execute_result"
    },
    {
     "data": {
      "image/png": "[encoded data removed]",
      "text/plain": [
       "<Figure size 864x360 with 1 Axes>"
      ]
     },
     "metadata": {},
     "output_type": "display_data"
    }
   ],
   "source": [
    "res = []\n",
    "size = [1, 10 ,20, 30, 40, 50 ,60 , 70 , 80 ,90, 100]\n",
    "for b in size:\n",
    "    clf = MySGDClassifier(batch_generator, C = 100, alpha = 0.01, max_epoch=5, model_type = 'log_reg',batch_size = b)\n",
    "    clf.fit(X, y)\n",
    "    res.append(mean_loss(100, clf.errors_log['loss'])[-1])\n",
    "      \n",
    "plt.plot(size, res)        "
   ]
  },
  {
   "cell_type": "code",
   "execution_count": 27,
   "metadata": {},
   "outputs": [
    {
     "data": {
      "text/plain": [
       "[<matplotlib.lines.Line2D at 0x25873e8d670>]"
      ]
     },
     "execution_count": 27,
     "metadata": {},
     "output_type": "execute_result"
    },
    {
     "data": {
      "image/png": "[encoded data removed]",
      "text/plain": [
       "<Figure size 864x360 with 1 Axes>"
      ]
     },
     "metadata": {},
     "output_type": "display_data"
    }
   ],
   "source": [
    "res = []\n",
    "size = [1, 10 ,20, 30, 40, 50 ,60 , 70 , 80 ,90, 100]\n",
    "for b in size:\n",
    "    clf = MySGDClassifier(batch_generator, C = 100, alpha = 0.01, max_epoch=5, model_type = 'lin_reg',batch_size = b)\n",
    "    clf.fit(X, y)\n",
    "    res.append(mean_loss(100, clf.errors_log['loss'])[-1])\n",
    "      \n",
    "plt.plot(size, res)   "
   ]
  },
  {
   "cell_type": "markdown",
   "metadata": {},
   "source": [
    "Разбейте данные на обучение и валидацию. Подберите параметры C, alpha, max_epoch, model_type на валидации (Вы же помните, как правильно в этой задаче делать валидацию?)"
   ]
  },
  {
   "cell_type": "code",
   "execution_count": 28,
   "metadata": {},
   "outputs": [],
   "source": [
    "from sklearn.model_selection import GroupKFold, cross_val_score, GridSearchCV"
   ]
  },
  {
   "cell_type": "code",
   "execution_count": 29,
   "metadata": {},
   "outputs": [],
   "source": [
    "param_grid = {'C': [10, 100, 1000],\n",
    "              'alpha': [0.005, 0.01, 0.05, 0.1],\n",
    "              'max_epoch': [5, 10, 12, 15]}"
   ]
  },
  {
   "cell_type": "code",
   "execution_count": 32,
   "metadata": {},
   "outputs": [],
   "source": [
    "clf = MySGDClassifier(batch_generator, model_type = 'lin_reg')\n",
    "grid_search = GridSearchCV(clf, param_grid, cv=GroupKFold(n_splits=3), scoring = make_scorer(f1_score))"
   ]
  },
  {
   "cell_type": "code",
   "execution_count": 33,
   "metadata": {},
   "outputs": [
    {
     "name": "stderr",
     "output_type": "stream",
     "text": [
      "c:\\users\\денис\\appdata\\local\\programs\\python\\python38\\lib\\site-packages\\sklearn\\utils\\validation.py:67: FutureWarning: Pass groups=[  1   1   1 ... 129 129 129] as keyword args. From version 0.25 passing these as positional arguments will result in an error\n",
      "  warnings.warn(\"Pass {} as keyword args. From version 0.25 \"\n",
      "<ipython-input-7-086a8952c628>:47: RuntimeWarning: overflow encountered in square\n",
      "  loss = np.mean((y_pred-y_batch)**2)\n",
      "c:\\users\\денис\\appdata\\local\\programs\\python\\python38\\lib\\site-packages\\numpy\\core\\fromnumeric.py:90: RuntimeWarning: overflow encountered in reduce\n",
      "  return ufunc.reduce(obj, axis, dtype, out, **passkwargs)\n",
      "<ipython-input-7-086a8952c628>:51: RuntimeWarning: overflow encountered in square\n",
      "  reg = 1/self.C * np.sum(self.weights[1::]**2)\n",
      "<ipython-input-7-086a8952c628>:64: RuntimeWarning: overflow encountered in multiply\n",
      "  loss_grad = 2 / X_batch.shape[0] * (z @ X_batch)\n",
      "<ipython-input-7-086a8952c628>:80: RuntimeWarning: invalid value encountered in subtract\n",
      "  self.weights -= (self.alpha * new_grad)\n",
      "<ipython-input-7-086a8952c628>:63: RuntimeWarning: invalid value encountered in matmul\n",
      "  z = (X_batch @ self.weights - y_batch )\n",
      "<ipython-input-7-086a8952c628>:117: RuntimeWarning: invalid value encountered in less\n",
      "  y_hat[z < self.th] = 0\n",
      "<ipython-input-7-086a8952c628>:46: RuntimeWarning: overflow encountered in matmul\n",
      "  y_pred = X_batch @ self.weights\n",
      "<ipython-input-7-086a8952c628>:71: RuntimeWarning: overflow encountered in add\n",
      "  return loss_grad + reg\n",
      "<ipython-input-7-086a8952c628>:64: RuntimeWarning: overflow encountered in matmul\n",
      "  loss_grad = 2 / X_batch.shape[0] * (z @ X_batch)\n",
      "<ipython-input-7-086a8952c628>:63: RuntimeWarning: overflow encountered in matmul\n",
      "  z = (X_batch @ self.weights - y_batch )\n"
     ]
    },
    {
     "data": {
      "text/plain": [
       "GridSearchCV(cv=GroupKFold(n_splits=3),\n",
       "             estimator=MySGDClassifier(batch_generator=<function batch_generator at 0x0000025860BC25E0>),\n",
       "             param_grid={'C': [10, 100, 1000],\n",
       "                         'alpha': [0.005, 0.01, 0.05, 0.1],\n",
       "                         'max_epoch': [5, 10, 12, 15]},\n",
       "             scoring=make_scorer(f1_score))"
      ]
     },
     "execution_count": 33,
     "metadata": {},
     "output_type": "execute_result"
    }
   ],
   "source": [
    "grid_search.fit(X_train, y_train, groups_train)"
   ]
  },
  {
   "cell_type": "code",
   "execution_count": 34,
   "metadata": {},
   "outputs": [
    {
     "data": {
      "text/plain": [
       "{'C': 10, 'alpha': 0.01, 'max_epoch': 12}"
      ]
     },
     "execution_count": 34,
     "metadata": {},
     "output_type": "execute_result"
    }
   ],
   "source": [
    "grid_search.best_params_"
   ]
  },
  {
   "cell_type": "code",
   "execution_count": 35,
   "metadata": {},
   "outputs": [],
   "source": [
    "best_lin = grid_search.best_estimator_"
   ]
  },
  {
   "cell_type": "code",
   "execution_count": 36,
   "metadata": {},
   "outputs": [],
   "source": [
    "clf = MySGDClassifier(batch_generator, model_type = 'log_reg', batch_size = 50)\n",
    "grid_search = GridSearchCV(clf, param_grid, cv=GroupKFold(n_splits=3), scoring = make_scorer(f1_score))"
   ]
  },
  {
   "cell_type": "code",
   "execution_count": 37,
   "metadata": {},
   "outputs": [
    {
     "name": "stderr",
     "output_type": "stream",
     "text": [
      "c:\\users\\денис\\appdata\\local\\programs\\python\\python38\\lib\\site-packages\\sklearn\\utils\\validation.py:67: FutureWarning: Pass groups=[  1   1   1 ... 129 129 129] as keyword args. From version 0.25 passing these as positional arguments will result in an error\n",
      "  warnings.warn(\"Pass {} as keyword args. From version 0.25 \"\n",
      "<ipython-input-7-086a8952c628>:50: RuntimeWarning: divide by zero encountered in log\n",
      "  loss = - np.mean(y_batch * np.log(p) + (1 - y_batch)*np.log(1 - p))\n",
      "<ipython-input-7-086a8952c628>:50: RuntimeWarning: invalid value encountered in multiply\n",
      "  loss = - np.mean(y_batch * np.log(p) + (1 - y_batch)*np.log(1 - p))\n"
     ]
    },
    {
     "data": {
      "text/plain": [
       "GridSearchCV(cv=GroupKFold(n_splits=3),\n",
       "             estimator=MySGDClassifier(batch_generator=<function batch_generator at 0x0000025860BC25E0>,\n",
       "                                       batch_size=50, model_type='log_reg'),\n",
       "             param_grid={'C': [10, 100, 1000],\n",
       "                         'alpha': [0.005, 0.01, 0.05, 0.1],\n",
       "                         'max_epoch': [5, 10, 12, 15]},\n",
       "             scoring=make_scorer(f1_score))"
      ]
     },
     "execution_count": 37,
     "metadata": {},
     "output_type": "execute_result"
    }
   ],
   "source": [
    "grid_search.fit(X_train, y_train, groups_train)"
   ]
  },
  {
   "cell_type": "code",
   "execution_count": 38,
   "metadata": {},
   "outputs": [
    {
     "data": {
      "text/plain": [
       "{'C': 100, 'alpha': 0.01, 'max_epoch': 5}"
      ]
     },
     "execution_count": 38,
     "metadata": {},
     "output_type": "execute_result"
    }
   ],
   "source": [
    "grid_search.best_params_"
   ]
  },
  {
   "cell_type": "code",
   "execution_count": 39,
   "metadata": {},
   "outputs": [],
   "source": [
    "best_log = grid_search.best_estimator_"
   ]
  },
  {
   "cell_type": "code",
   "execution_count": 40,
   "metadata": {},
   "outputs": [
    {
     "data": {
      "text/plain": [
       "0.56346227189695"
      ]
     },
     "execution_count": 40,
     "metadata": {},
     "output_type": "execute_result"
    }
   ],
   "source": [
    "cross_val_score(best_lin, X_train, y_train, groups=groups_train, scoring=make_scorer(f1_score)).mean()"
   ]
  },
  {
   "cell_type": "code",
   "execution_count": 41,
   "metadata": {},
   "outputs": [
    {
     "data": {
      "text/plain": [
       "0.5448617502491989"
      ]
     },
     "execution_count": 41,
     "metadata": {},
     "output_type": "execute_result"
    }
   ],
   "source": [
    "cross_val_score(best_log, X_train, y_train, groups=groups_train, scoring=make_scorer(f1_score)).mean()"
   ]
  },
  {
   "cell_type": "markdown",
   "metadata": {
    "collapsed": true
   },
   "source": [
    "Подберите порог линейной модели, по достижении которого, Вы будете относить объект к классу 1. Вспомните, какую метрику мы оптимизируем в соревновании.  Как тогда правильно подобрать порог?"
   ]
  },
  {
   "cell_type": "code",
   "execution_count": 42,
   "metadata": {},
   "outputs": [],
   "source": [
    "param_grid = {'th':[0.2, 0.3, 0.4, 0.5, 0.6]}"
   ]
  },
  {
   "cell_type": "code",
   "execution_count": 46,
   "metadata": {},
   "outputs": [],
   "source": [
    "clf = MySGDClassifier(batch_generator, C = 100, alpha = 0.01, max_epoch = 5 , batch_size = 50 ,model_type = 'log_reg')\n",
    "grid_search = GridSearchCV(clf, param_grid, cv=GroupKFold(n_splits=3), scoring = make_scorer(f1_score))"
   ]
  },
  {
   "cell_type": "code",
   "execution_count": 47,
   "metadata": {},
   "outputs": [
    {
     "name": "stderr",
     "output_type": "stream",
     "text": [
      "c:\\users\\денис\\appdata\\local\\programs\\python\\python38\\lib\\site-packages\\sklearn\\utils\\validation.py:67: FutureWarning: Pass groups=[  1   1   1 ... 129 129 129] as keyword args. From version 0.25 passing these as positional arguments will result in an error\n",
      "  warnings.warn(\"Pass {} as keyword args. From version 0.25 \"\n"
     ]
    },
    {
     "data": {
      "text/plain": [
       "GridSearchCV(cv=GroupKFold(n_splits=3),\n",
       "             estimator=MySGDClassifier(C=100,\n",
       "                                       batch_generator=<function batch_generator at 0x0000025860BC25E0>,\n",
       "                                       batch_size=50, max_epoch=5,\n",
       "                                       model_type='log_reg'),\n",
       "             param_grid={'th': [0.2, 0.3, 0.4, 0.5, 0.6]},\n",
       "             scoring=make_scorer(f1_score))"
      ]
     },
     "execution_count": 47,
     "metadata": {},
     "output_type": "execute_result"
    }
   ],
   "source": [
    "grid_search.fit(X_train, y_train, groups_train)"
   ]
  },
  {
   "cell_type": "code",
   "execution_count": 48,
   "metadata": {},
   "outputs": [
    {
     "data": {
      "text/plain": [
       "{'th': 0.3}"
      ]
     },
     "execution_count": 48,
     "metadata": {},
     "output_type": "execute_result"
    }
   ],
   "source": [
    "grid_search.best_params_"
   ]
  },
  {
   "cell_type": "code",
   "execution_count": 49,
   "metadata": {},
   "outputs": [],
   "source": [
    "best_log = grid_search.best_estimator_"
   ]
  },
  {
   "cell_type": "code",
   "execution_count": 50,
   "metadata": {},
   "outputs": [
    {
     "data": {
      "text/plain": [
       "0.5866803507238725"
      ]
     },
     "execution_count": 50,
     "metadata": {},
     "output_type": "execute_result"
    }
   ],
   "source": [
    "cross_val_score(best_log, X_train, y_train, groups=groups_train, scoring=make_scorer(f1_score)).mean()"
   ]
  },
  {
   "cell_type": "code",
   "execution_count": 51,
   "metadata": {},
   "outputs": [],
   "source": [
    "param_grid = {'th':[0.2, 0.3, 0.4, 0.5, 0.6, 0.7 , 0.8]}"
   ]
  },
  {
   "cell_type": "code",
   "execution_count": 52,
   "metadata": {},
   "outputs": [],
   "source": [
    "clf = MySGDClassifier(batch_generator, C = 10, alpha = 0.01, max_epoch = 12 , model_type = 'lin_reg')\n",
    "grid_search = GridSearchCV(clf, param_grid, cv=GroupKFold(n_splits=3), scoring = make_scorer(f1_score))"
   ]
  },
  {
   "cell_type": "code",
   "execution_count": 53,
   "metadata": {},
   "outputs": [
    {
     "name": "stderr",
     "output_type": "stream",
     "text": [
      "c:\\users\\денис\\appdata\\local\\programs\\python\\python38\\lib\\site-packages\\sklearn\\utils\\validation.py:67: FutureWarning: Pass groups=[  1   1   1 ... 129 129 129] as keyword args. From version 0.25 passing these as positional arguments will result in an error\n",
      "  warnings.warn(\"Pass {} as keyword args. From version 0.25 \"\n"
     ]
    },
    {
     "data": {
      "text/plain": [
       "GridSearchCV(cv=GroupKFold(n_splits=3),\n",
       "             estimator=MySGDClassifier(C=10,\n",
       "                                       batch_generator=<function batch_generator at 0x0000025860BC25E0>,\n",
       "                                       max_epoch=12),\n",
       "             param_grid={'th': [0.2, 0.3, 0.4, 0.5, 0.6, 0.7, 0.8]},\n",
       "             scoring=make_scorer(f1_score))"
      ]
     },
     "execution_count": 53,
     "metadata": {},
     "output_type": "execute_result"
    }
   ],
   "source": [
    "grid_search.fit(X_train, y_train, groups_train)"
   ]
  },
  {
   "cell_type": "code",
   "execution_count": 54,
   "metadata": {},
   "outputs": [
    {
     "data": {
      "text/plain": [
       "{'th': 0.3}"
      ]
     },
     "execution_count": 54,
     "metadata": {},
     "output_type": "execute_result"
    }
   ],
   "source": [
    "grid_search.best_params_"
   ]
  },
  {
   "cell_type": "code",
   "execution_count": 55,
   "metadata": {},
   "outputs": [],
   "source": [
    "best_lin = grid_search.best_estimator_"
   ]
  },
  {
   "cell_type": "code",
   "execution_count": 56,
   "metadata": {},
   "outputs": [
    {
     "data": {
      "text/plain": [
       "0.6110384380746143"
      ]
     },
     "execution_count": 56,
     "metadata": {},
     "output_type": "execute_result"
    }
   ],
   "source": [
    "cross_val_score(best_lin, X_train, y_train, groups=groups_train, scoring=make_scorer(f1_score)).mean()"
   ]
  },
  {
   "cell_type": "markdown",
   "metadata": {},
   "source": [
    "С лучшими параметрами на валидации сделайте предсказание на тестовом множестве, отправьте его на проверку на платформу kaggle. Убедитесь, что Вы смогли побить public score первого бейзлайна."
   ]
  },
  {
   "cell_type": "markdown",
   "metadata": {
    "collapsed": true
   },
   "source": [
    "** При сдаче домашки Вам необходимо кроме ссылки на ноутбук показать Ваш ник на kaggle, под которым Вы залили решение, которое побило Handmade baseline. **"
   ]
  },
  {
   "cell_type": "code",
   "execution_count": 57,
   "metadata": {},
   "outputs": [],
   "source": [
    "test_data = pd.read_csv('test_groups.csv')\n",
    "testgroups_titledata = {}\n",
    "for i in range(len(test_data)):\n",
    "    new_doc = test_data.iloc[i]\n",
    "    doc_group = new_doc['group_id']\n",
    "    doc_id = new_doc['doc_id']\n",
    "    title = doc_to_title[doc_id]\n",
    "    if doc_group not in testgroups_titledata:\n",
    "        testgroups_titledata[doc_group] = []\n",
    "    testgroups_titledata[doc_group].append((doc_id, title))"
   ]
  },
  {
   "cell_type": "code",
   "execution_count": 58,
   "metadata": {},
   "outputs": [
    {
     "name": "stdout",
     "output_type": "stream",
     "text": [
      "(16627, 15) (16627,)\n"
     ]
    }
   ],
   "source": [
    "X_test = []\n",
    "groups_test = []\n",
    "for new_group in testgroups_titledata:\n",
    "    docs = testgroups_titledata[new_group]\n",
    "    for k, (doc_id, title) in enumerate(docs):\n",
    "        groups_test.append(new_group)\n",
    "        all_dist = []\n",
    "        words = set(title.strip().split())\n",
    "        for j in range(0, len(docs)):\n",
    "            if k == j:\n",
    "                continue\n",
    "            doc_id_j, title_j = docs[j]\n",
    "            words_j = set(title_j.strip().split())\n",
    "            all_dist.append(len(words.intersection(words_j)))\n",
    "        X_test.append(sorted(all_dist, reverse=True)[0:15])\n",
    "X_test = np.array(X_test)\n",
    "groups_test = np.array(groups_test)\n",
    "print(X_test.shape, groups_test.shape)"
   ]
  },
  {
   "cell_type": "code",
   "execution_count": 59,
   "metadata": {},
   "outputs": [],
   "source": [
    "X_test_scaled = scaler.transform(X_test)\n",
    "y_pred = best_lin.predict(X_test_scaled)\n",
    "y_pred = y_pred.astype(int)\n",
    "\n",
    "sub = pd.DataFrame({'pair_id': np.asarray(\n",
    "    test_data['pair_id']), 'target': y_pred})\n",
    "sub = sub.set_index(['pair_id'])\n",
    "sub.to_csv('sub_1.csv')"
   ]
  },
  {
   "cell_type": "code",
   "execution_count": 60,
   "metadata": {},
   "outputs": [],
   "source": [
    "X_test_scaled = scaler.transform(X_test)\n",
    "y_pred = best_log.predict(X_test_scaled)\n",
    "y_pred = y_pred.astype(int)\n",
    "\n",
    "sub = pd.DataFrame({'pair_id': np.asarray(\n",
    "    test_data['pair_id']), 'target': y_pred})\n",
    "sub = sub.set_index(['pair_id'])\n",
    "sub.to_csv('sub_2.csv')"
   ]
  },
  {
   "cell_type": "markdown",
   "metadata": {},
   "source": [
    "# Фидбек (бесценно)"
   ]
  },
  {
   "cell_type": "markdown",
   "metadata": {},
   "source": [
    "* Какие аспекты обучения линейных моделей Вам показались непонятными? Какое место стоит дополнительно объяснить?"
   ]
  },
  {
   "cell_type": "markdown",
   "metadata": {},
   "source": [
    "***Ваше ответ здесь***"
   ]
  },
  {
   "cell_type": "markdown",
   "metadata": {},
   "source": [
    "* Здесь Вы можете оставить отзыв о этой домашней работе или о всем курсе.   "
   ]
  },
  {
   "cell_type": "markdown",
   "metadata": {},
   "source": [
    "**Домашка сложная, но полезная:) Но если бы дедлайн между первой и второй домашкой был бы хотя бы 2 недели, то было бы совсем хорошо**"
   ]
  },
  {
   "cell_type": "code",
   "execution_count": null,
   "metadata": {
    "collapsed": true
   },
   "outputs": [],
   "source": []
  },
  {
   "cell_type": "code",
   "execution_count": null,
   "metadata": {
    "collapsed": true
   },
   "outputs": [],
   "source": []
  }
 ],
 "metadata": {
  "anaconda-cloud": {},
  "kernelspec": {
   "display_name": "Python 3",
   "language": "python",
   "name": "python3"
  },
  "language_info": {
   "codemirror_mode": {
    "name": "ipython",
    "version": 3
   },
   "file_extension": ".py",
   "mimetype": "text/x-python",
   "name": "python",
   "nbconvert_exporter": "python",
   "pygments_lexer": "ipython3",
   "version": "3.8.6"
  },
  "nav_menu": {},
  "toc": {
   "colors": {
    "hover_highlight": "#DAA520",
    "navigate_num": "#000000",
    "navigate_text": "#333333",
    "running_highlight": "#FF0000",
    "selected_highlight": "#FFD700",
    "sidebar_border": "#EEEEEE",
    "wrapper_background": "#FFFFFF"
   },
   "moveMenuLeft": true,
   "nav_menu": {
    "height": "402px",
    "width": "253px"
   },
   "navigate_menu": true,
   "number_sections": false,
   "sideBar": true,
   "threshold": 4,
   "toc_cell": false,
   "toc_section_display": "block",
   "toc_window_display": true,
   "widenNotebook": false
  }
 },
 "nbformat": 4,
 "nbformat_minor": 2
}
