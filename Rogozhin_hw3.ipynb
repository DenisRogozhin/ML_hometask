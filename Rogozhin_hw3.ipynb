{
 "cells": [
  {
   "cell_type": "markdown",
   "metadata": {},
   "source": [
    "### Алгоритмы интеллектуальной обработки больших объемов данных\n",
    "## Домашнее задание №3 - Дерево решений\n"
   ]
  },
  {
   "cell_type": "markdown",
   "metadata": {},
   "source": [
    "**Общая информация**\n",
    "\n",
    "**Срок сдачи:** 3 мая 2021, 08:30   \n",
    "**Штраф за опоздание:** -2 балла после 08:30 03 мая, -4 балла после 08:30 10 мая, -6 баллов после 08:30 17 мая, -8 баллов после 08:30 24 мая.\n",
    "\n",
    "При отправлении ДЗ указывайте фамилию в названии файла Присылать ДЗ необходимо в виде ссылки на свой github репозиторий на почту ml1.sphere@mail.ru с указанием темы в следующем формате:\n",
    "[ML0221, Задание 3] Фамилия Имя. \n",
    "\n",
    "\n",
    "Используйте данный Ipython Notebook при оформлении домашнего задания."
   ]
  },
  {
   "cell_type": "markdown",
   "metadata": {},
   "source": [
    "##  Реализуем дерево решений (3 балла)"
   ]
  },
  {
   "cell_type": "markdown",
   "metadata": {},
   "source": [
    "Допишите недостающие части дерева решений. Ваша реализация дерева должна работать по точности не хуже DecisionTreeClassifier из sklearn.\n",
    "Внимание: если Вас не устраивает предложенная структура хранения дерева, Вы без потери баллов можете сделать свой класс DecisionTreeClassifier, в котором сами полностью воспроизведете алгоритм дерева решений. Обязательно в нем иметь только функции fit, predict"
   ]
  },
  {
   "cell_type": "code",
   "execution_count": 1,
   "metadata": {},
   "outputs": [],
   "source": [
    "import matplotlib.pyplot as plt\n",
    "import numpy as np\n",
    "import pandas as pd\n",
    "\n",
    "from sklearn.datasets import load_wine\n",
    "from sklearn.ensemble import RandomForestClassifier\n",
    "from sklearn.metrics import accuracy_score\n",
    "from sklearn.model_selection import KFold, train_test_split, GridSearchCV, RandomizedSearchCV\n",
    "from sklearn.tree import DecisionTreeClassifier\n"
   ]
  },
  {
   "cell_type": "code",
   "execution_count": 108,
   "metadata": {},
   "outputs": [],
   "source": [
    "class MyDecisionTreeClassifier:\n",
    "    NON_LEAF_TYPE = 0\n",
    "    LEAF_TYPE = 1\n",
    "\n",
    "    def __init__(self, min_samples_split=2, max_depth=5, criterion='gini'):\n",
    "        \"\"\"\n",
    "        criterion -- критерий расщепления. необходимо релизовать три:\n",
    "        Ошибка классификации, Индекс Джини, Энтропийный критерий\n",
    "        max_depth -- максимальная глубина дерева\n",
    "        min_samples_split -- минимальное число объектов в листе, чтобы сделать новый сплит\n",
    "        \"\"\"\n",
    "        self.min_samples_split = min_samples_split\n",
    "        self.max_depth = max_depth\n",
    "        self.num_class = -1\n",
    "        # Для последнего задания\n",
    "        self.feature_importances_ = None\n",
    "        self.criterion = criterion\n",
    "        # Структура, которая описывает дерево\n",
    "        # Представляет словарь, где для  node_id (айдишник узла дерева) храним\n",
    "        # (тип_узла, айдишник признака сплита, порог сплита) если тип NON_LEAF_TYPE\n",
    "        # (тип_узла, предсказание класса, вероятность класса) если тип LEAF_TYPE\n",
    "        # Подразумевается, что у каждого node_id в дереве слева \n",
    "        # узел с айди 2 * node_id + 1, а справа 2 * node_id + 2\n",
    "        self.tree = dict()\n",
    "\n",
    "    def __div_samples(self, x, y, feature_id, threshold):\n",
    "        \"\"\"\n",
    "        Разделяет объекты на 2 множества\n",
    "        x -- матрица объектов\n",
    "        y -- вектор ответов\n",
    "        feature_id -- айдишник признака, по которому делаем сплит\n",
    "        threshold -- порог, по которому делаем сплит\n",
    "        \"\"\"\n",
    "        left_mask = x[:, feature_id] > threshold\n",
    "        right_mask = ~left_mask\n",
    "        return x[left_mask], x[right_mask], y[left_mask], y[right_mask]\n",
    "\n",
    "    \n",
    "    def __find_threshold(self, x, y):\n",
    "        \"\"\"\n",
    "        Находим оптимальный признак и порог для сплита\n",
    "        Здесь используемые разные impurity в зависимости от self.criterion\n",
    "        \"\"\"\n",
    "        feature_amount = x.shape[1]\n",
    "        features_info = np.zeros(feature_amount)\n",
    "        thresholds = np.zeros(feature_amount)\n",
    "        y_uniq = np.unique(y, return_counts = True)\n",
    "        p_v = y_uniq[1]/np.sum(y_uniq[1])\n",
    "        for i in range(feature_amount):\n",
    "            unique_vals = np.unique(x[:, i])\n",
    "            #func = np.vectorize(self.__find_best_th,excluded=['x','y'])\n",
    "            #Q = func(unique_vals,i,x,y)\n",
    "            Q = np.zeros(unique_vals.shape)\n",
    "            for j, th in enumerate(unique_vals):\n",
    "                x_left, x_right, y_left, y_right = self.__div_samples(x, y, i, th)\n",
    "                if x_left.shape[0] == 0 or x_right.shape[0] == 0:\n",
    "                    Q[j] = 0\n",
    "                else:    \n",
    "                    y_left_uniq = np.unique(y_left, return_counts = True)\n",
    "                    y_right_uniq = np.unique(y_right, return_counts = True)\n",
    "                    p_v_l = y_left_uniq[1]/np.sum(y_left_uniq[1])\n",
    "                    p_v_r = y_right_uniq[1]/np.sum(y_right_uniq[1])\n",
    "                    if self.criterion == 'classification_error':\n",
    "                        F_e = 1 - np.max(p_v)\n",
    "                        F_e_left = 1 - np.max(p_v_l)\n",
    "                        F_e_right = 1 - np.max(p_v_r)\n",
    "                    elif self.criterion == 'gini':\n",
    "                        F_e = 1 - np.sum(p_v ** 2)\n",
    "                        F_e_left = 1 - np.sum(p_v_l ** 2)\n",
    "                        F_e_right = 1 - np.sum(p_v_r ** 2)\n",
    "                    elif self.criterion == 'entropy':\n",
    "                        F_e = - np.sum(p_v * np.log(p_v))\n",
    "                        F_e_left = - np.sum(p_v * np.log(p_v))\n",
    "                        F_e_right = - np.sum(p_v * np.log(p_v))\n",
    "                    else:\n",
    "                        raise KeyError; \n",
    "                    Q[j] = F_e - y_left.shape[0]/y.shape[0] * F_e_left - y_right.shape[0]/y.shape[0] * F_e_right    \n",
    "            features_info[i] = np.max(Q)\n",
    "            thresholds[i] = unique_vals[np.argmax(Q)]\n",
    "        feature_id = np.argmax(features_info)\n",
    "        best_th = thresholds[feature_id]\n",
    "        self.feature_importances_[feature_id] += features_info[feature_id]\n",
    "        return feature_id, best_th\n",
    "\n",
    "    def __fit_node(self, x, y, node_id, depth):\n",
    "        \"\"\"\n",
    "        Делаем новый узел в дереве\n",
    "        Решаем, терминальный он или нет\n",
    "        Если нет, то строим левый узел  с айди 2 * node_id + 1\n",
    "        И правый узел с  айди 2 * node_id + 2\n",
    "        \"\"\"\n",
    "        if depth < self.max_depth and x.shape[0] >= self.min_samples_split:\n",
    "            feature_id, th = self.__find_threshold(x,y)\n",
    "            self.tree[node_id] = (self.__class__.NON_LEAF_TYPE, feature_id , th)\n",
    "            x_left, x_right, y_left, y_right = self.__div_samples(x, y, feature_id, th)\n",
    "            if (x_left.shape[0] == 0) or (x_right.shape[0] == 0):\n",
    "                y_uniq = np.unique(y, return_counts = True)\n",
    "                p_v = y_uniq[1]/np.sum(y_uniq[1])\n",
    "                top_class = y_uniq[0][np.argmax(p_v)]\n",
    "                top_probability = np.max(p_v)\n",
    "                self.tree[node_id] = (self.__class__.LEAF_TYPE, top_class , top_probability)\n",
    "            else:\n",
    "                self.__fit_node(x_left,y_left, 2 * node_id + 1, depth + 1)\n",
    "                self.__fit_node(x_right,y_right, 2 * node_id + 2, depth + 1)\n",
    "        else:\n",
    "            y_uniq = np.unique(y, return_counts = True)\n",
    "            p_v = y_uniq[1]/np.sum(y_uniq[1])\n",
    "            top_class = y_uniq[0][np.argmax(p_v)]\n",
    "            top_probability = np.max(p_v)\n",
    "            self.tree[node_id] = (self.__class__.LEAF_TYPE, top_class , top_probability)\n",
    "        \n",
    "    \n",
    "    def fit(self, x, y):\n",
    "        \"\"\"\n",
    "        Рекурсивно строим дерево решений\n",
    "        Начинаем с корня node_id 0\n",
    "        \"\"\"\n",
    "        self.feature_importances_ = dict()\n",
    "        self.num_class = np.unique(y).size\n",
    "        for i in range(x.shape[1]):\n",
    "            self.feature_importances_[i] = 0 \n",
    "        self.__fit_node(x, y, 0, 0) \n",
    "\n",
    "    def __predict_class(self, x, node_id):\n",
    "        \"\"\"\n",
    "        Рекурсивно обходим дерево по всем узлам,\n",
    "        пока не дойдем до терминального\n",
    "        \"\"\"\n",
    "        node = self.tree[node_id]\n",
    "        if node[0] == self.__class__.NON_LEAF_TYPE:\n",
    "            _, feature_id, threshold = node\n",
    "            if x[feature_id] > threshold:\n",
    "                return self.__predict_class(x, 2 * node_id + 1)\n",
    "            else:\n",
    "                return self.__predict_class(x, 2 * node_id + 2)\n",
    "        else:\n",
    "            return node[1]\n",
    "        \n",
    "    def predict(self, X):\n",
    "        \"\"\"\n",
    "        Вызывает predict для всех объектов из матрицы X\n",
    "        \"\"\"\n",
    "        return np.array([self.__predict_class(x, 0) for x in X])\n",
    "    \n",
    "    def fit_predict(self, x_train, y_train, predicted_x):\n",
    "        self.fit(x_train, y_train)\n",
    "        return self.predict(predicted_x)\n",
    "    \n",
    "    def get_feature_importance(self):\n",
    "        return self.feature_importances_"
   ]
  },
  {
   "cell_type": "code",
   "execution_count": 113,
   "metadata": {},
   "outputs": [],
   "source": [
    "my_clf = MyDecisionTreeClassifier(min_samples_split=2)\n",
    "clf = DecisionTreeClassifier(min_samples_split=2)"
   ]
  },
  {
   "cell_type": "code",
   "execution_count": 114,
   "metadata": {},
   "outputs": [],
   "source": [
    "wine = load_wine()\n",
    "X_train, X_test, y_train, y_test = train_test_split(wine.data, wine.target, test_size=0.1, stratify=wine.target)"
   ]
  },
  {
   "cell_type": "code",
   "execution_count": 115,
   "metadata": {},
   "outputs": [],
   "source": [
    "clf.fit(X_train, y_train)\n",
    "my_clf.fit(X_train, y_train)"
   ]
  },
  {
   "cell_type": "code",
   "execution_count": 116,
   "metadata": {},
   "outputs": [
    {
     "name": "stdout",
     "output_type": "stream",
     "text": [
      "0.8888888888888888\n",
      "0.8888888888888888\n"
     ]
    }
   ],
   "source": [
    "a1 = accuracy_score(y_pred=clf.predict(X_test), y_true=y_test)\n",
    "a2 = accuracy_score(y_pred=my_clf.predict(X_test), y_true=y_test)\n",
    "print(a1)\n",
    "print(a2)"
   ]
  },
  {
   "cell_type": "markdown",
   "metadata": {},
   "source": [
    "## Ускоряем дерево решений (2 балла)\n",
    "Добиться скорости работы на fit не медленнее чем в 10 раз sklearn на данных wine. \n",
    "Для этого используем numpy."
   ]
  },
  {
   "cell_type": "code",
   "execution_count": 7,
   "metadata": {
    "scrolled": true
   },
   "outputs": [
    {
     "name": "stdout",
     "output_type": "stream",
     "text": [
      "Wall time: 998 µs\n"
     ]
    },
    {
     "data": {
      "text/plain": [
       "DecisionTreeClassifier()"
      ]
     },
     "execution_count": 7,
     "metadata": {},
     "output_type": "execute_result"
    }
   ],
   "source": [
    "%time clf.fit(X_train, y_train)"
   ]
  },
  {
   "cell_type": "code",
   "execution_count": 8,
   "metadata": {},
   "outputs": [
    {
     "name": "stdout",
     "output_type": "stream",
     "text": [
      "Wall time: 615 ms\n"
     ]
    }
   ],
   "source": [
    "%time my_clf.fit(X_train, y_train)"
   ]
  },
  {
   "cell_type": "code",
   "execution_count": null,
   "metadata": {},
   "outputs": [],
   "source": []
  },
  {
   "cell_type": "markdown",
   "metadata": {},
   "source": [
    "## Боевое применение (3 балла)\n",
    "\n",
    "На практике Вы познакомились с датасетом Speed Dating Data. В нем каждая пара в быстрых свиданиях характеризуется определенным набором признаков. Задача -- предсказать, произойдет ли матч пары (колонка match). \n",
    "\n",
    "Пример работы с датасетом можете найти в практике пункт 2\n",
    "https://github.com/VVVikulin/ml1.sphere/blob/master/2019-09/lecture_06/pract-trees.ipynb\n",
    "\n",
    "Данные и описания колонок лежат тут\n",
    "https://cloud.mail.ru/public/8nHV/p6J7wY1y1/speed-dating-experiment/"
   ]
  },
  {
   "cell_type": "markdown",
   "metadata": {},
   "source": [
    "Скачайте датасет, обработайте данные, как показано на семинаре или своим собственным способом. Обучите дерево классифкации. В качестве таргета возьмите колонку 'match'. Постарайтесь хорошо обработать признаки, чтобы выбить максимальную точность. Если точность будет близка к случайному гаданию, задание не будет защитано. \n"
   ]
  },
  {
   "cell_type": "code",
   "execution_count": 9,
   "metadata": {},
   "outputs": [
    {
     "data": {
      "text/html": [
       "<div>\n",
       "<style scoped>\n",
       "    .dataframe tbody tr th:only-of-type {\n",
       "        vertical-align: middle;\n",
       "    }\n",
       "\n",
       "    .dataframe tbody tr th {\n",
       "        vertical-align: top;\n",
       "    }\n",
       "\n",
       "    .dataframe thead th {\n",
       "        text-align: right;\n",
       "    }\n",
       "</style>\n",
       "<table border=\"1\" class=\"dataframe\">\n",
       "  <thead>\n",
       "    <tr style=\"text-align: right;\">\n",
       "      <th></th>\n",
       "      <th>iid</th>\n",
       "      <th>id</th>\n",
       "      <th>gender</th>\n",
       "      <th>idg</th>\n",
       "      <th>condtn</th>\n",
       "      <th>wave</th>\n",
       "      <th>round</th>\n",
       "      <th>position</th>\n",
       "      <th>positin1</th>\n",
       "      <th>order</th>\n",
       "      <th>...</th>\n",
       "      <th>attr3_3</th>\n",
       "      <th>sinc3_3</th>\n",
       "      <th>intel3_3</th>\n",
       "      <th>fun3_3</th>\n",
       "      <th>amb3_3</th>\n",
       "      <th>attr5_3</th>\n",
       "      <th>sinc5_3</th>\n",
       "      <th>intel5_3</th>\n",
       "      <th>fun5_3</th>\n",
       "      <th>amb5_3</th>\n",
       "    </tr>\n",
       "  </thead>\n",
       "  <tbody>\n",
       "    <tr>\n",
       "      <th>0</th>\n",
       "      <td>1</td>\n",
       "      <td>1.0</td>\n",
       "      <td>0</td>\n",
       "      <td>1</td>\n",
       "      <td>1</td>\n",
       "      <td>1</td>\n",
       "      <td>10</td>\n",
       "      <td>7</td>\n",
       "      <td>NaN</td>\n",
       "      <td>4</td>\n",
       "      <td>...</td>\n",
       "      <td>5.0</td>\n",
       "      <td>7.0</td>\n",
       "      <td>7.0</td>\n",
       "      <td>7.0</td>\n",
       "      <td>7.0</td>\n",
       "      <td>NaN</td>\n",
       "      <td>NaN</td>\n",
       "      <td>NaN</td>\n",
       "      <td>NaN</td>\n",
       "      <td>NaN</td>\n",
       "    </tr>\n",
       "    <tr>\n",
       "      <th>1</th>\n",
       "      <td>1</td>\n",
       "      <td>1.0</td>\n",
       "      <td>0</td>\n",
       "      <td>1</td>\n",
       "      <td>1</td>\n",
       "      <td>1</td>\n",
       "      <td>10</td>\n",
       "      <td>7</td>\n",
       "      <td>NaN</td>\n",
       "      <td>3</td>\n",
       "      <td>...</td>\n",
       "      <td>5.0</td>\n",
       "      <td>7.0</td>\n",
       "      <td>7.0</td>\n",
       "      <td>7.0</td>\n",
       "      <td>7.0</td>\n",
       "      <td>NaN</td>\n",
       "      <td>NaN</td>\n",
       "      <td>NaN</td>\n",
       "      <td>NaN</td>\n",
       "      <td>NaN</td>\n",
       "    </tr>\n",
       "    <tr>\n",
       "      <th>2</th>\n",
       "      <td>1</td>\n",
       "      <td>1.0</td>\n",
       "      <td>0</td>\n",
       "      <td>1</td>\n",
       "      <td>1</td>\n",
       "      <td>1</td>\n",
       "      <td>10</td>\n",
       "      <td>7</td>\n",
       "      <td>NaN</td>\n",
       "      <td>10</td>\n",
       "      <td>...</td>\n",
       "      <td>5.0</td>\n",
       "      <td>7.0</td>\n",
       "      <td>7.0</td>\n",
       "      <td>7.0</td>\n",
       "      <td>7.0</td>\n",
       "      <td>NaN</td>\n",
       "      <td>NaN</td>\n",
       "      <td>NaN</td>\n",
       "      <td>NaN</td>\n",
       "      <td>NaN</td>\n",
       "    </tr>\n",
       "    <tr>\n",
       "      <th>3</th>\n",
       "      <td>1</td>\n",
       "      <td>1.0</td>\n",
       "      <td>0</td>\n",
       "      <td>1</td>\n",
       "      <td>1</td>\n",
       "      <td>1</td>\n",
       "      <td>10</td>\n",
       "      <td>7</td>\n",
       "      <td>NaN</td>\n",
       "      <td>5</td>\n",
       "      <td>...</td>\n",
       "      <td>5.0</td>\n",
       "      <td>7.0</td>\n",
       "      <td>7.0</td>\n",
       "      <td>7.0</td>\n",
       "      <td>7.0</td>\n",
       "      <td>NaN</td>\n",
       "      <td>NaN</td>\n",
       "      <td>NaN</td>\n",
       "      <td>NaN</td>\n",
       "      <td>NaN</td>\n",
       "    </tr>\n",
       "    <tr>\n",
       "      <th>4</th>\n",
       "      <td>1</td>\n",
       "      <td>1.0</td>\n",
       "      <td>0</td>\n",
       "      <td>1</td>\n",
       "      <td>1</td>\n",
       "      <td>1</td>\n",
       "      <td>10</td>\n",
       "      <td>7</td>\n",
       "      <td>NaN</td>\n",
       "      <td>7</td>\n",
       "      <td>...</td>\n",
       "      <td>5.0</td>\n",
       "      <td>7.0</td>\n",
       "      <td>7.0</td>\n",
       "      <td>7.0</td>\n",
       "      <td>7.0</td>\n",
       "      <td>NaN</td>\n",
       "      <td>NaN</td>\n",
       "      <td>NaN</td>\n",
       "      <td>NaN</td>\n",
       "      <td>NaN</td>\n",
       "    </tr>\n",
       "    <tr>\n",
       "      <th>...</th>\n",
       "      <td>...</td>\n",
       "      <td>...</td>\n",
       "      <td>...</td>\n",
       "      <td>...</td>\n",
       "      <td>...</td>\n",
       "      <td>...</td>\n",
       "      <td>...</td>\n",
       "      <td>...</td>\n",
       "      <td>...</td>\n",
       "      <td>...</td>\n",
       "      <td>...</td>\n",
       "      <td>...</td>\n",
       "      <td>...</td>\n",
       "      <td>...</td>\n",
       "      <td>...</td>\n",
       "      <td>...</td>\n",
       "      <td>...</td>\n",
       "      <td>...</td>\n",
       "      <td>...</td>\n",
       "      <td>...</td>\n",
       "      <td>...</td>\n",
       "    </tr>\n",
       "    <tr>\n",
       "      <th>8373</th>\n",
       "      <td>552</td>\n",
       "      <td>22.0</td>\n",
       "      <td>1</td>\n",
       "      <td>44</td>\n",
       "      <td>2</td>\n",
       "      <td>21</td>\n",
       "      <td>22</td>\n",
       "      <td>14</td>\n",
       "      <td>10.0</td>\n",
       "      <td>5</td>\n",
       "      <td>...</td>\n",
       "      <td>8.0</td>\n",
       "      <td>5.0</td>\n",
       "      <td>7.0</td>\n",
       "      <td>6.0</td>\n",
       "      <td>7.0</td>\n",
       "      <td>9.0</td>\n",
       "      <td>5.0</td>\n",
       "      <td>9.0</td>\n",
       "      <td>5.0</td>\n",
       "      <td>6.0</td>\n",
       "    </tr>\n",
       "    <tr>\n",
       "      <th>8374</th>\n",
       "      <td>552</td>\n",
       "      <td>22.0</td>\n",
       "      <td>1</td>\n",
       "      <td>44</td>\n",
       "      <td>2</td>\n",
       "      <td>21</td>\n",
       "      <td>22</td>\n",
       "      <td>13</td>\n",
       "      <td>10.0</td>\n",
       "      <td>4</td>\n",
       "      <td>...</td>\n",
       "      <td>8.0</td>\n",
       "      <td>5.0</td>\n",
       "      <td>7.0</td>\n",
       "      <td>6.0</td>\n",
       "      <td>7.0</td>\n",
       "      <td>9.0</td>\n",
       "      <td>5.0</td>\n",
       "      <td>9.0</td>\n",
       "      <td>5.0</td>\n",
       "      <td>6.0</td>\n",
       "    </tr>\n",
       "    <tr>\n",
       "      <th>8375</th>\n",
       "      <td>552</td>\n",
       "      <td>22.0</td>\n",
       "      <td>1</td>\n",
       "      <td>44</td>\n",
       "      <td>2</td>\n",
       "      <td>21</td>\n",
       "      <td>22</td>\n",
       "      <td>19</td>\n",
       "      <td>10.0</td>\n",
       "      <td>10</td>\n",
       "      <td>...</td>\n",
       "      <td>8.0</td>\n",
       "      <td>5.0</td>\n",
       "      <td>7.0</td>\n",
       "      <td>6.0</td>\n",
       "      <td>7.0</td>\n",
       "      <td>9.0</td>\n",
       "      <td>5.0</td>\n",
       "      <td>9.0</td>\n",
       "      <td>5.0</td>\n",
       "      <td>6.0</td>\n",
       "    </tr>\n",
       "    <tr>\n",
       "      <th>8376</th>\n",
       "      <td>552</td>\n",
       "      <td>22.0</td>\n",
       "      <td>1</td>\n",
       "      <td>44</td>\n",
       "      <td>2</td>\n",
       "      <td>21</td>\n",
       "      <td>22</td>\n",
       "      <td>3</td>\n",
       "      <td>10.0</td>\n",
       "      <td>16</td>\n",
       "      <td>...</td>\n",
       "      <td>8.0</td>\n",
       "      <td>5.0</td>\n",
       "      <td>7.0</td>\n",
       "      <td>6.0</td>\n",
       "      <td>7.0</td>\n",
       "      <td>9.0</td>\n",
       "      <td>5.0</td>\n",
       "      <td>9.0</td>\n",
       "      <td>5.0</td>\n",
       "      <td>6.0</td>\n",
       "    </tr>\n",
       "    <tr>\n",
       "      <th>8377</th>\n",
       "      <td>552</td>\n",
       "      <td>NaN</td>\n",
       "      <td>1</td>\n",
       "      <td>44</td>\n",
       "      <td>2</td>\n",
       "      <td>21</td>\n",
       "      <td>22</td>\n",
       "      <td>2</td>\n",
       "      <td>10.0</td>\n",
       "      <td>15</td>\n",
       "      <td>...</td>\n",
       "      <td>8.0</td>\n",
       "      <td>5.0</td>\n",
       "      <td>7.0</td>\n",
       "      <td>6.0</td>\n",
       "      <td>7.0</td>\n",
       "      <td>9.0</td>\n",
       "      <td>5.0</td>\n",
       "      <td>9.0</td>\n",
       "      <td>5.0</td>\n",
       "      <td>6.0</td>\n",
       "    </tr>\n",
       "  </tbody>\n",
       "</table>\n",
       "<p>8378 rows × 195 columns</p>\n",
       "</div>"
      ],
      "text/plain": [
       "      iid    id  gender  idg  condtn  wave  round  position  positin1  order  \\\n",
       "0       1   1.0       0    1       1     1     10         7       NaN      4   \n",
       "1       1   1.0       0    1       1     1     10         7       NaN      3   \n",
       "2       1   1.0       0    1       1     1     10         7       NaN     10   \n",
       "3       1   1.0       0    1       1     1     10         7       NaN      5   \n",
       "4       1   1.0       0    1       1     1     10         7       NaN      7   \n",
       "...   ...   ...     ...  ...     ...   ...    ...       ...       ...    ...   \n",
       "8373  552  22.0       1   44       2    21     22        14      10.0      5   \n",
       "8374  552  22.0       1   44       2    21     22        13      10.0      4   \n",
       "8375  552  22.0       1   44       2    21     22        19      10.0     10   \n",
       "8376  552  22.0       1   44       2    21     22         3      10.0     16   \n",
       "8377  552   NaN       1   44       2    21     22         2      10.0     15   \n",
       "\n",
       "      ...  attr3_3  sinc3_3  intel3_3  fun3_3  amb3_3  attr5_3  sinc5_3  \\\n",
       "0     ...      5.0      7.0       7.0     7.0     7.0      NaN      NaN   \n",
       "1     ...      5.0      7.0       7.0     7.0     7.0      NaN      NaN   \n",
       "2     ...      5.0      7.0       7.0     7.0     7.0      NaN      NaN   \n",
       "3     ...      5.0      7.0       7.0     7.0     7.0      NaN      NaN   \n",
       "4     ...      5.0      7.0       7.0     7.0     7.0      NaN      NaN   \n",
       "...   ...      ...      ...       ...     ...     ...      ...      ...   \n",
       "8373  ...      8.0      5.0       7.0     6.0     7.0      9.0      5.0   \n",
       "8374  ...      8.0      5.0       7.0     6.0     7.0      9.0      5.0   \n",
       "8375  ...      8.0      5.0       7.0     6.0     7.0      9.0      5.0   \n",
       "8376  ...      8.0      5.0       7.0     6.0     7.0      9.0      5.0   \n",
       "8377  ...      8.0      5.0       7.0     6.0     7.0      9.0      5.0   \n",
       "\n",
       "      intel5_3  fun5_3  amb5_3  \n",
       "0          NaN     NaN     NaN  \n",
       "1          NaN     NaN     NaN  \n",
       "2          NaN     NaN     NaN  \n",
       "3          NaN     NaN     NaN  \n",
       "4          NaN     NaN     NaN  \n",
       "...        ...     ...     ...  \n",
       "8373       9.0     5.0     6.0  \n",
       "8374       9.0     5.0     6.0  \n",
       "8375       9.0     5.0     6.0  \n",
       "8376       9.0     5.0     6.0  \n",
       "8377       9.0     5.0     6.0  \n",
       "\n",
       "[8378 rows x 195 columns]"
      ]
     },
     "execution_count": 9,
     "metadata": {},
     "output_type": "execute_result"
    }
   ],
   "source": [
    "df = pd.read_csv('Speed Dating Data.csv', encoding='latin1')\n",
    "df"
   ]
  },
  {
   "cell_type": "code",
   "execution_count": 10,
   "metadata": {},
   "outputs": [
    {
     "data": {
      "text/plain": [
       "(8378, 195)"
      ]
     },
     "execution_count": 10,
     "metadata": {},
     "output_type": "execute_result"
    }
   ],
   "source": [
    "df.shape"
   ]
  },
  {
   "cell_type": "code",
   "execution_count": 11,
   "metadata": {},
   "outputs": [
    {
     "data": {
      "text/plain": [
       "(8378, 97)"
      ]
     },
     "execution_count": 11,
     "metadata": {},
     "output_type": "execute_result"
    }
   ],
   "source": [
    "df = df.iloc[:, :97]\n",
    "df.shape"
   ]
  },
  {
   "cell_type": "code",
   "execution_count": 12,
   "metadata": {},
   "outputs": [],
   "source": [
    "df = df.drop(['id'], axis=1)\n",
    "df = df.drop(['idg'], axis=1)"
   ]
  },
  {
   "cell_type": "code",
   "execution_count": 13,
   "metadata": {},
   "outputs": [],
   "source": [
    "df = df.drop(['condtn'], axis=1)"
   ]
  },
  {
   "cell_type": "code",
   "execution_count": 14,
   "metadata": {},
   "outputs": [
    {
     "data": {
      "text/plain": [
       "array([ 1,  2,  3,  4,  5,  6,  7,  8,  9, 10, 11, 12, 13, 14, 15, 16, 17,\n",
       "       18, 19, 20, 21], dtype=int64)"
      ]
     },
     "execution_count": 14,
     "metadata": {},
     "output_type": "execute_result"
    }
   ],
   "source": [
    "#в кач-ве признака юзать не будем\n",
    "df.wave.unique()"
   ]
  },
  {
   "cell_type": "code",
   "execution_count": 15,
   "metadata": {},
   "outputs": [],
   "source": [
    "df = df.drop(['round'], axis=1)"
   ]
  },
  {
   "cell_type": "code",
   "execution_count": 16,
   "metadata": {},
   "outputs": [],
   "source": [
    "df = df.drop(['position', 'positin1'], axis=1)"
   ]
  },
  {
   "cell_type": "code",
   "execution_count": 17,
   "metadata": {},
   "outputs": [],
   "source": [
    "df = df.drop(['order'], axis=1)"
   ]
  },
  {
   "cell_type": "code",
   "execution_count": 18,
   "metadata": {},
   "outputs": [],
   "source": [
    "df = df.drop(['partner'], axis=1)"
   ]
  },
  {
   "cell_type": "markdown",
   "metadata": {},
   "source": [
    "pid:\n",
    "partner’s iid number А вот это важно"
   ]
  },
  {
   "cell_type": "code",
   "execution_count": 19,
   "metadata": {},
   "outputs": [],
   "source": [
    "\n",
    "df = df.drop(['age_o', 'race_o', 'pf_o_att', \n",
    "              'pf_o_sin', 'pf_o_int',\n",
    "              'pf_o_fun', 'pf_o_amb', 'pf_o_sha',\n",
    "              'dec_o', 'attr_o', 'sinc_o', 'intel_o', 'fun_o',\n",
    "              'amb_o', 'shar_o', 'like_o', 'prob_o','met_o'], \n",
    "             axis=1)"
   ]
  },
  {
   "cell_type": "code",
   "execution_count": 20,
   "metadata": {},
   "outputs": [],
   "source": [
    "df = df.dropna(subset=['age'])"
   ]
  },
  {
   "cell_type": "code",
   "execution_count": 21,
   "metadata": {},
   "outputs": [
    {
     "name": "stdout",
     "output_type": "stream",
     "text": [
      "==========\n",
      "Field Code 1.0\n",
      "['Law' 'law' 'LAW' 'Law and Social Work'\n",
      " 'Law and English Literature (J.D./Ph.D.)' 'Intellectual Property Law'\n",
      " 'Law/Business']\n",
      "==========\n",
      "Field Code 2.0\n",
      "['Economics' 'Mathematics' 'Statistics' 'math' 'Mathematics, PhD' 'Stats'\n",
      " 'math of finance' 'Math']\n",
      "==========\n",
      "Field Code 3.0\n",
      "['Psychology' 'Speech Language Pathology' 'Speech Languahe Pathology'\n",
      " 'Educational Psychology' 'Organizational Psychology' 'psychology'\n",
      " 'Communications' 'Sociology' 'psychology and english' 'theory'\n",
      " 'Health policy' 'Clinical Psychology' 'Sociology and Education'\n",
      " 'sociology' 'Anthropology/Education' 'speech pathology'\n",
      " 'Speech Pathology' 'Anthropology' 'School Psychology' 'anthropology'\n",
      " 'Counseling Psychology' 'African-American Studies/History']\n",
      "==========\n",
      "Field Code 4.0\n",
      "['Medicine' 'Art History/medicine'\n",
      " 'Sociomedical Sciences- School of Public Health' 'Epidemiology'\n",
      " 'GS Postbacc PreMed' 'medicine']\n",
      "==========\n",
      "Field Code 5.0\n",
      "['Operations Research' 'Mechanical Engineering' 'Engineering'\n",
      " 'Electrical Engineering' 'Operations Research (SEAS)'\n",
      " 'Education Administration' 'Computer Science' 'Biomedical Engineering'\n",
      " 'electrical engineering' 'engineering' 'Medical Informatics'\n",
      " 'medical informatics' 'Electrical Engg.' 'Environmental Engineering'\n",
      " 'Instructional Tech & Media' 'MA in Quantitative Methods'\n",
      " 'Urban Planning' 'Financial Engineering' 'biomedical engineering'\n",
      " 'biomedical informatics' 'ELECTRICAL ENGINEERING'\n",
      " 'Biomedical engineering' 'Industrial Engineering'\n",
      " 'Industrial Engineering/Operations Research'\n",
      " 'Masters of Industrial Engineering' 'Biomedical Informatics']\n",
      "==========\n",
      "Field Code 6.0\n",
      "['MFA Creative Writing' 'Classics' 'Journalism' 'English'\n",
      " 'Comparative Literature' 'English and Comp Lit'\n",
      " 'Communications in Education' 'Creative Writing'\n",
      " 'Creative Writing - Nonfiction' 'Writing: Literary Nonfiction'\n",
      " 'Creative Writing (Nonfiction)' 'NonFiction Writing' 'SOA -- writing'\n",
      " 'journalism' 'Nonfiction writing']\n",
      "==========\n",
      "Field Code 7.0\n",
      "['German Literature' 'Religion' 'philosophy' 'History of Religion'\n",
      " 'Modern Chinese Literature' 'Philosophy' 'Religion, GSAS' 'History'\n",
      " 'History (GSAS - PhD)' 'American Studies' 'Philosophy (Ph.D.)'\n",
      " 'Philosophy and Physics' 'Art History' 'art history']\n",
      "==========\n",
      "Field Code 8.0\n",
      "['Finance' 'Business' 'money' 'Applied Maths/Econs' 'Economics' 'Finanace'\n",
      " 'Finance&Economics' 'Mathematical Finance' 'MBA'\n",
      " 'Business & International Affairs' 'Marketing' 'Business (MBA)'\n",
      " 'financial math' 'Business- MBA' 'Economics, English'\n",
      " 'Economics, Sociology' 'Economics and Political Science' 'business'\n",
      " 'Business, marketing' 'Business/ Finance/ Real Estate'\n",
      " 'International Affairs/Finance' 'international finance and business'\n",
      " 'International Business' 'International Finance, Economic Policy'\n",
      " 'Business/Law' 'Business and International Affairs (MBA/MIA Dual Degree)'\n",
      " 'QMSS' 'Public Administration' 'Master in Public Administration'\n",
      " 'Business School' 'MBA / Master of International Affairs (SIPA)'\n",
      " 'Finance/Economics' 'Business Administration' 'MBA Finance'\n",
      " 'BUSINESS CONSULTING' 'business school' 'Business, Media'\n",
      " 'Fundraising Management' 'Business (Finance & Marketing)' 'Consulting'\n",
      " 'MBA - Private Equity / Real Estate' 'General management/finance']\n",
      "==========\n",
      "Field Code 9.0\n",
      "['TC (Health Ed)' 'Elementary/Childhood Education (MA)'\n",
      " 'International Educational Development' 'Art Education'\n",
      " 'elementary education' 'MA Science Education' 'Social Studies Education'\n",
      " 'MA Teaching Social Studies' 'Education Policy'\n",
      " 'Education- Literacy Specialist' 'bilingual education' 'Education'\n",
      " 'math education' 'TESOL' 'Elementary Education'\n",
      " 'Cognitive Studies in Education' 'education'\n",
      " 'Curriculum and Teaching/Giftedness' 'Instructional Media and Technology'\n",
      " 'English Education' 'art education' 'Early Childhood Education'\n",
      " 'Ed.D. in higher education policy at TC' 'EDUCATION' 'music education'\n",
      " 'Music Education' 'Higher Ed. - M.A.' 'Neuroscience and Education'\n",
      " 'Elementary Education - Preservice'\n",
      " 'Education Leadership - Public School Administration'\n",
      " 'Bilingual Education' 'teaching of English']\n",
      "==========\n",
      "Field Code 10.0\n",
      "['chemistry' 'microbiology' 'Chemistry'\n",
      " 'Climate-Earth and Environ. Science' 'marine geophysics'\n",
      " 'Nutrition/Genetics' 'Neuroscience' 'physics (astrophysics)' 'Physics'\n",
      " 'Biochemistry' 'biology' 'Cell Biology' 'Microbiology' 'climate change'\n",
      " 'MA Biotechnology' 'Ecology' 'Computational Biochemsistry' 'Neurobiology'\n",
      " 'biomedicine' 'Biology' 'Conservation biology' 'biotechnology'\n",
      " 'Earth and Environmental Science' 'nutrition' 'Genetics' 'Nutritiron'\n",
      " 'Molecular Biology' 'Genetics & Development' 'genetics'\n",
      " 'medicine and biochemistry' 'Epidemiology' 'Nutrition'\n",
      " 'Applied Physiology & Nutrition' 'Biomedical Engineering' 'physics'\n",
      " 'Biotechnology' 'Neurosciences/Stem cells' 'Biology PhD'\n",
      " 'biochemistry/genetics' 'epidemiology'\n",
      " 'Biochemistry & Molecular Biophysics']\n",
      "==========\n",
      "Field Code 11.0\n",
      "['social work' 'Social Work' 'Masters of Social Work' 'Social work'\n",
      " 'International Affairs' 'Social Work/SIPA']\n",
      "==========\n",
      "Field Code 12.0\n",
      "['Undergrad - GS']\n",
      "==========\n",
      "Field Code 13.0\n",
      "['Masters in Public Administration' 'Masters of Social Work&Education'\n",
      " 'political science' 'International Relations'\n",
      " 'international affairs - economic development' 'Political Science'\n",
      " 'American Studies (Masters)' 'International Affairs'\n",
      " 'international affairs/international finance' 'International Development'\n",
      " 'International Affairs and Public Health' 'International affairs'\n",
      " 'International Affairs/Business' 'Master of International Affairs'\n",
      " 'International Politics' 'SIPA / MIA'\n",
      " 'International Security Policy - SIPA' 'Intrernational Affairs'\n",
      " 'International Affairs - Economic Policy' 'SIPA - Energy' 'Public Policy'\n",
      " 'Human Rights: Middle East' 'Human Rights' 'SIPA-International Affairs'\n",
      " 'Public Administration']\n",
      "==========\n",
      "Field Code 14.0\n",
      "['Film' 'MFA -Film' 'film']\n",
      "==========\n",
      "Field Code 15.0\n",
      "['Arts Administration' 'Museum Anthropology'\n",
      " 'Theatre Management & Producing' 'MFA Writing' 'MFA  Poetry' 'Theater'\n",
      " 'MFA Acting Program' 'Acting' 'Public Health']\n",
      "==========\n",
      "Field Code 16.0\n",
      "['Polish' 'Japanese Literature' 'french']\n",
      "==========\n",
      "Field Code 17.0\n",
      "['Architecture']\n",
      "==========\n",
      "Field Code 18.0\n",
      "['working' 'GSAS' 'Climate Dynamics']\n"
     ]
    }
   ],
   "source": [
    "\n",
    "for i, group in df.groupby('field_cd'):\n",
    "    print('=' * 10)\n",
    "    print('Field Code {}'.format(i))\n",
    "    print(group.field.unique())"
   ]
  },
  {
   "cell_type": "code",
   "execution_count": 22,
   "metadata": {},
   "outputs": [],
   "source": [
    "df.loc[:, 'field_cd'] = df.loc[:, 'field_cd'].fillna(19)"
   ]
  },
  {
   "cell_type": "code",
   "execution_count": 23,
   "metadata": {},
   "outputs": [],
   "source": [
    "df = df.drop(['field'], axis=1)"
   ]
  },
  {
   "cell_type": "code",
   "execution_count": 24,
   "metadata": {},
   "outputs": [],
   "source": [
    "#Надо же как-то закодировать field_cd!"
   ]
  },
  {
   "cell_type": "code",
   "execution_count": 25,
   "metadata": {},
   "outputs": [],
   "source": [
    "from sklearn.preprocessing import OneHotEncoder\n",
    "\n",
    "e = OneHotEncoder()"
   ]
  },
  {
   "cell_type": "code",
   "execution_count": 26,
   "metadata": {},
   "outputs": [
    {
     "data": {
      "text/plain": [
       "((8283, 19), (8283, 70))"
      ]
     },
     "execution_count": 26,
     "metadata": {},
     "output_type": "execute_result"
    }
   ],
   "source": [
    "x = df[\"field_cd\"].values.reshape(-1,1)\n",
    "a = e.fit_transform(x).toarray()\n",
    "a.shape, df.shape"
   ]
  },
  {
   "cell_type": "code",
   "execution_count": 27,
   "metadata": {},
   "outputs": [],
   "source": [
    "df = pd.concat([df,pd.DataFrame(a,index=df.index)],axis=1)"
   ]
  },
  {
   "cell_type": "code",
   "execution_count": 28,
   "metadata": {},
   "outputs": [],
   "source": [
    "df = df.drop(['field_cd'], axis=1)"
   ]
  },
  {
   "cell_type": "code",
   "execution_count": 29,
   "metadata": {},
   "outputs": [],
   "source": [
    "df = df.drop(['undergra'], axis=1)"
   ]
  },
  {
   "cell_type": "code",
   "execution_count": 30,
   "metadata": {},
   "outputs": [],
   "source": [
    "df.loc[:, 'mn_sat'] = df.loc[:, 'mn_sat'].str.replace(',', '').astype(np.float)"
   ]
  },
  {
   "cell_type": "code",
   "execution_count": 31,
   "metadata": {},
   "outputs": [
    {
     "data": {
      "text/plain": [
       "<AxesSubplot:>"
      ]
     },
     "execution_count": 31,
     "metadata": {},
     "output_type": "execute_result"
    },
    {
     "data": {
      "image/png": "[encoded data removed]",
      "text/plain": [
       "<Figure size 432x288 with 1 Axes>"
      ]
     },
     "metadata": {
      "needs_background": "light"
     },
     "output_type": "display_data"
    }
   ],
   "source": [
    "df.drop_duplicates('iid').mn_sat.hist()"
   ]
  },
  {
   "cell_type": "code",
   "execution_count": 32,
   "metadata": {},
   "outputs": [
    {
     "data": {
      "text/plain": [
       "342"
      ]
     },
     "execution_count": 32,
     "metadata": {},
     "output_type": "execute_result"
    }
   ],
   "source": [
    "df.drop_duplicates('iid').mn_sat.isnull().sum()"
   ]
  },
  {
   "cell_type": "code",
   "execution_count": 33,
   "metadata": {},
   "outputs": [],
   "source": [
    "m = df.drop_duplicates('iid').mn_sat.median()"
   ]
  },
  {
   "cell_type": "code",
   "execution_count": 34,
   "metadata": {},
   "outputs": [],
   "source": [
    "df['mn_sat'] = df['mn_sat'].fillna(m)"
   ]
  },
  {
   "cell_type": "code",
   "execution_count": 35,
   "metadata": {},
   "outputs": [],
   "source": [
    "\n",
    "df.loc[:, 'tuition'] = df.loc[:, 'tuition'].str.replace(',', '').astype(np.float)"
   ]
  },
  {
   "cell_type": "code",
   "execution_count": 36,
   "metadata": {},
   "outputs": [
    {
     "data": {
      "text/plain": [
       "310"
      ]
     },
     "execution_count": 36,
     "metadata": {},
     "output_type": "execute_result"
    }
   ],
   "source": [
    "\n",
    "df.drop_duplicates('iid').tuition.isnull().sum()"
   ]
  },
  {
   "cell_type": "code",
   "execution_count": 37,
   "metadata": {},
   "outputs": [
    {
     "data": {
      "text/plain": [
       "<AxesSubplot:>"
      ]
     },
     "execution_count": 37,
     "metadata": {},
     "output_type": "execute_result"
    },
    {
     "data": {
      "image/png": "[encoded data removed]",
      "text/plain": [
       "<Figure size 432x288 with 1 Axes>"
      ]
     },
     "metadata": {
      "needs_background": "light"
     },
     "output_type": "display_data"
    }
   ],
   "source": [
    "df.drop_duplicates('iid').tuition.hist()"
   ]
  },
  {
   "cell_type": "code",
   "execution_count": 38,
   "metadata": {},
   "outputs": [],
   "source": [
    "m = df.drop_duplicates('iid').tuition.median()\n",
    "df['tuition'] = df['tuition'].fillna(m)"
   ]
  },
  {
   "cell_type": "markdown",
   "metadata": {},
   "source": [
    "\n",
    "race:\n",
    "Black/African American=1\n",
    "European/Caucasian-American=2\n",
    "Latino/Hispanic American=3\n",
    "Asian/Pacific Islander/Asian-American=4\n",
    "Native American=5\n",
    "Other=6"
   ]
  },
  {
   "cell_type": "code",
   "execution_count": 39,
   "metadata": {},
   "outputs": [],
   "source": [
    "e = OneHotEncoder()\n",
    "x = df[\"race\"].values.reshape(-1,1)\n",
    "a = e.fit_transform(x).toarray()\n",
    "df = pd.concat([df,pd.DataFrame(a,index=df.index)],axis=1)"
   ]
  },
  {
   "cell_type": "code",
   "execution_count": 40,
   "metadata": {},
   "outputs": [
    {
     "data": {
      "text/plain": [
       "1"
      ]
     },
     "execution_count": 40,
     "metadata": {},
     "output_type": "execute_result"
    }
   ],
   "source": [
    "df.drop_duplicates('iid').imprace.isnull().sum()"
   ]
  },
  {
   "cell_type": "code",
   "execution_count": 41,
   "metadata": {},
   "outputs": [
    {
     "data": {
      "text/plain": [
       "1"
      ]
     },
     "execution_count": 41,
     "metadata": {},
     "output_type": "execute_result"
    }
   ],
   "source": [
    "\n",
    "df.drop_duplicates('iid').imprelig.isnull().sum()"
   ]
  },
  {
   "cell_type": "code",
   "execution_count": 42,
   "metadata": {},
   "outputs": [],
   "source": [
    "df = df.dropna(subset=['imprelig', 'imprace'])"
   ]
  },
  {
   "cell_type": "code",
   "execution_count": 43,
   "metadata": {},
   "outputs": [],
   "source": [
    "df = df.drop(['from', 'zipcode'], axis=1)"
   ]
  },
  {
   "cell_type": "code",
   "execution_count": 44,
   "metadata": {},
   "outputs": [],
   "source": [
    "df.loc[:, 'income'] = df.loc[:, 'income'].str.replace(',', '').astype(np.float)"
   ]
  },
  {
   "cell_type": "code",
   "execution_count": 45,
   "metadata": {},
   "outputs": [
    {
     "data": {
      "text/plain": [
       "<AxesSubplot:>"
      ]
     },
     "execution_count": 45,
     "metadata": {},
     "output_type": "execute_result"
    },
    {
     "data": {
      "image/png": "[encoded data removed]",
      "text/plain": [
       "<Figure size 432x288 with 1 Axes>"
      ]
     },
     "metadata": {
      "needs_background": "light"
     },
     "output_type": "display_data"
    }
   ],
   "source": [
    "df.drop_duplicates('iid').loc[:, 'income'].hist()"
   ]
  },
  {
   "cell_type": "code",
   "execution_count": 46,
   "metadata": {},
   "outputs": [
    {
     "data": {
      "text/plain": [
       "261"
      ]
     },
     "execution_count": 46,
     "metadata": {},
     "output_type": "execute_result"
    }
   ],
   "source": [
    "df.drop_duplicates('iid').loc[:, 'income'].isnull().sum()"
   ]
  },
  {
   "cell_type": "code",
   "execution_count": 47,
   "metadata": {},
   "outputs": [],
   "source": [
    "df.loc[:, 'income'] = df.loc[:, 'income'].fillna(-666)"
   ]
  },
  {
   "cell_type": "markdown",
   "metadata": {},
   "source": [
    "goal:\n",
    "What is your primary goal in participating in this event? \n",
    "Seemed like a fun night out=1\n",
    "To meet new people=2\n",
    "To get a date=3\n",
    "Looking for a serious relationship=4\n",
    "To say I did it=5\n",
    "Other=6\n",
    "\n",
    "date:\n",
    "In general, how frequently do you go on dates? \n",
    "Several times a week=1\n",
    "Twice a week=2\n",
    "Once a week=3\n",
    "Twice a month=4\n",
    "Once a month=5\n",
    "Several times a year=6\n",
    "Almost never=7\n",
    "\n",
    "go out:\n",
    "How often do you go out (not necessarily on dates)?\n",
    "Several times a week=1\n",
    "Twice a week=2\n",
    "Once a week=3\n",
    "Twice a month=4\n",
    "Once a month=5\n",
    "Several times a year=6\n",
    "Almost never=7"
   ]
  },
  {
   "cell_type": "code",
   "execution_count": 48,
   "metadata": {},
   "outputs": [],
   "source": [
    "e = OneHotEncoder()\n",
    "x = df[\"goal\"].values.reshape(-1,1)\n",
    "a = e.fit_transform(x).toarray()\n",
    "df = pd.concat([df,pd.DataFrame(a,index=df.index)],axis=1)"
   ]
  },
  {
   "cell_type": "code",
   "execution_count": 49,
   "metadata": {},
   "outputs": [],
   "source": [
    "\n",
    "df = df.dropna(subset=['date'])"
   ]
  },
  {
   "cell_type": "code",
   "execution_count": 50,
   "metadata": {},
   "outputs": [],
   "source": [
    "e = OneHotEncoder()\n",
    "x = df[\"date\"].values.reshape(-1,1)\n",
    "a = e.fit_transform(x).toarray()\n",
    "df = pd.concat([df,pd.DataFrame(a,index=df.index)],axis=1)"
   ]
  },
  {
   "cell_type": "code",
   "execution_count": 51,
   "metadata": {},
   "outputs": [],
   "source": [
    "e = OneHotEncoder()\n",
    "x = df[\"go_out\"].values.reshape(-1,1)\n",
    "a = e.fit_transform(x).toarray()\n",
    "df = pd.concat([df,pd.DataFrame(a,index=df.index)],axis=1)"
   ]
  },
  {
   "cell_type": "code",
   "execution_count": 52,
   "metadata": {},
   "outputs": [],
   "source": [
    "\n",
    "df = df.drop(['goal'], axis=1)\n",
    "df = df.drop(['date'], axis=1)\n",
    "df = df.drop(['go_out'], axis=1)"
   ]
  },
  {
   "cell_type": "code",
   "execution_count": 53,
   "metadata": {},
   "outputs": [
    {
     "name": "stdout",
     "output_type": "stream",
     "text": [
      "==========\n",
      "Career Code 1.0\n",
      "['lawyer/policy work' 'lawyer' 'Law' 'Corporate Lawyer' 'Lawyer'\n",
      " 'Corporate attorney' 'law' 'Intellectual Property Attorney' 'LAWYER'\n",
      " 'attorney' 'Lawyer or professional surfer' 'lawyer/gov.position'\n",
      " 'Law or finance' 'IP Law' 'Academic (Law)' 'Private Equity' 'attorney?'\n",
      " 'Corporate law' 'tax lawyer' 'Business/Law' 'Assistant District Attorney']\n",
      "==========\n",
      "Career Code 2.0\n",
      "['Academia, Research, Banking, Life' 'academics or journalism' 'Professor'\n",
      " 'Academic' 'academia' 'teacher' 'industrial scientist'\n",
      " 'teaching and then...' 'Professor of Media Studies'\n",
      " 'Education Administration' 'Academic or Research staff'\n",
      " 'University Professor' 'Research Scientist'\n",
      " 'research in industry or academia' 'Teacher/Professor'\n",
      " 'no idea, maybe a professor' 'a research position' 'professor' 'teaching'\n",
      " 'engineering professional' 'research' 'Neuroscientist/Professor'\n",
      " 'Education' 'Professor and Government Official'\n",
      " 'physicist, probably academia' 'college art teacher' 'academic'\n",
      " 'Research scientist, professor' 'academics' 'academic research'\n",
      " 'academician' 'professional student' 'education' 'Historian'\n",
      " 'college professor' 'scientific research' 'Academic Physician'\n",
      " 'Researcher' 'Professor or Consultant' 'History Professor'\n",
      " 'Educational Policy' 'elementary school teacher' 'Research/Teaching'\n",
      " 'researcher in sociology' 'scientist' 'Naturalist'\n",
      " 'professor, poet/critic' 'researcher/academia' 'Art educator and Artist'\n",
      " 'Teacher' 'Scientist' 'Scientist/educator'\n",
      " 'scientific research for now but who knows' 'College Professor'\n",
      " 'Professor or Lawyer' 'research position in pharmaceutical industry'\n",
      " 'Academia' 'research/academia' 'Secondary Education Teacher'\n",
      " 'High School Social Studies Teacher' 'Education Policy Analyst'\n",
      " 'Literacy Organization head/ Director of Development for non-profit'\n",
      " 'English Teacher' 'Program development / policy work'\n",
      " 'professor of education' 'Educator' 'teaching/education'\n",
      " 'professor in college' 'Academia; Research; Teaching'\n",
      " 'curriculum developer' 'academic or consulting' 'Academia or UN'\n",
      " 'I am a teacher.' 'Professor or journalist'\n",
      " 'to get Ph.D and be a professor'\n",
      " 'Early Childhood Ed. - College/univ. faculity'\n",
      " 'medical examiner or researcher' 'University President'\n",
      " 'EDUCATION ADMINISTRATION' 'music educator, performer'\n",
      " 'Elementary Education Teaching' 'research - teaching' 'Research'\n",
      " 'Elementary school teacher' 'Bilingual Elementary School Teacher'\n",
      " 'Professor, or Engineer' 'Professor; Human Rights Director'\n",
      " 'Clinic Trial' 'English teacher' 'writer/teacher' 'Professor...?'\n",
      " 'acadeic' 'researcher' 'biology industry' 'Epidemiologist'\n",
      " 'epidemiologist' 'teacher and performer' 'TEACHING' 'Academic/ Finance'\n",
      " 'Science' 'Academic Work, Consultant']\n",
      "==========\n",
      "Career Code 3.0\n",
      "['psychologist' 'Social Worker.... Clinician' 'Psychologist'\n",
      " 'school psychologist' 'School Psychologist' 'Clinical Psychology'\n",
      " 'Clinical Psychologist' 'clinical psychologist, researcher, professor'\n",
      " 'School Counseling' 'Sex Therapist']\n",
      "==========\n",
      "Career Code 4.0\n",
      "['Biostatistics' 'Medicine' 'pharmaceuticals' 'Cardiologist' 'Pediatrics'\n",
      " 'medicine' 'pharmaceuticals and biotechnology' 'Physician Scientist'\n",
      " 'health policy' 'Epidemiologist' 'nutrition and dental' 'Physician'\n",
      " 'dietician' 'doctor and entrepreneur' 'Healthcare' 'Nutritionist'\n",
      " 'Private practice Dietician' 'physician, informaticist' 'physician'\n",
      " 'Medical Sciences' 'physician/healthcare' 'Doctor']\n",
      "==========\n",
      "Career Code 5.0\n",
      "['Informatics' 'Engineer' 'Ph.D. Electrical Engineering'\n",
      " 'Operations Research' 'Engineering' 'Mechanical Engineering'\n",
      " 'Civil Engineer' 'Urban Planner' 'Planning' 'ASIC Engineer'\n",
      " 'software engr, network engr' 'Research Engineer']\n",
      "==========\n",
      "Career Code 6.0\n",
      "['Journalist' \"Clidren's TV\" 'Music production' 'comedienne' 'novelist'\n",
      " 'Journalism' 'film' 'Writer' 'Porn Star' 'boxing champ'\n",
      " 'Paper Back Writer'\n",
      " 'Poet, Writer, Singer, Policy Maker with the UN and/or Indian Govt.'\n",
      " 'Entertainment/Sports' 'WRITING' 'manage a museum or art gallery'\n",
      " 'Entertainment/Media' 'Film/Television' 'Writing'\n",
      " 'Museum Work (Curation?)' 'Music Industry' 'Artist' 'Art Management'\n",
      " 'film directing' 'Screenwriter' 'Filmmaker' 'Writer/teacher'\n",
      " 'Writing or Editorial' 'writer/editor'\n",
      " 'producer at a non-profit regional theatre' 'writer' 'playing music'\n",
      " 'writer/producer' 'film and radio' 'Film' 'Writer/Editor' 'Actress'\n",
      " 'Acting']\n",
      "==========\n",
      "Career Code 7.0\n",
      "['research/financial industry' 'Financial Services' 'ceo' 'CEO' 'Banking'\n",
      " 'Capital Markets' 'Organizational Change Consultant' 'banker / academia'\n",
      " 'banker' 'Entrepreneur' 'consulting' 'Private Equity Investing'\n",
      " 'Investment Banking' 'Engineer or iBanker or consultant' 'Trading'\n",
      " 'Economic research' 'Microfinancing Program Manager' 'Marketing'\n",
      " 'Business - Investment Management' 'Finance' 'business'\n",
      " 'Marketing, Advertising' 'Asset Management' 'investment banking' 'MBA'\n",
      " 'Business' 'finance' 'Marketing and Media' 'Brand Management'\n",
      " 'Management Consulting' 'management consulting'\n",
      " 'financial service or fashion' 'International Business' 'Private Equity'\n",
      " 'Investment Management' 'Development work' 'marketing / brand management'\n",
      " 'Biotech/business' 'Country Analysis/Research/Credit Analysis'\n",
      " 'Consulting' 'corporate finance'\n",
      " 'CEO in For Profit Biomedical Organization' 'banking'\n",
      " 'Conservation training and education' 'president' 'Management Consultant'\n",
      " 'Trader' 'Wall Street Economist' 'enterpreneur' 'Industry CTO/CEO'\n",
      " 'finance or engineering' 'Venture Capital/Consulting/Government'\n",
      " \"Int'l Business\" 'Pharmaceuticals/Consulting' 'Investment banking'\n",
      " 'International Development banker'\n",
      " 'Corporate Finance, Asset Management/ Hedge Funds'\n",
      " 'Real Estate Consulting' 'Director of Training and Development'\n",
      " 'Marketing or Strategy and Business Development' 'Business Consulting'\n",
      " 'CONSULTING' 'investment management' 'Finance Related'\n",
      " 'Media Marketing/Entrepreneurship' 'Director of Admissions'\n",
      " 'Consultin \\\\ Management'\n",
      " 'Financial Mathematics-Investment Bank or Hedge Fund-Derivatives Quant Analyst'\n",
      " 'Work in an investment bank' 'M&A Advisory' 'millionaire'\n",
      " 'Fundraising for Non-Profits' 'Money Management' 'General Management'\n",
      " 'Public School Principal' 'Media Management' 'Public Finance'\n",
      " 'Business Management' 'private equity' 'Health care finance'\n",
      " 'Entrepreneurship' 'Fixed Income Sales & Trading'\n",
      " 'Consulting, later Arts or Non-Profit' 'Finance/Economics'\n",
      " 'Investment Banker' 'consultant'\n",
      " 'Business Management and Information Technology' 'self-made millionare'\n",
      " 'To go into Finance' 'Private Equity - Leveraged Buy-Outs' 'Management'\n",
      " 'General management/consulting']\n",
      "==========\n",
      "Career Code 8.0\n",
      "['Real Estate' 'Real Estate/ Private Equity']\n",
      "==========\n",
      "Career Code 9.0\n",
      "['Congresswoman, and comedian'\n",
      " 'To create early childhood intervention programs'\n",
      " 'health/nutrition oriented social worker' 'Social Worker'\n",
      " 'Social work with children' 'Speech Language Pathologist'\n",
      " 'Social Work Administration' 'social worker' 'Social Services/ Policy'\n",
      " 'Clinical Social Worker' 'international development work' 'Nonprofit'\n",
      " 'Child Rights' 'Development work on field in the middle of nowhere'\n",
      " 'International Development' 'UN Civil Servant'\n",
      " 'Humanitarian Affairs/Human Rights'\n",
      " 'International affairs related career' 'public service'\n",
      " 'Security Policy - Homeland Defense'\n",
      " 'reorganizing society. no, I am not being flip.' 'Intl Development'\n",
      " \"Diplomat / Int'l civil servant\" 'Diplomat/Business'\n",
      " 'Economic Policy Advisor on Latin America' 'Energy Management' 'Diplomat'\n",
      " 'Work at the UN' 'Foreign Service'\n",
      " 'Exec. Director of social service non-profit']\n",
      "==========\n",
      "Career Code 10.0\n",
      "['Undecided' \"I don't know\" 'What a question!' 'if only i knew'\n",
      " \"don't know\" 'Not Sure' 'undecided' 'TBA' 'Am not sure' 'Who knows' '?'\n",
      " 'not sure yet :)' 'Make money' 'still wondering' 'Not sure yet' 'unknown'\n",
      " 'unsure' '??' 'dont know yet']\n",
      "==========\n",
      "Career Code 11.0\n",
      "['Social Worker' 'Counseling Adolescents' 'Social work' 'Social Work'\n",
      " 'Social Work Policy' 'Clinical Social Worker']\n",
      "==========\n",
      "Career Code 12.0\n",
      "['speech pathologist' 'Speech Pathologist']\n",
      "==========\n",
      "Career Code 13.0\n",
      "['GOVERNOR' 'Political Development in Africa' 'Lobbyist' 'politics'\n",
      " 'School Leadership/Politics']\n",
      "==========\n",
      "Career Code 14.0\n",
      "['Pro Beach Volleyball']\n",
      "==========\n",
      "Career Code 15.0\n",
      "['Hero' 'Energy' 'Trade Specialist' 'professional career'\n",
      " \"assistant master of the universe (otherwise it's too much work)\"]\n",
      "==========\n",
      "Career Code 16.0\n",
      "['journalism' 'Writer/journalist']\n",
      "==========\n",
      "Career Code 17.0\n",
      "['Architecture and design']\n"
     ]
    }
   ],
   "source": [
    "for i, group in df.groupby('career_c'):\n",
    "    print('=' * 10)\n",
    "    print('Career Code {}'.format(i))\n",
    "    print(group.career.unique())"
   ]
  },
  {
   "cell_type": "code",
   "execution_count": 54,
   "metadata": {},
   "outputs": [],
   "source": [
    "df.loc[:, 'career_c'] = df.loc[:, 'career_c'].fillna(18)"
   ]
  },
  {
   "cell_type": "code",
   "execution_count": 55,
   "metadata": {},
   "outputs": [],
   "source": [
    "\n",
    "df = df.drop(['career'], axis=1)"
   ]
  },
  {
   "cell_type": "code",
   "execution_count": 56,
   "metadata": {},
   "outputs": [],
   "source": [
    "e = OneHotEncoder()\n",
    "x = df[\"career_c\"].values.reshape(-1,1)\n",
    "a = e.fit_transform(x).toarray()\n",
    "df = pd.concat([df,pd.DataFrame(a,index=df.index)],axis=1)"
   ]
  },
  {
   "cell_type": "code",
   "execution_count": 57,
   "metadata": {},
   "outputs": [],
   "source": [
    "df = df.drop(['career_c'], axis=1)"
   ]
  },
  {
   "cell_type": "code",
   "execution_count": 58,
   "metadata": {},
   "outputs": [],
   "source": [
    "df = df.drop(['sports','tvsports','exercise','dining','museums','art','hiking','gaming',\n",
    "       'clubbing','reading','tv','theater','movies','concerts','music','shopping','yoga'], axis=1)"
   ]
  },
  {
   "cell_type": "code",
   "execution_count": 59,
   "metadata": {},
   "outputs": [],
   "source": [
    "df = df.drop(['expnum'], axis=1)"
   ]
  },
  {
   "cell_type": "code",
   "execution_count": 60,
   "metadata": {},
   "outputs": [],
   "source": [
    "feat = ['iid', 'wave', 'attr1_1', 'sinc1_1', 'intel1_1', 'fun1_1', 'amb1_1', 'shar1_1']\n",
    "\n",
    "temp = df.drop_duplicates(subset=['iid', 'wave']).loc[:, feat]\n",
    "temp.loc[:, 'totalsum'] = temp.iloc[:, 2:].sum(axis=1)"
   ]
  },
  {
   "cell_type": "code",
   "execution_count": 61,
   "metadata": {},
   "outputs": [
    {
     "data": {
      "text/html": [
       "<div>\n",
       "<style scoped>\n",
       "    .dataframe tbody tr th:only-of-type {\n",
       "        vertical-align: middle;\n",
       "    }\n",
       "\n",
       "    .dataframe tbody tr th {\n",
       "        vertical-align: top;\n",
       "    }\n",
       "\n",
       "    .dataframe thead th {\n",
       "        text-align: right;\n",
       "    }\n",
       "</style>\n",
       "<table border=\"1\" class=\"dataframe\">\n",
       "  <thead>\n",
       "    <tr style=\"text-align: right;\">\n",
       "      <th></th>\n",
       "      <th>iid</th>\n",
       "      <th>wave</th>\n",
       "      <th>attr1_1</th>\n",
       "      <th>sinc1_1</th>\n",
       "      <th>intel1_1</th>\n",
       "      <th>fun1_1</th>\n",
       "      <th>amb1_1</th>\n",
       "      <th>shar1_1</th>\n",
       "      <th>totalsum</th>\n",
       "    </tr>\n",
       "  </thead>\n",
       "  <tbody>\n",
       "    <tr>\n",
       "      <th>918</th>\n",
       "      <td>67</td>\n",
       "      <td>3</td>\n",
       "      <td>20.0</td>\n",
       "      <td>15.0</td>\n",
       "      <td>20.0</td>\n",
       "      <td>20.0</td>\n",
       "      <td>5.0</td>\n",
       "      <td>10.0</td>\n",
       "      <td>90.0</td>\n",
       "    </tr>\n",
       "    <tr>\n",
       "      <th>1530</th>\n",
       "      <td>105</td>\n",
       "      <td>4</td>\n",
       "      <td>30.0</td>\n",
       "      <td>15.0</td>\n",
       "      <td>20.0</td>\n",
       "      <td>20.0</td>\n",
       "      <td>0.0</td>\n",
       "      <td>5.0</td>\n",
       "      <td>90.0</td>\n",
       "    </tr>\n",
       "    <tr>\n",
       "      <th>7221</th>\n",
       "      <td>489</td>\n",
       "      <td>19</td>\n",
       "      <td>20.0</td>\n",
       "      <td>10.0</td>\n",
       "      <td>20.0</td>\n",
       "      <td>20.0</td>\n",
       "      <td>20.0</td>\n",
       "      <td>0.0</td>\n",
       "      <td>90.0</td>\n",
       "    </tr>\n",
       "    <tr>\n",
       "      <th>7586</th>\n",
       "      <td>517</td>\n",
       "      <td>21</td>\n",
       "      <td>15.0</td>\n",
       "      <td>20.0</td>\n",
       "      <td>20.0</td>\n",
       "      <td>20.0</td>\n",
       "      <td>5.0</td>\n",
       "      <td>10.0</td>\n",
       "      <td>90.0</td>\n",
       "    </tr>\n",
       "    <tr>\n",
       "      <th>7784</th>\n",
       "      <td>526</td>\n",
       "      <td>21</td>\n",
       "      <td>10.0</td>\n",
       "      <td>10.0</td>\n",
       "      <td>30.0</td>\n",
       "      <td>20.0</td>\n",
       "      <td>10.0</td>\n",
       "      <td>15.0</td>\n",
       "      <td>95.0</td>\n",
       "    </tr>\n",
       "  </tbody>\n",
       "</table>\n",
       "</div>"
      ],
      "text/plain": [
       "      iid  wave  attr1_1  sinc1_1  intel1_1  fun1_1  amb1_1  shar1_1  totalsum\n",
       "918    67     3     20.0     15.0      20.0    20.0     5.0     10.0      90.0\n",
       "1530  105     4     30.0     15.0      20.0    20.0     0.0      5.0      90.0\n",
       "7221  489    19     20.0     10.0      20.0    20.0    20.0      0.0      90.0\n",
       "7586  517    21     15.0     20.0      20.0    20.0     5.0     10.0      90.0\n",
       "7784  526    21     10.0     10.0      30.0    20.0    10.0     15.0      95.0"
      ]
     },
     "execution_count": 61,
     "metadata": {},
     "output_type": "execute_result"
    }
   ],
   "source": [
    "idx = ((temp.wave < 6) | (temp.wave > 9)) & (temp.totalsum < 99)\n",
    "temp.loc[idx, ]"
   ]
  },
  {
   "cell_type": "code",
   "execution_count": 62,
   "metadata": {},
   "outputs": [
    {
     "data": {
      "text/html": [
       "<div>\n",
       "<style scoped>\n",
       "    .dataframe tbody tr th:only-of-type {\n",
       "        vertical-align: middle;\n",
       "    }\n",
       "\n",
       "    .dataframe tbody tr th {\n",
       "        vertical-align: top;\n",
       "    }\n",
       "\n",
       "    .dataframe thead th {\n",
       "        text-align: right;\n",
       "    }\n",
       "</style>\n",
       "<table border=\"1\" class=\"dataframe\">\n",
       "  <thead>\n",
       "    <tr style=\"text-align: right;\">\n",
       "      <th></th>\n",
       "      <th>iid</th>\n",
       "      <th>wave</th>\n",
       "      <th>attr1_1</th>\n",
       "      <th>sinc1_1</th>\n",
       "      <th>intel1_1</th>\n",
       "      <th>fun1_1</th>\n",
       "      <th>amb1_1</th>\n",
       "      <th>shar1_1</th>\n",
       "      <th>totalsum</th>\n",
       "    </tr>\n",
       "  </thead>\n",
       "  <tbody>\n",
       "    <tr>\n",
       "      <th>1846</th>\n",
       "      <td>132</td>\n",
       "      <td>6</td>\n",
       "      <td>16.67</td>\n",
       "      <td>16.67</td>\n",
       "      <td>16.67</td>\n",
       "      <td>16.67</td>\n",
       "      <td>16.67</td>\n",
       "      <td>16.67</td>\n",
       "      <td>100.02</td>\n",
       "    </tr>\n",
       "    <tr>\n",
       "      <th>1851</th>\n",
       "      <td>133</td>\n",
       "      <td>6</td>\n",
       "      <td>12.77</td>\n",
       "      <td>19.15</td>\n",
       "      <td>17.02</td>\n",
       "      <td>17.02</td>\n",
       "      <td>14.89</td>\n",
       "      <td>19.15</td>\n",
       "      <td>100.00</td>\n",
       "    </tr>\n",
       "    <tr>\n",
       "      <th>1856</th>\n",
       "      <td>134</td>\n",
       "      <td>6</td>\n",
       "      <td>6.67</td>\n",
       "      <td>20.00</td>\n",
       "      <td>20.00</td>\n",
       "      <td>17.78</td>\n",
       "      <td>20.00</td>\n",
       "      <td>15.56</td>\n",
       "      <td>100.01</td>\n",
       "    </tr>\n",
       "    <tr>\n",
       "      <th>1861</th>\n",
       "      <td>135</td>\n",
       "      <td>6</td>\n",
       "      <td>18.18</td>\n",
       "      <td>22.73</td>\n",
       "      <td>18.18</td>\n",
       "      <td>13.64</td>\n",
       "      <td>13.64</td>\n",
       "      <td>13.64</td>\n",
       "      <td>100.01</td>\n",
       "    </tr>\n",
       "    <tr>\n",
       "      <th>1871</th>\n",
       "      <td>137</td>\n",
       "      <td>6</td>\n",
       "      <td>17.39</td>\n",
       "      <td>17.39</td>\n",
       "      <td>15.22</td>\n",
       "      <td>17.39</td>\n",
       "      <td>13.04</td>\n",
       "      <td>19.57</td>\n",
       "      <td>100.00</td>\n",
       "    </tr>\n",
       "    <tr>\n",
       "      <th>...</th>\n",
       "      <td>...</td>\n",
       "      <td>...</td>\n",
       "      <td>...</td>\n",
       "      <td>...</td>\n",
       "      <td>...</td>\n",
       "      <td>...</td>\n",
       "      <td>...</td>\n",
       "      <td>...</td>\n",
       "      <td>...</td>\n",
       "    </tr>\n",
       "    <tr>\n",
       "      <th>3308</th>\n",
       "      <td>229</td>\n",
       "      <td>9</td>\n",
       "      <td>21.43</td>\n",
       "      <td>16.67</td>\n",
       "      <td>21.43</td>\n",
       "      <td>16.67</td>\n",
       "      <td>11.90</td>\n",
       "      <td>11.90</td>\n",
       "      <td>100.00</td>\n",
       "    </tr>\n",
       "    <tr>\n",
       "      <th>3328</th>\n",
       "      <td>230</td>\n",
       "      <td>9</td>\n",
       "      <td>23.81</td>\n",
       "      <td>23.81</td>\n",
       "      <td>23.81</td>\n",
       "      <td>23.81</td>\n",
       "      <td>2.38</td>\n",
       "      <td>2.38</td>\n",
       "      <td>100.00</td>\n",
       "    </tr>\n",
       "    <tr>\n",
       "      <th>3348</th>\n",
       "      <td>231</td>\n",
       "      <td>9</td>\n",
       "      <td>18.60</td>\n",
       "      <td>20.93</td>\n",
       "      <td>23.26</td>\n",
       "      <td>23.26</td>\n",
       "      <td>2.33</td>\n",
       "      <td>11.63</td>\n",
       "      <td>100.01</td>\n",
       "    </tr>\n",
       "    <tr>\n",
       "      <th>3368</th>\n",
       "      <td>232</td>\n",
       "      <td>9</td>\n",
       "      <td>17.78</td>\n",
       "      <td>17.78</td>\n",
       "      <td>17.78</td>\n",
       "      <td>17.78</td>\n",
       "      <td>13.33</td>\n",
       "      <td>15.56</td>\n",
       "      <td>100.01</td>\n",
       "    </tr>\n",
       "    <tr>\n",
       "      <th>3388</th>\n",
       "      <td>233</td>\n",
       "      <td>9</td>\n",
       "      <td>14.00</td>\n",
       "      <td>20.00</td>\n",
       "      <td>18.00</td>\n",
       "      <td>16.00</td>\n",
       "      <td>14.00</td>\n",
       "      <td>18.00</td>\n",
       "      <td>100.00</td>\n",
       "    </tr>\n",
       "  </tbody>\n",
       "</table>\n",
       "<p>101 rows × 9 columns</p>\n",
       "</div>"
      ],
      "text/plain": [
       "      iid  wave  attr1_1  sinc1_1  intel1_1  fun1_1  amb1_1  shar1_1  totalsum\n",
       "1846  132     6    16.67    16.67     16.67   16.67   16.67    16.67    100.02\n",
       "1851  133     6    12.77    19.15     17.02   17.02   14.89    19.15    100.00\n",
       "1856  134     6     6.67    20.00     20.00   17.78   20.00    15.56    100.01\n",
       "1861  135     6    18.18    22.73     18.18   13.64   13.64    13.64    100.01\n",
       "1871  137     6    17.39    17.39     15.22   17.39   13.04    19.57    100.00\n",
       "...   ...   ...      ...      ...       ...     ...     ...      ...       ...\n",
       "3308  229     9    21.43    16.67     21.43   16.67   11.90    11.90    100.00\n",
       "3328  230     9    23.81    23.81     23.81   23.81    2.38     2.38    100.00\n",
       "3348  231     9    18.60    20.93     23.26   23.26    2.33    11.63    100.01\n",
       "3368  232     9    17.78    17.78     17.78   17.78   13.33    15.56    100.01\n",
       "3388  233     9    14.00    20.00     18.00   16.00   14.00    18.00    100.00\n",
       "\n",
       "[101 rows x 9 columns]"
      ]
     },
     "execution_count": 62,
     "metadata": {},
     "output_type": "execute_result"
    }
   ],
   "source": [
    "idx = ((temp.wave >= 6) & (temp.wave <= 9))\n",
    "temp.loc[idx, ]"
   ]
  },
  {
   "cell_type": "code",
   "execution_count": 63,
   "metadata": {},
   "outputs": [],
   "source": [
    "df.loc[:, 'temp_totalsum'] = df.loc[:, ['attr1_1', 'sinc1_1', 'intel1_1', 'fun1_1', 'amb1_1', 'shar1_1']].sum(axis=1)"
   ]
  },
  {
   "cell_type": "code",
   "execution_count": 64,
   "metadata": {},
   "outputs": [],
   "source": [
    "df.loc[:, ['attr1_1', 'sinc1_1', 'intel1_1', 'fun1_1', 'amb1_1', 'shar1_1']] = \\\n",
    "(df.loc[:, ['attr1_1', 'sinc1_1', 'intel1_1', 'fun1_1', 'amb1_1', 'shar1_1']].T/df.loc[:, 'temp_totalsum'].T).T * 100"
   ]
  },
  {
   "cell_type": "code",
   "execution_count": 65,
   "metadata": {},
   "outputs": [],
   "source": [
    "\n",
    "feat = ['iid', 'wave', 'attr2_1', 'sinc2_1', 'intel2_1', 'fun2_1', 'amb2_1', 'shar2_1']\n",
    "\n",
    "temp = df.drop_duplicates(subset=['iid', 'wave']).loc[:, feat]\n",
    "temp.loc[:, 'totalsum'] = temp.iloc[:, 2:].sum(axis=1)"
   ]
  },
  {
   "cell_type": "code",
   "execution_count": 66,
   "metadata": {},
   "outputs": [
    {
     "data": {
      "text/html": [
       "<div>\n",
       "<style scoped>\n",
       "    .dataframe tbody tr th:only-of-type {\n",
       "        vertical-align: middle;\n",
       "    }\n",
       "\n",
       "    .dataframe tbody tr th {\n",
       "        vertical-align: top;\n",
       "    }\n",
       "\n",
       "    .dataframe thead th {\n",
       "        text-align: right;\n",
       "    }\n",
       "</style>\n",
       "<table border=\"1\" class=\"dataframe\">\n",
       "  <thead>\n",
       "    <tr style=\"text-align: right;\">\n",
       "      <th></th>\n",
       "      <th>iid</th>\n",
       "      <th>wave</th>\n",
       "      <th>attr2_1</th>\n",
       "      <th>sinc2_1</th>\n",
       "      <th>intel2_1</th>\n",
       "      <th>fun2_1</th>\n",
       "      <th>amb2_1</th>\n",
       "      <th>shar2_1</th>\n",
       "      <th>totalsum</th>\n",
       "    </tr>\n",
       "  </thead>\n",
       "  <tbody>\n",
       "    <tr>\n",
       "      <th>4816</th>\n",
       "      <td>320</td>\n",
       "      <td>12</td>\n",
       "      <td>20.0</td>\n",
       "      <td>10.0</td>\n",
       "      <td>10.0</td>\n",
       "      <td>10.0</td>\n",
       "      <td>20.0</td>\n",
       "      <td>10.0</td>\n",
       "      <td>80.0</td>\n",
       "    </tr>\n",
       "  </tbody>\n",
       "</table>\n",
       "</div>"
      ],
      "text/plain": [
       "      iid  wave  attr2_1  sinc2_1  intel2_1  fun2_1  amb2_1  shar2_1  totalsum\n",
       "4816  320    12     20.0     10.0      10.0    10.0    20.0     10.0      80.0"
      ]
     },
     "execution_count": 66,
     "metadata": {},
     "output_type": "execute_result"
    }
   ],
   "source": [
    "idx = ((temp.wave < 6) | (temp.wave > 9)) & (temp.totalsum < 90) & (temp.totalsum != 0)\n",
    "temp.loc[idx, ]"
   ]
  },
  {
   "cell_type": "code",
   "execution_count": 67,
   "metadata": {},
   "outputs": [
    {
     "data": {
      "text/html": [
       "<div>\n",
       "<style scoped>\n",
       "    .dataframe tbody tr th:only-of-type {\n",
       "        vertical-align: middle;\n",
       "    }\n",
       "\n",
       "    .dataframe tbody tr th {\n",
       "        vertical-align: top;\n",
       "    }\n",
       "\n",
       "    .dataframe thead th {\n",
       "        text-align: right;\n",
       "    }\n",
       "</style>\n",
       "<table border=\"1\" class=\"dataframe\">\n",
       "  <thead>\n",
       "    <tr style=\"text-align: right;\">\n",
       "      <th></th>\n",
       "      <th>iid</th>\n",
       "      <th>wave</th>\n",
       "      <th>attr2_1</th>\n",
       "      <th>sinc2_1</th>\n",
       "      <th>intel2_1</th>\n",
       "      <th>fun2_1</th>\n",
       "      <th>amb2_1</th>\n",
       "      <th>shar2_1</th>\n",
       "      <th>totalsum</th>\n",
       "    </tr>\n",
       "  </thead>\n",
       "  <tbody>\n",
       "    <tr>\n",
       "      <th>1846</th>\n",
       "      <td>132</td>\n",
       "      <td>6</td>\n",
       "      <td>22.73</td>\n",
       "      <td>15.91</td>\n",
       "      <td>13.64</td>\n",
       "      <td>15.91</td>\n",
       "      <td>13.64</td>\n",
       "      <td>18.18</td>\n",
       "      <td>100.01</td>\n",
       "    </tr>\n",
       "    <tr>\n",
       "      <th>1851</th>\n",
       "      <td>133</td>\n",
       "      <td>6</td>\n",
       "      <td>24.32</td>\n",
       "      <td>16.22</td>\n",
       "      <td>13.51</td>\n",
       "      <td>16.22</td>\n",
       "      <td>10.81</td>\n",
       "      <td>18.92</td>\n",
       "      <td>100.00</td>\n",
       "    </tr>\n",
       "    <tr>\n",
       "      <th>1856</th>\n",
       "      <td>134</td>\n",
       "      <td>6</td>\n",
       "      <td>20.51</td>\n",
       "      <td>15.38</td>\n",
       "      <td>12.82</td>\n",
       "      <td>20.51</td>\n",
       "      <td>12.82</td>\n",
       "      <td>17.95</td>\n",
       "      <td>99.99</td>\n",
       "    </tr>\n",
       "    <tr>\n",
       "      <th>1861</th>\n",
       "      <td>135</td>\n",
       "      <td>6</td>\n",
       "      <td>18.75</td>\n",
       "      <td>16.67</td>\n",
       "      <td>14.58</td>\n",
       "      <td>18.75</td>\n",
       "      <td>18.75</td>\n",
       "      <td>12.50</td>\n",
       "      <td>100.00</td>\n",
       "    </tr>\n",
       "    <tr>\n",
       "      <th>1871</th>\n",
       "      <td>137</td>\n",
       "      <td>6</td>\n",
       "      <td>14.89</td>\n",
       "      <td>17.02</td>\n",
       "      <td>17.02</td>\n",
       "      <td>17.02</td>\n",
       "      <td>14.89</td>\n",
       "      <td>19.15</td>\n",
       "      <td>99.99</td>\n",
       "    </tr>\n",
       "    <tr>\n",
       "      <th>...</th>\n",
       "      <td>...</td>\n",
       "      <td>...</td>\n",
       "      <td>...</td>\n",
       "      <td>...</td>\n",
       "      <td>...</td>\n",
       "      <td>...</td>\n",
       "      <td>...</td>\n",
       "      <td>...</td>\n",
       "      <td>...</td>\n",
       "    </tr>\n",
       "    <tr>\n",
       "      <th>3308</th>\n",
       "      <td>229</td>\n",
       "      <td>9</td>\n",
       "      <td>15.22</td>\n",
       "      <td>19.57</td>\n",
       "      <td>15.22</td>\n",
       "      <td>17.39</td>\n",
       "      <td>21.74</td>\n",
       "      <td>10.87</td>\n",
       "      <td>100.01</td>\n",
       "    </tr>\n",
       "    <tr>\n",
       "      <th>3328</th>\n",
       "      <td>230</td>\n",
       "      <td>9</td>\n",
       "      <td>16.67</td>\n",
       "      <td>16.67</td>\n",
       "      <td>16.67</td>\n",
       "      <td>16.67</td>\n",
       "      <td>16.67</td>\n",
       "      <td>16.67</td>\n",
       "      <td>100.02</td>\n",
       "    </tr>\n",
       "    <tr>\n",
       "      <th>3348</th>\n",
       "      <td>231</td>\n",
       "      <td>9</td>\n",
       "      <td>18.18</td>\n",
       "      <td>11.36</td>\n",
       "      <td>15.91</td>\n",
       "      <td>18.18</td>\n",
       "      <td>20.45</td>\n",
       "      <td>15.91</td>\n",
       "      <td>99.99</td>\n",
       "    </tr>\n",
       "    <tr>\n",
       "      <th>3368</th>\n",
       "      <td>232</td>\n",
       "      <td>9</td>\n",
       "      <td>19.15</td>\n",
       "      <td>17.02</td>\n",
       "      <td>17.02</td>\n",
       "      <td>17.02</td>\n",
       "      <td>14.89</td>\n",
       "      <td>14.89</td>\n",
       "      <td>99.99</td>\n",
       "    </tr>\n",
       "    <tr>\n",
       "      <th>3388</th>\n",
       "      <td>233</td>\n",
       "      <td>9</td>\n",
       "      <td>14.00</td>\n",
       "      <td>20.00</td>\n",
       "      <td>14.00</td>\n",
       "      <td>18.00</td>\n",
       "      <td>16.00</td>\n",
       "      <td>18.00</td>\n",
       "      <td>100.00</td>\n",
       "    </tr>\n",
       "  </tbody>\n",
       "</table>\n",
       "<p>101 rows × 9 columns</p>\n",
       "</div>"
      ],
      "text/plain": [
       "      iid  wave  attr2_1  sinc2_1  intel2_1  fun2_1  amb2_1  shar2_1  totalsum\n",
       "1846  132     6    22.73    15.91     13.64   15.91   13.64    18.18    100.01\n",
       "1851  133     6    24.32    16.22     13.51   16.22   10.81    18.92    100.00\n",
       "1856  134     6    20.51    15.38     12.82   20.51   12.82    17.95     99.99\n",
       "1861  135     6    18.75    16.67     14.58   18.75   18.75    12.50    100.00\n",
       "1871  137     6    14.89    17.02     17.02   17.02   14.89    19.15     99.99\n",
       "...   ...   ...      ...      ...       ...     ...     ...      ...       ...\n",
       "3308  229     9    15.22    19.57     15.22   17.39   21.74    10.87    100.01\n",
       "3328  230     9    16.67    16.67     16.67   16.67   16.67    16.67    100.02\n",
       "3348  231     9    18.18    11.36     15.91   18.18   20.45    15.91     99.99\n",
       "3368  232     9    19.15    17.02     17.02   17.02   14.89    14.89     99.99\n",
       "3388  233     9    14.00    20.00     14.00   18.00   16.00    18.00    100.00\n",
       "\n",
       "[101 rows x 9 columns]"
      ]
     },
     "execution_count": 67,
     "metadata": {},
     "output_type": "execute_result"
    }
   ],
   "source": [
    "idx = ((temp.wave >= 6) & (temp.wave <= 9))\n",
    "temp.loc[idx, ]"
   ]
  },
  {
   "cell_type": "code",
   "execution_count": 68,
   "metadata": {},
   "outputs": [],
   "source": [
    "df.loc[:, 'temp_totalsum'] = df.loc[:, ['attr2_1', 'sinc2_1', 'intel2_1', 'fun2_1', 'amb2_1', 'shar2_1']].sum(axis=1)"
   ]
  },
  {
   "cell_type": "code",
   "execution_count": 69,
   "metadata": {},
   "outputs": [],
   "source": [
    "df.loc[:, ['attr2_1', 'sinc2_1', 'intel2_1', 'fun2_1', 'amb2_1', 'shar2_1']] = \\\n",
    "(df.loc[:, ['attr2_1', 'sinc2_1', 'intel2_1', 'fun2_1', 'amb2_1', 'shar2_1']].T/df.loc[:, 'temp_totalsum'].T).T * 100"
   ]
  },
  {
   "cell_type": "code",
   "execution_count": 70,
   "metadata": {},
   "outputs": [],
   "source": [
    "df = df.drop(['temp_totalsum'], axis=1)"
   ]
  },
  {
   "cell_type": "code",
   "execution_count": 71,
   "metadata": {},
   "outputs": [],
   "source": [
    "for i in [4, 5]:\n",
    "    feat = ['attr{}_1'.format(i), 'sinc{}_1'.format(i), \n",
    "            'intel{}_1'.format(i), 'fun{}_1'.format(i), \n",
    "            'amb{}_1'.format(i), 'shar{}_1'.format(i)]\n",
    "    \n",
    "    if i != 4:\n",
    "        feat.remove('shar{}_1'.format(i))\n",
    "    \n",
    "    df = df.drop(feat, axis=1)"
   ]
  },
  {
   "cell_type": "code",
   "execution_count": 72,
   "metadata": {},
   "outputs": [],
   "source": [
    "\n",
    "df = df.drop(['wave'], axis=1)"
   ]
  },
  {
   "cell_type": "code",
   "execution_count": 73,
   "metadata": {},
   "outputs": [],
   "source": [
    "df_male = df.query('gender == 1').drop_duplicates(subset=['iid', 'pid'])\\\n",
    "                                 .drop(['gender'], axis=1)\\\n",
    "                                 .dropna()\n",
    "df_female = df.query('gender == 0').drop_duplicates(subset=['iid'])\\\n",
    "                                   .drop(['gender', 'match', 'int_corr', 'samerace'], axis=1)\\\n",
    "                                   .dropna()\n",
    "        \n"
   ]
  },
  {
   "cell_type": "code",
   "execution_count": 74,
   "metadata": {},
   "outputs": [
    {
     "data": {
      "text/html": [
       "<div>\n",
       "<style scoped>\n",
       "    .dataframe tbody tr th:only-of-type {\n",
       "        vertical-align: middle;\n",
       "    }\n",
       "\n",
       "    .dataframe tbody tr th {\n",
       "        vertical-align: top;\n",
       "    }\n",
       "\n",
       "    .dataframe thead th {\n",
       "        text-align: right;\n",
       "    }\n",
       "</style>\n",
       "<table border=\"1\" class=\"dataframe\">\n",
       "  <thead>\n",
       "    <tr style=\"text-align: right;\">\n",
       "      <th></th>\n",
       "      <th>iid</th>\n",
       "      <th>pid</th>\n",
       "      <th>match</th>\n",
       "      <th>int_corr</th>\n",
       "      <th>samerace</th>\n",
       "      <th>age</th>\n",
       "      <th>mn_sat</th>\n",
       "      <th>tuition</th>\n",
       "      <th>race</th>\n",
       "      <th>imprace</th>\n",
       "      <th>...</th>\n",
       "      <th>8</th>\n",
       "      <th>9</th>\n",
       "      <th>10</th>\n",
       "      <th>11</th>\n",
       "      <th>12</th>\n",
       "      <th>13</th>\n",
       "      <th>14</th>\n",
       "      <th>15</th>\n",
       "      <th>16</th>\n",
       "      <th>17</th>\n",
       "    </tr>\n",
       "  </thead>\n",
       "  <tbody>\n",
       "    <tr>\n",
       "      <th>100</th>\n",
       "      <td>11</td>\n",
       "      <td>1.0</td>\n",
       "      <td>0</td>\n",
       "      <td>0.14</td>\n",
       "      <td>0</td>\n",
       "      <td>27.0</td>\n",
       "      <td>1310.0</td>\n",
       "      <td>25000.0</td>\n",
       "      <td>2.0</td>\n",
       "      <td>7.0</td>\n",
       "      <td>...</td>\n",
       "      <td>0.0</td>\n",
       "      <td>0.0</td>\n",
       "      <td>0.0</td>\n",
       "      <td>0.0</td>\n",
       "      <td>0.0</td>\n",
       "      <td>0.0</td>\n",
       "      <td>0.0</td>\n",
       "      <td>0.0</td>\n",
       "      <td>0.0</td>\n",
       "      <td>0.0</td>\n",
       "    </tr>\n",
       "    <tr>\n",
       "      <th>101</th>\n",
       "      <td>11</td>\n",
       "      <td>2.0</td>\n",
       "      <td>0</td>\n",
       "      <td>0.29</td>\n",
       "      <td>1</td>\n",
       "      <td>27.0</td>\n",
       "      <td>1310.0</td>\n",
       "      <td>25000.0</td>\n",
       "      <td>2.0</td>\n",
       "      <td>7.0</td>\n",
       "      <td>...</td>\n",
       "      <td>0.0</td>\n",
       "      <td>0.0</td>\n",
       "      <td>0.0</td>\n",
       "      <td>0.0</td>\n",
       "      <td>0.0</td>\n",
       "      <td>0.0</td>\n",
       "      <td>0.0</td>\n",
       "      <td>0.0</td>\n",
       "      <td>0.0</td>\n",
       "      <td>0.0</td>\n",
       "    </tr>\n",
       "    <tr>\n",
       "      <th>102</th>\n",
       "      <td>11</td>\n",
       "      <td>3.0</td>\n",
       "      <td>0</td>\n",
       "      <td>-0.24</td>\n",
       "      <td>1</td>\n",
       "      <td>27.0</td>\n",
       "      <td>1310.0</td>\n",
       "      <td>25000.0</td>\n",
       "      <td>2.0</td>\n",
       "      <td>7.0</td>\n",
       "      <td>...</td>\n",
       "      <td>0.0</td>\n",
       "      <td>0.0</td>\n",
       "      <td>0.0</td>\n",
       "      <td>0.0</td>\n",
       "      <td>0.0</td>\n",
       "      <td>0.0</td>\n",
       "      <td>0.0</td>\n",
       "      <td>0.0</td>\n",
       "      <td>0.0</td>\n",
       "      <td>0.0</td>\n",
       "    </tr>\n",
       "    <tr>\n",
       "      <th>103</th>\n",
       "      <td>11</td>\n",
       "      <td>4.0</td>\n",
       "      <td>0</td>\n",
       "      <td>-0.18</td>\n",
       "      <td>1</td>\n",
       "      <td>27.0</td>\n",
       "      <td>1310.0</td>\n",
       "      <td>25000.0</td>\n",
       "      <td>2.0</td>\n",
       "      <td>7.0</td>\n",
       "      <td>...</td>\n",
       "      <td>0.0</td>\n",
       "      <td>0.0</td>\n",
       "      <td>0.0</td>\n",
       "      <td>0.0</td>\n",
       "      <td>0.0</td>\n",
       "      <td>0.0</td>\n",
       "      <td>0.0</td>\n",
       "      <td>0.0</td>\n",
       "      <td>0.0</td>\n",
       "      <td>0.0</td>\n",
       "    </tr>\n",
       "    <tr>\n",
       "      <th>104</th>\n",
       "      <td>11</td>\n",
       "      <td>5.0</td>\n",
       "      <td>0</td>\n",
       "      <td>-0.43</td>\n",
       "      <td>1</td>\n",
       "      <td>27.0</td>\n",
       "      <td>1310.0</td>\n",
       "      <td>25000.0</td>\n",
       "      <td>2.0</td>\n",
       "      <td>7.0</td>\n",
       "      <td>...</td>\n",
       "      <td>0.0</td>\n",
       "      <td>0.0</td>\n",
       "      <td>0.0</td>\n",
       "      <td>0.0</td>\n",
       "      <td>0.0</td>\n",
       "      <td>0.0</td>\n",
       "      <td>0.0</td>\n",
       "      <td>0.0</td>\n",
       "      <td>0.0</td>\n",
       "      <td>0.0</td>\n",
       "    </tr>\n",
       "    <tr>\n",
       "      <th>...</th>\n",
       "      <td>...</td>\n",
       "      <td>...</td>\n",
       "      <td>...</td>\n",
       "      <td>...</td>\n",
       "      <td>...</td>\n",
       "      <td>...</td>\n",
       "      <td>...</td>\n",
       "      <td>...</td>\n",
       "      <td>...</td>\n",
       "      <td>...</td>\n",
       "      <td>...</td>\n",
       "      <td>...</td>\n",
       "      <td>...</td>\n",
       "      <td>...</td>\n",
       "      <td>...</td>\n",
       "      <td>...</td>\n",
       "      <td>...</td>\n",
       "      <td>...</td>\n",
       "      <td>...</td>\n",
       "      <td>...</td>\n",
       "      <td>...</td>\n",
       "    </tr>\n",
       "    <tr>\n",
       "      <th>8373</th>\n",
       "      <td>552</td>\n",
       "      <td>526.0</td>\n",
       "      <td>0</td>\n",
       "      <td>0.64</td>\n",
       "      <td>0</td>\n",
       "      <td>25.0</td>\n",
       "      <td>1310.0</td>\n",
       "      <td>25000.0</td>\n",
       "      <td>2.0</td>\n",
       "      <td>1.0</td>\n",
       "      <td>...</td>\n",
       "      <td>0.0</td>\n",
       "      <td>0.0</td>\n",
       "      <td>0.0</td>\n",
       "      <td>0.0</td>\n",
       "      <td>0.0</td>\n",
       "      <td>0.0</td>\n",
       "      <td>1.0</td>\n",
       "      <td>0.0</td>\n",
       "      <td>0.0</td>\n",
       "      <td>0.0</td>\n",
       "    </tr>\n",
       "    <tr>\n",
       "      <th>8374</th>\n",
       "      <td>552</td>\n",
       "      <td>527.0</td>\n",
       "      <td>0</td>\n",
       "      <td>0.71</td>\n",
       "      <td>0</td>\n",
       "      <td>25.0</td>\n",
       "      <td>1310.0</td>\n",
       "      <td>25000.0</td>\n",
       "      <td>2.0</td>\n",
       "      <td>1.0</td>\n",
       "      <td>...</td>\n",
       "      <td>0.0</td>\n",
       "      <td>0.0</td>\n",
       "      <td>0.0</td>\n",
       "      <td>0.0</td>\n",
       "      <td>0.0</td>\n",
       "      <td>0.0</td>\n",
       "      <td>1.0</td>\n",
       "      <td>0.0</td>\n",
       "      <td>0.0</td>\n",
       "      <td>0.0</td>\n",
       "    </tr>\n",
       "    <tr>\n",
       "      <th>8375</th>\n",
       "      <td>552</td>\n",
       "      <td>528.0</td>\n",
       "      <td>0</td>\n",
       "      <td>-0.46</td>\n",
       "      <td>0</td>\n",
       "      <td>25.0</td>\n",
       "      <td>1310.0</td>\n",
       "      <td>25000.0</td>\n",
       "      <td>2.0</td>\n",
       "      <td>1.0</td>\n",
       "      <td>...</td>\n",
       "      <td>0.0</td>\n",
       "      <td>0.0</td>\n",
       "      <td>0.0</td>\n",
       "      <td>0.0</td>\n",
       "      <td>0.0</td>\n",
       "      <td>0.0</td>\n",
       "      <td>1.0</td>\n",
       "      <td>0.0</td>\n",
       "      <td>0.0</td>\n",
       "      <td>0.0</td>\n",
       "    </tr>\n",
       "    <tr>\n",
       "      <th>8376</th>\n",
       "      <td>552</td>\n",
       "      <td>529.0</td>\n",
       "      <td>0</td>\n",
       "      <td>0.62</td>\n",
       "      <td>0</td>\n",
       "      <td>25.0</td>\n",
       "      <td>1310.0</td>\n",
       "      <td>25000.0</td>\n",
       "      <td>2.0</td>\n",
       "      <td>1.0</td>\n",
       "      <td>...</td>\n",
       "      <td>0.0</td>\n",
       "      <td>0.0</td>\n",
       "      <td>0.0</td>\n",
       "      <td>0.0</td>\n",
       "      <td>0.0</td>\n",
       "      <td>0.0</td>\n",
       "      <td>1.0</td>\n",
       "      <td>0.0</td>\n",
       "      <td>0.0</td>\n",
       "      <td>0.0</td>\n",
       "    </tr>\n",
       "    <tr>\n",
       "      <th>8377</th>\n",
       "      <td>552</td>\n",
       "      <td>530.0</td>\n",
       "      <td>0</td>\n",
       "      <td>0.01</td>\n",
       "      <td>0</td>\n",
       "      <td>25.0</td>\n",
       "      <td>1310.0</td>\n",
       "      <td>25000.0</td>\n",
       "      <td>2.0</td>\n",
       "      <td>1.0</td>\n",
       "      <td>...</td>\n",
       "      <td>0.0</td>\n",
       "      <td>0.0</td>\n",
       "      <td>0.0</td>\n",
       "      <td>0.0</td>\n",
       "      <td>0.0</td>\n",
       "      <td>0.0</td>\n",
       "      <td>1.0</td>\n",
       "      <td>0.0</td>\n",
       "      <td>0.0</td>\n",
       "      <td>0.0</td>\n",
       "    </tr>\n",
       "  </tbody>\n",
       "</table>\n",
       "<p>4051 rows × 92 columns</p>\n",
       "</div>"
      ],
      "text/plain": [
       "      iid    pid  match  int_corr  samerace   age  mn_sat  tuition  race  \\\n",
       "100    11    1.0      0      0.14         0  27.0  1310.0  25000.0   2.0   \n",
       "101    11    2.0      0      0.29         1  27.0  1310.0  25000.0   2.0   \n",
       "102    11    3.0      0     -0.24         1  27.0  1310.0  25000.0   2.0   \n",
       "103    11    4.0      0     -0.18         1  27.0  1310.0  25000.0   2.0   \n",
       "104    11    5.0      0     -0.43         1  27.0  1310.0  25000.0   2.0   \n",
       "...   ...    ...    ...       ...       ...   ...     ...      ...   ...   \n",
       "8373  552  526.0      0      0.64         0  25.0  1310.0  25000.0   2.0   \n",
       "8374  552  527.0      0      0.71         0  25.0  1310.0  25000.0   2.0   \n",
       "8375  552  528.0      0     -0.46         0  25.0  1310.0  25000.0   2.0   \n",
       "8376  552  529.0      0      0.62         0  25.0  1310.0  25000.0   2.0   \n",
       "8377  552  530.0      0      0.01         0  25.0  1310.0  25000.0   2.0   \n",
       "\n",
       "      imprace  ...    8    9   10   11   12   13   14   15   16   17  \n",
       "100       7.0  ...  0.0  0.0  0.0  0.0  0.0  0.0  0.0  0.0  0.0  0.0  \n",
       "101       7.0  ...  0.0  0.0  0.0  0.0  0.0  0.0  0.0  0.0  0.0  0.0  \n",
       "102       7.0  ...  0.0  0.0  0.0  0.0  0.0  0.0  0.0  0.0  0.0  0.0  \n",
       "103       7.0  ...  0.0  0.0  0.0  0.0  0.0  0.0  0.0  0.0  0.0  0.0  \n",
       "104       7.0  ...  0.0  0.0  0.0  0.0  0.0  0.0  0.0  0.0  0.0  0.0  \n",
       "...       ...  ...  ...  ...  ...  ...  ...  ...  ...  ...  ...  ...  \n",
       "8373      1.0  ...  0.0  0.0  0.0  0.0  0.0  0.0  1.0  0.0  0.0  0.0  \n",
       "8374      1.0  ...  0.0  0.0  0.0  0.0  0.0  0.0  1.0  0.0  0.0  0.0  \n",
       "8375      1.0  ...  0.0  0.0  0.0  0.0  0.0  0.0  1.0  0.0  0.0  0.0  \n",
       "8376      1.0  ...  0.0  0.0  0.0  0.0  0.0  0.0  1.0  0.0  0.0  0.0  \n",
       "8377      1.0  ...  0.0  0.0  0.0  0.0  0.0  0.0  1.0  0.0  0.0  0.0  \n",
       "\n",
       "[4051 rows x 92 columns]"
      ]
     },
     "execution_count": 74,
     "metadata": {},
     "output_type": "execute_result"
    }
   ],
   "source": [
    "df_male"
   ]
  },
  {
   "cell_type": "code",
   "execution_count": 75,
   "metadata": {},
   "outputs": [],
   "source": [
    "df_female.columns = list(map(lambda x: str(x) + '_f', df_female.columns))"
   ]
  },
  {
   "cell_type": "code",
   "execution_count": 76,
   "metadata": {},
   "outputs": [
    {
     "data": {
      "text/plain": [
       "((4051, 92), (266, 89))"
      ]
     },
     "execution_count": 76,
     "metadata": {},
     "output_type": "execute_result"
    }
   ],
   "source": [
    "df_male.shape, df_female.shape"
   ]
  },
  {
   "cell_type": "code",
   "execution_count": 77,
   "metadata": {},
   "outputs": [
    {
     "data": {
      "text/html": [
       "<div>\n",
       "<style scoped>\n",
       "    .dataframe tbody tr th:only-of-type {\n",
       "        vertical-align: middle;\n",
       "    }\n",
       "\n",
       "    .dataframe tbody tr th {\n",
       "        vertical-align: top;\n",
       "    }\n",
       "\n",
       "    .dataframe thead th {\n",
       "        text-align: right;\n",
       "    }\n",
       "</style>\n",
       "<table border=\"1\" class=\"dataframe\">\n",
       "  <thead>\n",
       "    <tr style=\"text-align: right;\">\n",
       "      <th></th>\n",
       "      <th>iid</th>\n",
       "      <th>pid</th>\n",
       "      <th>match</th>\n",
       "      <th>int_corr</th>\n",
       "      <th>samerace</th>\n",
       "      <th>age</th>\n",
       "      <th>mn_sat</th>\n",
       "      <th>tuition</th>\n",
       "      <th>race</th>\n",
       "      <th>imprace</th>\n",
       "      <th>...</th>\n",
       "      <th>8_f</th>\n",
       "      <th>9_f</th>\n",
       "      <th>10_f</th>\n",
       "      <th>11_f</th>\n",
       "      <th>12_f</th>\n",
       "      <th>13_f</th>\n",
       "      <th>14_f</th>\n",
       "      <th>15_f</th>\n",
       "      <th>16_f</th>\n",
       "      <th>17_f</th>\n",
       "    </tr>\n",
       "  </thead>\n",
       "  <tbody>\n",
       "    <tr>\n",
       "      <th>0</th>\n",
       "      <td>11</td>\n",
       "      <td>1.0</td>\n",
       "      <td>0</td>\n",
       "      <td>0.14</td>\n",
       "      <td>0</td>\n",
       "      <td>27.0</td>\n",
       "      <td>1310.0</td>\n",
       "      <td>25000.0</td>\n",
       "      <td>2.0</td>\n",
       "      <td>7.0</td>\n",
       "      <td>...</td>\n",
       "      <td>0.0</td>\n",
       "      <td>0.0</td>\n",
       "      <td>0.0</td>\n",
       "      <td>0.0</td>\n",
       "      <td>0.0</td>\n",
       "      <td>0.0</td>\n",
       "      <td>0.0</td>\n",
       "      <td>0.0</td>\n",
       "      <td>0.0</td>\n",
       "      <td>1.0</td>\n",
       "    </tr>\n",
       "    <tr>\n",
       "      <th>1</th>\n",
       "      <td>12</td>\n",
       "      <td>1.0</td>\n",
       "      <td>0</td>\n",
       "      <td>0.54</td>\n",
       "      <td>0</td>\n",
       "      <td>22.0</td>\n",
       "      <td>1310.0</td>\n",
       "      <td>25000.0</td>\n",
       "      <td>2.0</td>\n",
       "      <td>1.0</td>\n",
       "      <td>...</td>\n",
       "      <td>0.0</td>\n",
       "      <td>0.0</td>\n",
       "      <td>0.0</td>\n",
       "      <td>0.0</td>\n",
       "      <td>0.0</td>\n",
       "      <td>0.0</td>\n",
       "      <td>0.0</td>\n",
       "      <td>0.0</td>\n",
       "      <td>0.0</td>\n",
       "      <td>1.0</td>\n",
       "    </tr>\n",
       "    <tr>\n",
       "      <th>2</th>\n",
       "      <td>13</td>\n",
       "      <td>1.0</td>\n",
       "      <td>1</td>\n",
       "      <td>0.16</td>\n",
       "      <td>1</td>\n",
       "      <td>22.0</td>\n",
       "      <td>1310.0</td>\n",
       "      <td>25000.0</td>\n",
       "      <td>4.0</td>\n",
       "      <td>3.0</td>\n",
       "      <td>...</td>\n",
       "      <td>0.0</td>\n",
       "      <td>0.0</td>\n",
       "      <td>0.0</td>\n",
       "      <td>0.0</td>\n",
       "      <td>0.0</td>\n",
       "      <td>0.0</td>\n",
       "      <td>0.0</td>\n",
       "      <td>0.0</td>\n",
       "      <td>0.0</td>\n",
       "      <td>1.0</td>\n",
       "    </tr>\n",
       "    <tr>\n",
       "      <th>3</th>\n",
       "      <td>14</td>\n",
       "      <td>1.0</td>\n",
       "      <td>1</td>\n",
       "      <td>0.61</td>\n",
       "      <td>0</td>\n",
       "      <td>23.0</td>\n",
       "      <td>1310.0</td>\n",
       "      <td>25000.0</td>\n",
       "      <td>2.0</td>\n",
       "      <td>1.0</td>\n",
       "      <td>...</td>\n",
       "      <td>0.0</td>\n",
       "      <td>0.0</td>\n",
       "      <td>0.0</td>\n",
       "      <td>0.0</td>\n",
       "      <td>0.0</td>\n",
       "      <td>0.0</td>\n",
       "      <td>0.0</td>\n",
       "      <td>0.0</td>\n",
       "      <td>0.0</td>\n",
       "      <td>1.0</td>\n",
       "    </tr>\n",
       "    <tr>\n",
       "      <th>4</th>\n",
       "      <td>15</td>\n",
       "      <td>1.0</td>\n",
       "      <td>1</td>\n",
       "      <td>0.21</td>\n",
       "      <td>0</td>\n",
       "      <td>24.0</td>\n",
       "      <td>1310.0</td>\n",
       "      <td>25000.0</td>\n",
       "      <td>3.0</td>\n",
       "      <td>3.0</td>\n",
       "      <td>...</td>\n",
       "      <td>0.0</td>\n",
       "      <td>0.0</td>\n",
       "      <td>0.0</td>\n",
       "      <td>0.0</td>\n",
       "      <td>0.0</td>\n",
       "      <td>0.0</td>\n",
       "      <td>0.0</td>\n",
       "      <td>0.0</td>\n",
       "      <td>0.0</td>\n",
       "      <td>1.0</td>\n",
       "    </tr>\n",
       "    <tr>\n",
       "      <th>...</th>\n",
       "      <td>...</td>\n",
       "      <td>...</td>\n",
       "      <td>...</td>\n",
       "      <td>...</td>\n",
       "      <td>...</td>\n",
       "      <td>...</td>\n",
       "      <td>...</td>\n",
       "      <td>...</td>\n",
       "      <td>...</td>\n",
       "      <td>...</td>\n",
       "      <td>...</td>\n",
       "      <td>...</td>\n",
       "      <td>...</td>\n",
       "      <td>...</td>\n",
       "      <td>...</td>\n",
       "      <td>...</td>\n",
       "      <td>...</td>\n",
       "      <td>...</td>\n",
       "      <td>...</td>\n",
       "      <td>...</td>\n",
       "      <td>...</td>\n",
       "    </tr>\n",
       "    <tr>\n",
       "      <th>3994</th>\n",
       "      <td>548</td>\n",
       "      <td>530.0</td>\n",
       "      <td>0</td>\n",
       "      <td>0.23</td>\n",
       "      <td>0</td>\n",
       "      <td>30.0</td>\n",
       "      <td>1310.0</td>\n",
       "      <td>25000.0</td>\n",
       "      <td>2.0</td>\n",
       "      <td>8.0</td>\n",
       "      <td>...</td>\n",
       "      <td>0.0</td>\n",
       "      <td>1.0</td>\n",
       "      <td>0.0</td>\n",
       "      <td>0.0</td>\n",
       "      <td>0.0</td>\n",
       "      <td>0.0</td>\n",
       "      <td>0.0</td>\n",
       "      <td>0.0</td>\n",
       "      <td>0.0</td>\n",
       "      <td>0.0</td>\n",
       "    </tr>\n",
       "    <tr>\n",
       "      <th>3995</th>\n",
       "      <td>549</td>\n",
       "      <td>530.0</td>\n",
       "      <td>0</td>\n",
       "      <td>0.29</td>\n",
       "      <td>0</td>\n",
       "      <td>28.0</td>\n",
       "      <td>1310.0</td>\n",
       "      <td>25000.0</td>\n",
       "      <td>2.0</td>\n",
       "      <td>2.0</td>\n",
       "      <td>...</td>\n",
       "      <td>0.0</td>\n",
       "      <td>1.0</td>\n",
       "      <td>0.0</td>\n",
       "      <td>0.0</td>\n",
       "      <td>0.0</td>\n",
       "      <td>0.0</td>\n",
       "      <td>0.0</td>\n",
       "      <td>0.0</td>\n",
       "      <td>0.0</td>\n",
       "      <td>0.0</td>\n",
       "    </tr>\n",
       "    <tr>\n",
       "      <th>3996</th>\n",
       "      <td>550</td>\n",
       "      <td>530.0</td>\n",
       "      <td>0</td>\n",
       "      <td>-0.20</td>\n",
       "      <td>0</td>\n",
       "      <td>30.0</td>\n",
       "      <td>1310.0</td>\n",
       "      <td>25000.0</td>\n",
       "      <td>2.0</td>\n",
       "      <td>5.0</td>\n",
       "      <td>...</td>\n",
       "      <td>0.0</td>\n",
       "      <td>1.0</td>\n",
       "      <td>0.0</td>\n",
       "      <td>0.0</td>\n",
       "      <td>0.0</td>\n",
       "      <td>0.0</td>\n",
       "      <td>0.0</td>\n",
       "      <td>0.0</td>\n",
       "      <td>0.0</td>\n",
       "      <td>0.0</td>\n",
       "    </tr>\n",
       "    <tr>\n",
       "      <th>3997</th>\n",
       "      <td>551</td>\n",
       "      <td>530.0</td>\n",
       "      <td>0</td>\n",
       "      <td>-0.32</td>\n",
       "      <td>0</td>\n",
       "      <td>27.0</td>\n",
       "      <td>1400.0</td>\n",
       "      <td>26019.0</td>\n",
       "      <td>1.0</td>\n",
       "      <td>2.0</td>\n",
       "      <td>...</td>\n",
       "      <td>0.0</td>\n",
       "      <td>1.0</td>\n",
       "      <td>0.0</td>\n",
       "      <td>0.0</td>\n",
       "      <td>0.0</td>\n",
       "      <td>0.0</td>\n",
       "      <td>0.0</td>\n",
       "      <td>0.0</td>\n",
       "      <td>0.0</td>\n",
       "      <td>0.0</td>\n",
       "    </tr>\n",
       "    <tr>\n",
       "      <th>3998</th>\n",
       "      <td>552</td>\n",
       "      <td>530.0</td>\n",
       "      <td>0</td>\n",
       "      <td>0.01</td>\n",
       "      <td>0</td>\n",
       "      <td>25.0</td>\n",
       "      <td>1310.0</td>\n",
       "      <td>25000.0</td>\n",
       "      <td>2.0</td>\n",
       "      <td>1.0</td>\n",
       "      <td>...</td>\n",
       "      <td>0.0</td>\n",
       "      <td>1.0</td>\n",
       "      <td>0.0</td>\n",
       "      <td>0.0</td>\n",
       "      <td>0.0</td>\n",
       "      <td>0.0</td>\n",
       "      <td>0.0</td>\n",
       "      <td>0.0</td>\n",
       "      <td>0.0</td>\n",
       "      <td>0.0</td>\n",
       "    </tr>\n",
       "  </tbody>\n",
       "</table>\n",
       "<p>3999 rows × 181 columns</p>\n",
       "</div>"
      ],
      "text/plain": [
       "      iid    pid  match  int_corr  samerace   age  mn_sat  tuition  race  \\\n",
       "0      11    1.0      0      0.14         0  27.0  1310.0  25000.0   2.0   \n",
       "1      12    1.0      0      0.54         0  22.0  1310.0  25000.0   2.0   \n",
       "2      13    1.0      1      0.16         1  22.0  1310.0  25000.0   4.0   \n",
       "3      14    1.0      1      0.61         0  23.0  1310.0  25000.0   2.0   \n",
       "4      15    1.0      1      0.21         0  24.0  1310.0  25000.0   3.0   \n",
       "...   ...    ...    ...       ...       ...   ...     ...      ...   ...   \n",
       "3994  548  530.0      0      0.23         0  30.0  1310.0  25000.0   2.0   \n",
       "3995  549  530.0      0      0.29         0  28.0  1310.0  25000.0   2.0   \n",
       "3996  550  530.0      0     -0.20         0  30.0  1310.0  25000.0   2.0   \n",
       "3997  551  530.0      0     -0.32         0  27.0  1400.0  26019.0   1.0   \n",
       "3998  552  530.0      0      0.01         0  25.0  1310.0  25000.0   2.0   \n",
       "\n",
       "      imprace  ...  8_f  9_f  10_f  11_f  12_f  13_f  14_f  15_f  16_f  17_f  \n",
       "0         7.0  ...  0.0  0.0   0.0   0.0   0.0   0.0   0.0   0.0   0.0   1.0  \n",
       "1         1.0  ...  0.0  0.0   0.0   0.0   0.0   0.0   0.0   0.0   0.0   1.0  \n",
       "2         3.0  ...  0.0  0.0   0.0   0.0   0.0   0.0   0.0   0.0   0.0   1.0  \n",
       "3         1.0  ...  0.0  0.0   0.0   0.0   0.0   0.0   0.0   0.0   0.0   1.0  \n",
       "4         3.0  ...  0.0  0.0   0.0   0.0   0.0   0.0   0.0   0.0   0.0   1.0  \n",
       "...       ...  ...  ...  ...   ...   ...   ...   ...   ...   ...   ...   ...  \n",
       "3994      8.0  ...  0.0  1.0   0.0   0.0   0.0   0.0   0.0   0.0   0.0   0.0  \n",
       "3995      2.0  ...  0.0  1.0   0.0   0.0   0.0   0.0   0.0   0.0   0.0   0.0  \n",
       "3996      5.0  ...  0.0  1.0   0.0   0.0   0.0   0.0   0.0   0.0   0.0   0.0  \n",
       "3997      2.0  ...  0.0  1.0   0.0   0.0   0.0   0.0   0.0   0.0   0.0   0.0  \n",
       "3998      1.0  ...  0.0  1.0   0.0   0.0   0.0   0.0   0.0   0.0   0.0   0.0  \n",
       "\n",
       "[3999 rows x 181 columns]"
      ]
     },
     "execution_count": 77,
     "metadata": {},
     "output_type": "execute_result"
    }
   ],
   "source": [
    "data = pd.merge(df_male, df_female, left_on='pid', right_on='iid_f')\n",
    "data"
   ]
  },
  {
   "cell_type": "markdown",
   "metadata": {},
   "source": [
    "Разбейте датасет на трейн и валидацию. Подберите на валидации оптимальный критерий  информативности. \n",
    "Постройте графики зависимости точности на валидации от глубины дерева, от минимального числа объектов для сплита. \n",
    "Какой максимальной точности удалось достигнуть?"
   ]
  },
  {
   "cell_type": "code",
   "execution_count": 78,
   "metadata": {},
   "outputs": [
    {
     "data": {
      "text/plain": [
       "array([0, 0, 1, ..., 0, 0, 0], dtype=int64)"
      ]
     },
     "execution_count": 78,
     "metadata": {},
     "output_type": "execute_result"
    }
   ],
   "source": [
    "y = data[\"match\"].values\n",
    "y"
   ]
  },
  {
   "cell_type": "code",
   "execution_count": 79,
   "metadata": {},
   "outputs": [
    {
     "data": {
      "text/plain": [
       "(3999, 180)"
      ]
     },
     "execution_count": 79,
     "metadata": {},
     "output_type": "execute_result"
    }
   ],
   "source": [
    "X = data.drop([\"match\"], axis = 1).values\n",
    "X.shape"
   ]
  },
  {
   "cell_type": "code",
   "execution_count": 80,
   "metadata": {},
   "outputs": [],
   "source": [
    "X_train, X_test, y_train, y_test = train_test_split(X,y, test_size = 0.3)"
   ]
  },
  {
   "cell_type": "code",
   "execution_count": 82,
   "metadata": {},
   "outputs": [],
   "source": [
    "clf.fit(X_train, y_train)\n",
    "my_clf.fit(X_train, y_train)"
   ]
  },
  {
   "cell_type": "code",
   "execution_count": 83,
   "metadata": {},
   "outputs": [
    {
     "data": {
      "text/plain": [
       "(0.7508333333333334, 0.8066666666666666)"
      ]
     },
     "execution_count": 83,
     "metadata": {},
     "output_type": "execute_result"
    }
   ],
   "source": [
    "accuracy_score(clf.predict(X_test), y_test), accuracy_score(my_clf.predict(X_test), y_test)"
   ]
  },
  {
   "cell_type": "code",
   "execution_count": 84,
   "metadata": {},
   "outputs": [
    {
     "name": "stdout",
     "output_type": "stream",
     "text": [
      "Info_cr =  gini .  Accuracy =  0.8066666666666666\n",
      "Info_cr =  classification_error .  Accuracy =  0.8291666666666667\n",
      "Info_cr =  entropy .  Accuracy =  0.8333333333333334\n"
     ]
    }
   ],
   "source": [
    "info_cr = ['gini', 'classification_error', 'entropy']\n",
    "for x in info_cr:\n",
    "    my_clf = MyDecisionTreeClassifier(criterion = x)\n",
    "    my_clf.fit(X_train, y_train)\n",
    "    print(\"Info_cr = \", x, \".  Accuracy = \", accuracy_score(my_clf.predict(X_test), y_test))\n",
    "    "
   ]
  },
  {
   "cell_type": "code",
   "execution_count": 85,
   "metadata": {},
   "outputs": [],
   "source": [
    "max_depth = [2,3,4,5,6,8,10,12,16]\n",
    "res = []\n",
    "for d in max_depth:\n",
    "    my_clf = MyDecisionTreeClassifier(criterion = 'entropy', max_depth = d)\n",
    "    my_clf.fit(X_train, y_train)  \n",
    "    res.append(accuracy_score(my_clf.predict(X_test), y_test))\n",
    "    \n",
    "        "
   ]
  },
  {
   "cell_type": "code",
   "execution_count": 86,
   "metadata": {},
   "outputs": [
    {
     "data": {
      "image/png": "[encoded data removed]",
      "text/plain": [
       "<Figure size 432x288 with 1 Axes>"
      ]
     },
     "metadata": {
      "needs_background": "light"
     },
     "output_type": "display_data"
    }
   ],
   "source": [
    "fig, ax = plt.subplots()\n",
    "\n",
    "ax.plot(max_depth, res)\n",
    "ax.grid()\n",
    "\n",
    "ax.set_title('Зависимость accuracy score от max_depth ')\n",
    "\n",
    "ax.set_xlabel('максимальная глубина дерева')\n",
    "ax.set_ylabel('accuracy score')\n",
    "\n",
    "plt.show()"
   ]
  },
  {
   "cell_type": "code",
   "execution_count": 98,
   "metadata": {},
   "outputs": [],
   "source": [
    "min_samples = [2,5,8,12,16,32,64,80,128]\n",
    "res = []\n",
    "for d in min_samples:\n",
    "    my_clf = MyDecisionTreeClassifier(criterion = 'entropy', min_samples_split = d, max_depth = 10)\n",
    "    my_clf.fit(X_train, y_train)  \n",
    "    res.append(accuracy_score(my_clf.predict(X_test), y_test))\n",
    "    \n",
    "      "
   ]
  },
  {
   "cell_type": "code",
   "execution_count": 99,
   "metadata": {},
   "outputs": [
    {
     "data": {
      "image/png": "[encoded data removed]",
      "text/plain": [
       "<Figure size 432x288 with 1 Axes>"
      ]
     },
     "metadata": {
      "needs_background": "light"
     },
     "output_type": "display_data"
    }
   ],
   "source": [
    "fig, ax = plt.subplots()\n",
    "\n",
    "ax.plot(min_samples, res)\n",
    "ax.grid()\n",
    "\n",
    "\n",
    "ax.set_title('Зависимость accuracy score от min_samples_split при max_depth = 10')\n",
    "\n",
    "ax.set_xlabel('min_samples_split')\n",
    "ax.set_ylabel('accuracy score')\n",
    "\n",
    "plt.show()"
   ]
  },
  {
   "cell_type": "code",
   "execution_count": 100,
   "metadata": {},
   "outputs": [
    {
     "data": {
      "text/plain": [
       "0.8333333333333334"
      ]
     },
     "execution_count": 100,
     "metadata": {},
     "output_type": "execute_result"
    }
   ],
   "source": [
    "np.max(res)"
   ]
  },
  {
   "cell_type": "code",
   "execution_count": 101,
   "metadata": {},
   "outputs": [],
   "source": [
    "min_samples = [2,5,8,12,16,32,64,80,128]\n",
    "res = []\n",
    "for d in min_samples:\n",
    "    my_clf = MyDecisionTreeClassifier(criterion = 'entropy', min_samples_split = d, max_depth = 2)\n",
    "    my_clf.fit(X_train, y_train)  \n",
    "    res.append(accuracy_score(my_clf.predict(X_test), y_test))\n",
    "    "
   ]
  },
  {
   "cell_type": "code",
   "execution_count": 102,
   "metadata": {},
   "outputs": [
    {
     "data": {
      "image/png": "[encoded data removed]",
      "text/plain": [
       "<Figure size 432x288 with 1 Axes>"
      ]
     },
     "metadata": {
      "needs_background": "light"
     },
     "output_type": "display_data"
    }
   ],
   "source": [
    "fig, ax = plt.subplots()\n",
    "\n",
    "ax.plot(min_samples, res)\n",
    "ax.grid()\n",
    "\n",
    "\n",
    "ax.set_title('Зависимость accuracy score от min_samples_split при max_depth = 2')\n",
    "\n",
    "ax.set_xlabel('min_samples_split')\n",
    "ax.set_ylabel('accuracy score')\n",
    "\n",
    "plt.show()"
   ]
  },
  {
   "cell_type": "code",
   "execution_count": 103,
   "metadata": {},
   "outputs": [
    {
     "data": {
      "text/plain": [
       "0.8333333333333334"
      ]
     },
     "execution_count": 103,
     "metadata": {},
     "output_type": "execute_result"
    }
   ],
   "source": [
    "np.max(res)"
   ]
  },
  {
   "cell_type": "markdown",
   "metadata": {},
   "source": [
    "итак, лучшая модель с энтропийным критерием информативности, max_depth = 2 , min_samples_split, например, 2"
   ]
  },
  {
   "cell_type": "markdown",
   "metadata": {},
   "source": [
    "## Находим самые важные признаки (2 балла)\n",
    "\n"
   ]
  },
  {
   "cell_type": "markdown",
   "metadata": {},
   "source": [
    "По построенному дереву  легко понять, какие признаки лучше всего помогли решить задачу. Часто это бывает нужно  не только  для сокращения размерности в данных, но и для лучшего понимания прикладной задачи. Например, Вы хотите понять, какие признаки стоит еще конструировать -- для этого нужно понимать, какие из текущих лучше всего работают в дереве. "
   ]
  },
  {
   "cell_type": "markdown",
   "metadata": {},
   "source": [
    "Самый простой метод -- посчитать число сплитов, где использовался данные признак. Это не лучший вариант, так как по признаку который принимает всего 2 значения, но который почти точно разделяет выборку, число сплитов будет очень 1, но при этом признак сам очень хороший. \n",
    "В этом задании предлагается для каждого признака считать суммарный gain (в лекции обозначено как Q) при использовании этого признака в сплите. Тогда даже у очень хороших признаков с маленьким число сплитов это значение должно быть довольно высоким.  "
   ]
  },
  {
   "cell_type": "markdown",
   "metadata": {},
   "source": [
    "Реализовать это довольно просто: создаете словарь номер фичи : суммарный гейн и добавляете в нужную фичу каждый раз, когда используете ее при построении дерева. "
   ]
  },
  {
   "cell_type": "markdown",
   "metadata": {},
   "source": [
    "Добавьте функционал, который определяет значения feature importance. Обучите дерево на датасете Speed Dating Data.\n",
    "Выведите 10 главных фичей по важности."
   ]
  },
  {
   "cell_type": "markdown",
   "metadata": {},
   "source": [
    "# Тут специально беру max_depth побольше, так как при маленьком ненулевой гейн только у нескольких фичей , а по заданию надо 10"
   ]
  },
  {
   "cell_type": "code",
   "execution_count": 104,
   "metadata": {},
   "outputs": [
    {
     "data": {
      "text/plain": [
       "0.7883333333333333"
      ]
     },
     "execution_count": 104,
     "metadata": {},
     "output_type": "execute_result"
    }
   ],
   "source": [
    "my_clf = MyDecisionTreeClassifier(criterion = 'entropy', min_samples_split = 2, max_depth = 16)\n",
    "my_clf.fit(X_train, y_train)\n",
    "accuracy_score(my_clf.predict(X_test), y_test)\n"
   ]
  },
  {
   "cell_type": "code",
   "execution_count": 105,
   "metadata": {},
   "outputs": [
    {
     "data": {
      "text/plain": [
       "{0: 1.6247420075998775e-14,\n",
       " 1: 1.5671491881974475e-14,\n",
       " 2: 8.496675585334401e-15,\n",
       " 3: 0,\n",
       " 4: 6.938893903907228e-17,\n",
       " 5: 0,\n",
       " 6: 0,\n",
       " 7: 0,\n",
       " 8: 0,\n",
       " 9: 0,\n",
       " 10: 0,\n",
       " 11: 1.3877787807814457e-17,\n",
       " 12: 1.1102230246251565e-16,\n",
       " 13: 5.551115123125783e-17,\n",
       " 14: 2.7755575615628914e-17,\n",
       " 15: 0,\n",
       " 16: 0,\n",
       " 17: 0,\n",
       " 18: 0,\n",
       " 19: 0,\n",
       " 20: 0,\n",
       " 21: 5.551115123125783e-17,\n",
       " 22: 0,\n",
       " 23: 0,\n",
       " 24: 0,\n",
       " 25: 0,\n",
       " 26: 0,\n",
       " 27: 0,\n",
       " 28: 0,\n",
       " 29: 0,\n",
       " 30: 0,\n",
       " 31: 0,\n",
       " 32: 0,\n",
       " 33: 0,\n",
       " 34: 0,\n",
       " 35: 0,\n",
       " 36: 0,\n",
       " 37: 0,\n",
       " 38: 0,\n",
       " 39: 0,\n",
       " 40: 0,\n",
       " 41: 0,\n",
       " 42: 0,\n",
       " 43: 0,\n",
       " 44: 0,\n",
       " 45: 0,\n",
       " 46: 0,\n",
       " 47: 0,\n",
       " 48: 0,\n",
       " 49: 0,\n",
       " 50: 0,\n",
       " 51: 0,\n",
       " 52: 0,\n",
       " 53: 0,\n",
       " 54: 0,\n",
       " 55: 0,\n",
       " 56: 0,\n",
       " 57: 0,\n",
       " 58: 0,\n",
       " 59: 0,\n",
       " 60: 0,\n",
       " 61: 0,\n",
       " 62: 0,\n",
       " 63: 0,\n",
       " 64: 0,\n",
       " 65: 0,\n",
       " 66: 0,\n",
       " 67: 0,\n",
       " 68: 5.551115123125783e-17,\n",
       " 69: 0,\n",
       " 70: 0,\n",
       " 71: 0,\n",
       " 72: 0,\n",
       " 73: 0,\n",
       " 74: 0,\n",
       " 75: 0,\n",
       " 76: 0,\n",
       " 77: 0,\n",
       " 78: 0,\n",
       " 79: 0,\n",
       " 80: 0,\n",
       " 81: 0,\n",
       " 82: 0,\n",
       " 83: 0,\n",
       " 84: 0,\n",
       " 85: 0,\n",
       " 86: 0,\n",
       " 87: 0,\n",
       " 88: 0,\n",
       " 89: 0,\n",
       " 90: 0,\n",
       " 91: 0,\n",
       " 92: 0,\n",
       " 93: 1.942890293094024e-16,\n",
       " 94: 5.551115123125783e-17,\n",
       " 95: 0,\n",
       " 96: 0,\n",
       " 97: 0,\n",
       " 98: 8.326672684688674e-17,\n",
       " 99: 1.1102230246251565e-16,\n",
       " 100: 0,\n",
       " 101: 0,\n",
       " 102: 0,\n",
       " 103: 0,\n",
       " 104: 5.551115123125783e-17,\n",
       " 105: 0,\n",
       " 106: 0,\n",
       " 107: 0,\n",
       " 108: 0,\n",
       " 109: 0,\n",
       " 110: 0,\n",
       " 111: 0,\n",
       " 112: 0,\n",
       " 113: 0,\n",
       " 114: 0,\n",
       " 115: 0,\n",
       " 116: 0,\n",
       " 117: 0,\n",
       " 118: 0,\n",
       " 119: 0,\n",
       " 120: 0,\n",
       " 121: 0,\n",
       " 122: 0,\n",
       " 123: 0,\n",
       " 124: 0,\n",
       " 125: 0,\n",
       " 126: 0,\n",
       " 127: 0,\n",
       " 128: 0,\n",
       " 129: 0,\n",
       " 130: 0,\n",
       " 131: 0,\n",
       " 132: 0,\n",
       " 133: 0,\n",
       " 134: 0,\n",
       " 135: 0,\n",
       " 136: 0,\n",
       " 137: 0,\n",
       " 138: 0,\n",
       " 139: 0,\n",
       " 140: 0,\n",
       " 141: 0,\n",
       " 142: 0,\n",
       " 143: 0,\n",
       " 144: 0,\n",
       " 145: 0,\n",
       " 146: 0,\n",
       " 147: 0,\n",
       " 148: 0,\n",
       " 149: 0,\n",
       " 150: 0,\n",
       " 151: 0,\n",
       " 152: 0,\n",
       " 153: 0,\n",
       " 154: 0,\n",
       " 155: 0,\n",
       " 156: 0,\n",
       " 157: 0,\n",
       " 158: 0,\n",
       " 159: 0,\n",
       " 160: 0,\n",
       " 161: 0,\n",
       " 162: 0,\n",
       " 163: 0,\n",
       " 164: 0,\n",
       " 165: 0,\n",
       " 166: 0,\n",
       " 167: 0,\n",
       " 168: 0,\n",
       " 169: 0,\n",
       " 170: 0,\n",
       " 171: 0,\n",
       " 172: 0,\n",
       " 173: 0,\n",
       " 174: 0,\n",
       " 175: 0,\n",
       " 176: 0,\n",
       " 177: 0,\n",
       " 178: 0,\n",
       " 179: 0}"
      ]
     },
     "execution_count": 105,
     "metadata": {},
     "output_type": "execute_result"
    }
   ],
   "source": [
    "d = my_clf.get_feature_importance()\n",
    "d"
   ]
  },
  {
   "cell_type": "code",
   "execution_count": 106,
   "metadata": {},
   "outputs": [
    {
     "data": {
      "text/plain": [
       "[0, 1, 2, 93, 12, 99, 98, 4, 13, 21]"
      ]
     },
     "execution_count": 106,
     "metadata": {},
     "output_type": "execute_result"
    }
   ],
   "source": [
    "res = list(map(lambda x: x[0], sorted(d.items(), reverse=True, key=lambda element: element[1])))[:10:]\n",
    "res"
   ]
  },
  {
   "cell_type": "code",
   "execution_count": 107,
   "metadata": {},
   "outputs": [
    {
     "data": {
      "text/plain": [
       "Index(['iid', 'pid', 'int_corr', 'age_f', 'attr1_1', 'income_f', 'imprelig_f',\n",
       "       'age', 'sinc1_1', 'fun2_1'],\n",
       "      dtype='object')"
      ]
     },
     "execution_count": 107,
     "metadata": {},
     "output_type": "execute_result"
    }
   ],
   "source": [
    "l = data.drop([\"match\"], axis = 1)\n",
    "l.columns[res]"
   ]
  },
  {
   "cell_type": "markdown",
   "metadata": {},
   "source": [
    "## Фидбек (бесценно)"
   ]
  },
  {
   "cell_type": "markdown",
   "metadata": {},
   "source": [
    "* Какие аспекты обучения деревьев решений Вам показались непонятными? Какое место стоит дополнительно объяснить?"
   ]
  },
  {
   "cell_type": "markdown",
   "metadata": {},
   "source": [
    "# Понятно все, кроме того, как ускорить дерево ((((("
   ]
  },
  {
   "cell_type": "code",
   "execution_count": null,
   "metadata": {
    "collapsed": true
   },
   "outputs": [],
   "source": []
  }
 ],
 "metadata": {
  "anaconda-cloud": {},
  "kernelspec": {
   "display_name": "Python 3",
   "language": "python",
   "name": "python3"
  },
  "language_info": {
   "codemirror_mode": {
    "name": "ipython",
    "version": 3
   },
   "file_extension": ".py",
   "mimetype": "text/x-python",
   "name": "python",
   "nbconvert_exporter": "python",
   "pygments_lexer": "ipython3",
   "version": "3.8.6"
  }
 },
 "nbformat": 4,
 "nbformat_minor": 2
}
