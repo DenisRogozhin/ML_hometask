{
 "cells": [
  {
   "cell_type": "markdown",
   "metadata": {},
   "source": [
    "### Алгоритмы интеллектуальной обработки больших объемов данных\n",
    "## Домашнее задание №4 - Градиентный бустинг\n"
   ]
  },
  {
   "cell_type": "markdown",
   "metadata": {},
   "source": [
    "**Общая информация**\n",
    "\n",
    "**Срок сдачи:** 10 мая 2021, 08:30   \n",
    "**Штраф за опоздание:** -2 балла после 08:30 10 мая, -4 балла после 08:30 17 мая, -6 баллов после 08:30 24 мая, -8 баллов после 08:30 31 мая.\n",
    "\n",
    "При отправлении ДЗ указывайте фамилию в названии файла Присылать ДЗ необходимо в виде ссылки на свой github репозиторий на почту ml1.sphere@mail.ru с указанием темы в следующем формате:\n",
    "[ML0221, Задание 4] Фамилия Имя. \n",
    "\n",
    "\n",
    "Используйте данный Ipython Notebook при оформлении домашнего задания."
   ]
  },
  {
   "cell_type": "markdown",
   "metadata": {},
   "source": [
    "##  Считаем производные для функций потерь (1 балл)"
   ]
  },
  {
   "cell_type": "markdown",
   "metadata": {},
   "source": [
    "Мы будем реализовать градиентный бустинг для 3 функций потерь:\n",
    "\n",
    "1) MSE  $L(a(x_i), y_i) = (y_i - a(x_i)) ^ 2$\n",
    "\n",
    "2) Экспоненциальная  $L(a(x_i), y_i) = exp( -a(x_i) y_i), y_i \\in \\{-1, 1\\}$\n",
    "\n",
    "3) Логистическая  $L(a(x_i), y_i) = \\log (1 + exp( -a(x_i) y_i)), y_i \\in \\{-1, 1\\}$\n",
    "\n",
    "где $a(x_i)$ предсказание бустинга на итом объекте. \n",
    "\n",
    "Для каждой функции потерь напишите таргет, на который будет настраиваться каждое дерево в бустинге. "
   ]
  },
  {
   "cell_type": "markdown",
   "metadata": {},
   "source": [
    "1) MSE  $-\\frac{dL}{dF}(x_i,F_{k-1}(x_i)) =  2 * (y_i - F_{k-1}(x_i)) $\n",
    "\n",
    "2) Экспоненциальная  $-\\frac{dL}{dF}(x_i,F_{k-1}(x_i))  = y_i * exp( -F_{k-1}(x_i) y_i), y_i \\in \\{-1, 1\\}$\n",
    "\n",
    "3) Логистическая  $-\\frac{dL}{dF}(x_i,F_{k-1}(x_i))  = \\frac{y_i * exp( -F_{k-1}(x_i) y_i)}{1 + exp( -F_{k-1}(x_i) y_i) }, y_i \\in \\{-1, 1\\}$\n"
   ]
  },
  {
   "cell_type": "markdown",
   "metadata": {},
   "source": [
    "##  Реализуем градиентный бустинг (3 балла)"
   ]
  },
  {
   "cell_type": "markdown",
   "metadata": {},
   "source": [
    "Реализуйте класс градиентного бустинга для классификации. Ваша реализация бустинга должна работать по точности не более чем на 5 процентов хуже чем GradientBoostingClassifier из sklearn. \n"
   ]
  },
  {
   "cell_type": "markdown",
   "metadata": {},
   "source": [
    "Детали реализации:\n",
    "\n",
    "-- должно поддерживаться 3 функции потерь\n",
    "\n",
    "-- сами базовые алгоритмы(деревья, линейные модели и тп) реализовать не надо, просто возьмите готовые из sklearn\n",
    "\n",
    "-- в качестве функции потерь для построения одного дерева используйте MSE\n",
    "\n",
    "-- шаг в бустинге можно не подбирать, можно брать константный\n",
    "\n",
    "-- можно брать разные модели в качестве инициализации бустинга\n",
    "\n",
    "-- должны поддерживаться следующие параметры:\n",
    "\n",
    "а) число итераций\n",
    "б) размер шага\n",
    "в) процент случайных фичей при построении одного дерева\n",
    "д) процент случайных объектов при построении одного дерева\n",
    "е) параметры базового алгоритма (передавайте через **kwargs)"
   ]
  },
  {
   "cell_type": "code",
   "execution_count": 1,
   "metadata": {},
   "outputs": [],
   "source": [
    "import numpy as np\n",
    "import matplotlib.pyplot as plt\n",
    "\n",
    "from sklearn.datasets import load_wine\n",
    "from sklearn.ensemble import GradientBoostingClassifier\n",
    "from sklearn.metrics import accuracy_score\n",
    "from sklearn.model_selection import train_test_split\n",
    "from sklearn.tree import DecisionTreeRegressor"
   ]
  },
  {
   "cell_type": "code",
   "execution_count": 70,
   "metadata": {},
   "outputs": [],
   "source": [
    "class MyGradientBoostingClassifier:\n",
    "\n",
    "    def __init__(self, loss_='MSE', learning_rate_=0.1, n_estimators_=100, colsample_=1, subsample_=1, *args, **kwargs):\n",
    "        \"\"\"\n",
    "        loss -- один из 3 лоссов:\n",
    "        learning_rate -- шаг бустинга\n",
    "        n_estimators -- число итераций\n",
    "        colsample -- процент рандомных признаков при обучнеии одного алгоритма\n",
    "        colsample -- процент рандомных объектов при обучнеии одного алгоритма\n",
    "        args, kwargs -- параметры  базовых моделей\n",
    "        \"\"\"\n",
    "        self.loss = loss_\n",
    "        self.learning_rate = learning_rate_\n",
    "        self.n_estimators = n_estimators_\n",
    "        self.colsample = colsample_\n",
    "        self.subsample = subsample_\n",
    "        self.kwargs = kwargs\n",
    "        self.args = args\n",
    "    \n",
    "    def get_params(self, deep = True):\n",
    "         return {\n",
    "            'loss_' : self.loss, \n",
    "            'learning_rate_' : self.learning_rate, \n",
    "            'n_estimators_' : self.n_estimators,\n",
    "            'colsample_' : self.colsample, \n",
    "            'subsample_' : self.subsample\n",
    "        }\n",
    "    \n",
    "    def set_params(self, **kwargs):\n",
    "        for parameter, value in kwargs.items():\n",
    "            setattr(self, parameter, value)\n",
    "        return self\n",
    "    \n",
    "    def grad(self, X, y):\n",
    "        if self.loss == 'MSE':\n",
    "            grad = 2 * (y - self.predict(X))\n",
    "        elif self.loss == 'EXP':\n",
    "            grad = y * np.exp(- self.predict(X) * y)\n",
    "        else:\n",
    "            exp =  np.exp(- self.predict(X) * y )\n",
    "            grad = y * exp / (1 + exp)\n",
    "        return grad\n",
    "    \n",
    "    def fit(self, X, y, base_model=DecisionTreeRegressor, init_model=None):\n",
    "        \"\"\"\n",
    "        X -- объекты для обучения:\n",
    "        y -- таргеты для обучения\n",
    "        base_model -- класс базовых моделей, например sklearn.tree.DecisionTreeRegressor\n",
    "        init_model -- класс для первой модели, если None то берем константу (только для посл задания)\n",
    "        \"\"\"\n",
    "        self.models = []\n",
    "        self.init_model = None\n",
    "        feature_amount = min(X.shape[1], int(X.shape[1] *  self.colsample  + 1))\n",
    "        objects_amount = min(X.shape[0], int(X.shape[0] *  self.subsample + 1))\n",
    "        if init_model is not None:\n",
    "            self.init_model = init_model()\n",
    "            self.init_model.fit(X, y)\n",
    "        for i in range(1, self.n_estimators + 1):\n",
    "            f_k = base_model(*self.args, **self.kwargs)\n",
    "            features_choosen = np.random.choice(np.arange(X.shape[1]), feature_amount, False)\n",
    "            objects_choosen = np.random.choice(np.arange(X.shape[0]), objects_amount, False)\n",
    "            X_choosen = X[np.ix_(objects_choosen, features_choosen)]\n",
    "            y_choosen = y[objects_choosen]\n",
    "            f_k.fit(X_choosen, self.grad(X[objects_choosen], y_choosen))\n",
    "            #f_k.fit(X, self.grad(X, y))\n",
    "            self.models.append((f_k,features_choosen))\n",
    "            \n",
    "        \n",
    "    def predict(self, X):\n",
    "        if self.init_model == None:\n",
    "            res = np.zeros(X.shape[0])\n",
    "        else:\n",
    "            res = self.init_model.predict(X)\n",
    "        for model in self.models:\n",
    "            X_choosen = X[:, model[1]]\n",
    "            #X_choosen = X\n",
    "            res += self.learning_rate * model[0].predict(X_choosen)\n",
    "        return np.rint(res).astype(int)\n",
    "\n"
   ]
  },
  {
   "cell_type": "code",
   "execution_count": 3,
   "metadata": {},
   "outputs": [],
   "source": [
    "my_clf = MyGradientBoostingClassifier()\n",
    "clf = GradientBoostingClassifier()"
   ]
  },
  {
   "cell_type": "code",
   "execution_count": 4,
   "metadata": {},
   "outputs": [],
   "source": [
    "wine = load_wine()\n",
    "X_train, X_test, y_train, y_test = train_test_split(wine.data, wine.target, test_size=0.1, stratify=wine.target)"
   ]
  },
  {
   "cell_type": "code",
   "execution_count": 5,
   "metadata": {},
   "outputs": [
    {
     "name": "stdout",
     "output_type": "stream",
     "text": [
      "1.0\n",
      "1.0\n"
     ]
    }
   ],
   "source": [
    "my_clf.fit(X_train, y_train)\n",
    "clf.fit(X_train, y_train)\n",
    "print(accuracy_score(y_pred=clf.predict(X_test), y_true=y_test))\n",
    "print(accuracy_score(y_pred=my_clf.predict(X_test), y_true=y_test))"
   ]
  },
  {
   "cell_type": "markdown",
   "metadata": {},
   "source": [
    "## Подбираем параметры (2 балла)\n",
    "\n",
    "Давайте попробуем применить Ваш бустинг для предсказаний цены домов в Калифорнии. Чтобы можно было попробовтаь разные функции потерь, переведем по порогу таргет в 2 класса: дорогие и дешевые дома."
   ]
  },
  {
   "cell_type": "markdown",
   "metadata": {},
   "source": [
    "В задании нужно\n",
    "\n",
    "1) Построить график точности в зависимости от числа итераций на валидации.\n",
    "\n",
    "2) Подобрать оптимальные параметры Вашего бустинга на валидации. \n"
   ]
  },
  {
   "cell_type": "code",
   "execution_count": 6,
   "metadata": {},
   "outputs": [],
   "source": [
    "from sklearn.datasets import fetch_california_housing\n",
    "X, y = fetch_california_housing(return_X_y=True)"
   ]
  },
  {
   "cell_type": "code",
   "execution_count": 7,
   "metadata": {},
   "outputs": [
    {
     "name": "stdout",
     "output_type": "stream",
     "text": [
      "(20640, 8) (20640,)\n"
     ]
    }
   ],
   "source": [
    "# Превращаем регрессию в классификацию\n",
    "y = (y > 2.0).astype(int)\n",
    "print(X.shape, y.shape)"
   ]
  },
  {
   "cell_type": "code",
   "execution_count": 33,
   "metadata": {},
   "outputs": [],
   "source": [
    "X_train, X_test, y_train, y_test = train_test_split(X, y, test_size = 0.2)"
   ]
  },
  {
   "cell_type": "code",
   "execution_count": 34,
   "metadata": {},
   "outputs": [
    {
     "data": {
      "image/png": "[encoded data removed]",
      "text/plain": [
       "<Figure size 432x288 with 1 Axes>"
      ]
     },
     "metadata": {
      "needs_background": "light"
     },
     "output_type": "display_data"
    }
   ],
   "source": [
    "n_estimators = [50, 60, 70, 80, 90, 100, 120, 150, 200, 250, 300, 350, 400]\n",
    "res = []\n",
    "\n",
    "for n in n_estimators:\n",
    "    my_clf = MyGradientBoostingClassifier(n_estimators_ = n)\n",
    "    my_clf.fit(X_train, y_train)\n",
    "    y_pred = my_clf.predict(X_test)\n",
    "    res.append(accuracy_score(y_pred, y_test))\n",
    "    \n",
    "fig, ax = plt.subplots()\n",
    "\n",
    "ax.plot(n_estimators, res)\n",
    "ax.grid()\n",
    "\n",
    "ax.set_title('Зависимость accuracy score от n_estimators ')\n",
    "\n",
    "ax.set_xlabel('n_estimators')\n",
    "ax.set_ylabel('accuracy score')\n",
    "\n",
    "plt.show()    "
   ]
  },
  {
   "cell_type": "markdown",
   "metadata": {},
   "source": [
    "## Подбираю параметры"
   ]
  },
  {
   "cell_type": "code",
   "execution_count": 35,
   "metadata": {},
   "outputs": [
    {
     "data": {
      "text/plain": [
       "Text(0.5, 0, 'loss')"
      ]
     },
     "execution_count": 35,
     "metadata": {},
     "output_type": "execute_result"
    },
    {
     "data": {
      "image/png": "[encoded data removed]",
      "text/plain": [
       "<Figure size 1080x504 with 1 Axes>"
      ]
     },
     "metadata": {
      "needs_background": "light"
     },
     "output_type": "display_data"
    }
   ],
   "source": [
    "loss = ['MSE', 'EXP', 'LOG']\n",
    "res = []\n",
    "\n",
    "for l in loss:\n",
    "    my_clf = MyGradientBoostingClassifier(n_estimators_ = 100, loss_ = l)\n",
    "    my_clf.fit(X_train, y_train)\n",
    "    y_pred = my_clf.predict(X_test)\n",
    "    res.append(accuracy_score(y_pred, y_test))\n",
    "    \n",
    "fig, ax = plt.subplots(figsize=(15, 7))\n",
    "ax.set_title('Зависимость accuracy score от loss ')\n",
    "ax.bar(loss, res)\n",
    "ax.set_ylabel('accuracy score')\n",
    "ax.set_xlabel('loss')  "
   ]
  },
  {
   "cell_type": "code",
   "execution_count": 36,
   "metadata": {},
   "outputs": [
    {
     "data": {
      "image/png": "[encoded data removed]",
      "text/plain": [
       "<Figure size 432x288 with 1 Axes>"
      ]
     },
     "metadata": {
      "needs_background": "light"
     },
     "output_type": "display_data"
    }
   ],
   "source": [
    "lr = [0.01, 0.03, 0.05, 0.08, 0.1,0.3, 0.5, 0.8, 1.0]\n",
    "res = []\n",
    "\n",
    "for l in lr:\n",
    "    my_clf = MyGradientBoostingClassifier(n_estimators_ = 120, loss_ = 'MSE', learning_rate_ = l)\n",
    "    my_clf.fit(X_train, y_train)\n",
    "    y_pred = my_clf.predict(X_test)\n",
    "    res.append(accuracy_score(y_pred, y_test))\n",
    "    \n",
    "fig, ax = plt.subplots()\n",
    "\n",
    "ax.plot(lr, res)\n",
    "ax.grid()\n",
    "\n",
    "ax.set_title('Зависимость accuracy score от learning_rate ')\n",
    "\n",
    "ax.set_xlabel('learning_rate')\n",
    "ax.set_ylabel('accuracy score')\n",
    "\n",
    "plt.show()    \n"
   ]
  },
  {
   "cell_type": "code",
   "execution_count": 37,
   "metadata": {},
   "outputs": [
    {
     "data": {
      "text/plain": [
       "0.05"
      ]
     },
     "execution_count": 37,
     "metadata": {},
     "output_type": "execute_result"
    }
   ],
   "source": [
    "lr[np.argmax(res)]"
   ]
  },
  {
   "cell_type": "code",
   "execution_count": 38,
   "metadata": {},
   "outputs": [
    {
     "data": {
      "image/png": "[encoded data removed]",
      "text/plain": [
       "<Figure size 432x288 with 1 Axes>"
      ]
     },
     "metadata": {
      "needs_background": "light"
     },
     "output_type": "display_data"
    }
   ],
   "source": [
    "cs = [0.1, 0.2, 0.3,0.4, 0.5, 0.6, 0.7,0.8, 0.9, 1.0]\n",
    "res = []\n",
    "\n",
    "for c in cs:\n",
    "    my_clf = MyGradientBoostingClassifier(n_estimators_ = 100, loss_ = 'MSE', learning_rate_ = 0.05, colsample_ = c)\n",
    "    my_clf.fit(X_train, y_train)\n",
    "    y_pred = my_clf.predict(X_test)\n",
    "    res.append(accuracy_score(y_pred, y_test))\n",
    "    \n",
    "fig, ax = plt.subplots()\n",
    "\n",
    "ax.plot(cs, res)\n",
    "ax.grid()\n",
    "\n",
    "ax.set_title('Зависимость accuracy score от colsample ')\n",
    "\n",
    "ax.set_xlabel('colsample')\n",
    "ax.set_ylabel('accuracy score')\n",
    "\n",
    "plt.show()    \n"
   ]
  },
  {
   "cell_type": "code",
   "execution_count": 39,
   "metadata": {},
   "outputs": [
    {
     "data": {
      "text/plain": [
       "1.0"
      ]
     },
     "execution_count": 39,
     "metadata": {},
     "output_type": "execute_result"
    }
   ],
   "source": [
    "cs[np.argmax(res)]"
   ]
  },
  {
   "cell_type": "code",
   "execution_count": 41,
   "metadata": {},
   "outputs": [
    {
     "data": {
      "image/png": "[encoded data removed]",
      "text/plain": [
       "<Figure size 432x288 with 1 Axes>"
      ]
     },
     "metadata": {
      "needs_background": "light"
     },
     "output_type": "display_data"
    }
   ],
   "source": [
    "ss = [0.1, 0.2, 0.3,0.4, 0.5, 0.6, 0.7,0.8, 0.9, 1.0]\n",
    "res = []\n",
    "\n",
    "for s in ss:\n",
    "    my_clf = MyGradientBoostingClassifier(n_estimators_ = 100, loss_ = 'MSE', learning_rate_ = 0.05, colsample_ = 1.0, subsample_ = s)\n",
    "    my_clf.fit(X_train, y_train)\n",
    "    y_pred = my_clf.predict(X_test)\n",
    "    res.append(accuracy_score(y_pred, y_test))\n",
    "    \n",
    "fig, ax = plt.subplots()\n",
    "\n",
    "ax.plot(ss, res)\n",
    "ax.grid()\n",
    "\n",
    "ax.set_title('Зависимость accuracy score от subsample ')\n",
    "\n",
    "ax.set_xlabel('subsample')\n",
    "ax.set_ylabel('accuracy score')\n",
    "\n",
    "plt.show()    "
   ]
  },
  {
   "cell_type": "code",
   "execution_count": 47,
   "metadata": {},
   "outputs": [
    {
     "data": {
      "text/plain": [
       "0.8406007751937985"
      ]
     },
     "execution_count": 47,
     "metadata": {},
     "output_type": "execute_result"
    }
   ],
   "source": [
    "my_clf = MyGradientBoostingClassifier(n_estimators_ = 100, loss_ = 'MSE', learning_rate_ = 0.05, colsample_ = 1.0, subsample_ = 1.0)\n",
    "my_clf.fit(X_train, y_train)\n",
    "y_pred = my_clf.predict(X_test)\n",
    "accuracy_score(y_pred, y_test)"
   ]
  },
  {
   "cell_type": "code",
   "execution_count": 49,
   "metadata": {},
   "outputs": [
    {
     "data": {
      "image/png": "[encoded data removed]",
      "text/plain": [
       "<Figure size 432x288 with 1 Axes>"
      ]
     },
     "metadata": {
      "needs_background": "light"
     },
     "output_type": "display_data"
    }
   ],
   "source": [
    "lr = [0.001, 0.005, 0.008, 0.01, 0.02, 0.03, 0.04, 0.05]\n",
    "res = []\n",
    "\n",
    "for l in lr:\n",
    "    my_clf = MyGradientBoostingClassifier(n_estimators_ = 250, loss_ = 'MSE', learning_rate_ = l,  colsample_ = 1.0, subsample_ = 1.0)\n",
    "    my_clf.fit(X_train, y_train)\n",
    "    y_pred = my_clf.predict(X_test)\n",
    "    res.append(accuracy_score(y_pred, y_test))\n",
    "    \n",
    "fig, ax = plt.subplots()\n",
    "\n",
    "ax.plot(lr, res)\n",
    "ax.grid()\n",
    "\n",
    "ax.set_title('Зависимость accuracy score от learning_rate ')\n",
    "\n",
    "ax.set_xlabel('learning_rate')\n",
    "ax.set_ylabel('accuracy score')\n",
    "\n",
    "plt.show()    "
   ]
  },
  {
   "cell_type": "code",
   "execution_count": 52,
   "metadata": {},
   "outputs": [
    {
     "data": {
      "text/plain": [
       "0.8410852713178295"
      ]
     },
     "execution_count": 52,
     "metadata": {},
     "output_type": "execute_result"
    }
   ],
   "source": [
    "my_clf = MyGradientBoostingClassifier(n_estimators_ = 250, loss_ = 'MSE', learning_rate_ = 0.02,  colsample_ = 1.0, subsample_ = 1.0)\n",
    "my_clf.fit(X_train, y_train)\n",
    "y_pred = my_clf.predict(X_test)\n",
    "accuracy_score(y_pred, y_test)"
   ]
  },
  {
   "cell_type": "markdown",
   "metadata": {},
   "source": [
    "## BooBag BagBoo (1 балл)\n",
    "\n"
   ]
  },
  {
   "cell_type": "markdown",
   "metadata": {},
   "source": [
    "Попробуем объединить бустинг и бэгинг. Давайте\n",
    "\n",
    "1) в качестве базовой модели брать не дерево решений, а случайный лес (из sklearn)\n",
    "\n",
    "2) обучать N бустингов на бустрапированной выборке, а затем предикт усреднять"
   ]
  },
  {
   "cell_type": "markdown",
   "metadata": {},
   "source": [
    "Попробуйте обе этих стратегии на данных из прошлого задания. Получилось ли улучшить качество? Почему?"
   ]
  },
  {
   "cell_type": "markdown",
   "metadata": {
    "collapsed": true
   },
   "source": [
    "# 1"
   ]
  },
  {
   "cell_type": "code",
   "execution_count": 53,
   "metadata": {},
   "outputs": [],
   "source": [
    "from sklearn.ensemble import RandomForestRegressor, BaggingClassifier"
   ]
  },
  {
   "cell_type": "code",
   "execution_count": 54,
   "metadata": {},
   "outputs": [],
   "source": [
    "my_clf.fit(X_train, y_train, base_model = RandomForestRegressor)"
   ]
  },
  {
   "cell_type": "code",
   "execution_count": 55,
   "metadata": {},
   "outputs": [
    {
     "data": {
      "text/plain": [
       "0.7693798449612403"
      ]
     },
     "execution_count": 55,
     "metadata": {},
     "output_type": "execute_result"
    }
   ],
   "source": [
    "y_pred = my_clf.predict(X_test)\n",
    "accuracy_score(y_pred, y_test)"
   ]
  },
  {
   "cell_type": "markdown",
   "metadata": {},
   "source": [
    "Результат стал хуже. "
   ]
  },
  {
   "cell_type": "markdown",
   "metadata": {},
   "source": [
    "# 2"
   ]
  },
  {
   "cell_type": "code",
   "execution_count": 61,
   "metadata": {},
   "outputs": [
    {
     "data": {
      "text/plain": [
       "BaggingClassifier(base_estimator=<__main__.MyGradientBoostingClassifier object at 0x0000021CDCBEF100>,\n",
       "                  n_estimators=20)"
      ]
     },
     "execution_count": 61,
     "metadata": {},
     "output_type": "execute_result"
    }
   ],
   "source": [
    "bag_clf = BaggingClassifier(base_estimator =  MyGradientBoostingClassifier(n_estimators_ = 250, loss_ = 'MSE', learning_rate_ = 0.02,  colsample_ = 1.0, subsample_ = 1.0), n_estimators = 20)\n",
    "bag_clf.fit(X_train, y_train)"
   ]
  },
  {
   "cell_type": "code",
   "execution_count": 62,
   "metadata": {},
   "outputs": [
    {
     "data": {
      "text/plain": [
       "0.8706395348837209"
      ]
     },
     "execution_count": 62,
     "metadata": {},
     "output_type": "execute_result"
    }
   ],
   "source": [
    "accuracy_score(y_pred=bag_clf.predict(X_test), y_true=y_test)"
   ]
  },
  {
   "cell_type": "markdown",
   "metadata": {},
   "source": [
    "Результат стал лучше, так как несколько моделей с большей вероятностью угадают правильный ответ, чем одна"
   ]
  },
  {
   "cell_type": "markdown",
   "metadata": {
    "collapsed": true
   },
   "source": [
    "## Умная инициализация (1 балл)\n",
    "\n",
    "Попробуйте брать в качестве инициализации бустинга не константу, а какой-то алгоритм и уже от его предикта стартовать итерации бустинга. Попробуйте разные модели из sklearn: линейные модели, рандом форест, svm..\n",
    "\n",
    "Получилось ли улучшить качество? Почему?\n",
    "\n"
   ]
  },
  {
   "cell_type": "code",
   "execution_count": 71,
   "metadata": {},
   "outputs": [
    {
     "data": {
      "text/plain": [
       "0.8551356589147286"
      ]
     },
     "execution_count": 71,
     "metadata": {},
     "output_type": "execute_result"
    }
   ],
   "source": [
    "from sklearn.linear_model import LinearRegression\n",
    "\n",
    "my_clf = MyGradientBoostingClassifier(n_estimators_ = 250, loss_ = 'MSE', learning_rate_ = 0.02,  colsample_ = 1.0, subsample_ = 1.0)\n",
    "my_clf.fit(X_train, y_train, init_model = LinearRegression)\n",
    "\n",
    "y_pred = my_clf.predict(X_test)\n",
    "accuracy_score(y_pred, y_test)"
   ]
  },
  {
   "cell_type": "code",
   "execution_count": 72,
   "metadata": {},
   "outputs": [
    {
     "data": {
      "text/plain": [
       "0.8103197674418605"
      ]
     },
     "execution_count": 72,
     "metadata": {},
     "output_type": "execute_result"
    }
   ],
   "source": [
    "from sklearn.svm import SVR\n",
    "\n",
    "my_clf = MyGradientBoostingClassifier(n_estimators_ = 250, loss_ = 'MSE', learning_rate_ = 0.02,  colsample_ = 1.0, subsample_ = 1.0)\n",
    "my_clf.fit(X_train, y_train, init_model = SVR)\n",
    "\n",
    "y_pred = my_clf.predict(X_test)\n",
    "accuracy_score(y_pred, y_test)"
   ]
  },
  {
   "cell_type": "code",
   "execution_count": 73,
   "metadata": {},
   "outputs": [
    {
     "data": {
      "text/plain": [
       "0.8871124031007752"
      ]
     },
     "execution_count": 73,
     "metadata": {},
     "output_type": "execute_result"
    }
   ],
   "source": [
    "my_clf = MyGradientBoostingClassifier(n_estimators_ = 250, loss_ = 'MSE', learning_rate_ = 0.02,  colsample_ = 1.0, subsample_ = 1.0)\n",
    "my_clf.fit(X_train, y_train, init_model = RandomForestRegressor)\n",
    "\n",
    "y_pred = my_clf.predict(X_test)\n",
    "accuracy_score(y_pred, y_test)"
   ]
  },
  {
   "cell_type": "markdown",
   "metadata": {},
   "source": [
    "Качество немного улучашется, так как инициализация с начальной моделью позволяет найти еще больше зависимостей в данных"
   ]
  },
  {
   "cell_type": "code",
   "execution_count": null,
   "metadata": {},
   "outputs": [],
   "source": []
  },
  {
   "cell_type": "markdown",
   "metadata": {},
   "source": [
    "## Фидбек (бесценно)"
   ]
  },
  {
   "cell_type": "markdown",
   "metadata": {},
   "source": [
    "* Какие аспекты обучения  ансамблей Вам показались непонятными? Какое место стоит дополнительно объяснить?"
   ]
  },
  {
   "cell_type": "markdown",
   "metadata": {},
   "source": [
    "### Ваш ответ здесь"
   ]
  },
  {
   "cell_type": "markdown",
   "metadata": {},
   "source": [
    "* Здесь Вы можете оставить отзыв о этой домашней работе или о всем курсе."
   ]
  },
  {
   "cell_type": "markdown",
   "metadata": {},
   "source": [
    "### ВАШ ОТЗЫВ ЗДЕСЬ\n",
    "\n"
   ]
  },
  {
   "cell_type": "code",
   "execution_count": null,
   "metadata": {
    "collapsed": true
   },
   "outputs": [],
   "source": []
  },
  {
   "cell_type": "code",
   "execution_count": null,
   "metadata": {
    "collapsed": true
   },
   "outputs": [],
   "source": []
  }
 ],
 "metadata": {
  "anaconda-cloud": {},
  "kernelspec": {
   "display_name": "Python 3",
   "language": "python",
   "name": "python3"
  },
  "language_info": {
   "codemirror_mode": {
    "name": "ipython",
    "version": 3
   },
   "file_extension": ".py",
   "mimetype": "text/x-python",
   "name": "python",
   "nbconvert_exporter": "python",
   "pygments_lexer": "ipython3",
   "version": "3.8.6"
  }
 },
 "nbformat": 4,
 "nbformat_minor": 2
}
